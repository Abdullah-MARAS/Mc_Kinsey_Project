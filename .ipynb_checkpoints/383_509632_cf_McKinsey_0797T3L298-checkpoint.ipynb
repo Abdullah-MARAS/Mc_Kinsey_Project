{
 "cells": [
  {
   "cell_type": "code",
   "execution_count": 3,
   "metadata": {
    "collapsed": true
   },
   "outputs": [],
   "source": [
    "import pandas as pd"
   ]
  },
  {
   "cell_type": "code",
   "execution_count": 4,
   "metadata": {
    "collapsed": true
   },
   "outputs": [],
   "source": [
    "import numpy as np"
   ]
  },
  {
   "cell_type": "code",
   "execution_count": 5,
   "metadata": {
    "collapsed": true
   },
   "outputs": [],
   "source": [
    "import seaborn as sns"
   ]
  },
  {
   "cell_type": "code",
   "execution_count": 6,
   "metadata": {
    "collapsed": true
   },
   "outputs": [],
   "source": [
    "import xgboost as xgb"
   ]
  },
  {
   "cell_type": "code",
   "execution_count": 7,
   "metadata": {
    "collapsed": true
   },
   "outputs": [],
   "source": [
    "import matplotlib as mlp\n",
    "%matplotlib inline"
   ]
  },
  {
   "cell_type": "code",
   "execution_count": 8,
   "metadata": {
    "collapsed": true
   },
   "outputs": [],
   "source": [
    "df_test= pd.read_csv(r\"C:\\Users\\aniru\\OneDrive\\Desktop\\test.csv\")"
   ]
  },
  {
   "cell_type": "code",
   "execution_count": 9,
   "metadata": {
    "collapsed": true
   },
   "outputs": [],
   "source": [
    "df_train= pd.read_csv(r\"C:\\Users\\aniru\\OneDrive\\Desktop\\train.csv\")"
   ]
  },
  {
   "cell_type": "code",
   "execution_count": 10,
   "metadata": {},
   "outputs": [
    {
     "data": {
      "text/html": [
       "<div>\n",
       "<style scoped>\n",
       "    .dataframe tbody tr th:only-of-type {\n",
       "        vertical-align: middle;\n",
       "    }\n",
       "\n",
       "    .dataframe tbody tr th {\n",
       "        vertical-align: top;\n",
       "    }\n",
       "\n",
       "    .dataframe thead th {\n",
       "        text-align: right;\n",
       "    }\n",
       "</style>\n",
       "<table border=\"1\" class=\"dataframe\">\n",
       "  <thead>\n",
       "    <tr style=\"text-align: right;\">\n",
       "      <th></th>\n",
       "      <th>id</th>\n",
       "      <th>perc_premium_paid_by_cash_credit</th>\n",
       "      <th>age_in_days</th>\n",
       "      <th>Income</th>\n",
       "      <th>Count_3-6_months_late</th>\n",
       "      <th>Count_6-12_months_late</th>\n",
       "      <th>Count_more_than_12_months_late</th>\n",
       "      <th>application_underwriting_score</th>\n",
       "      <th>no_of_premiums_paid</th>\n",
       "      <th>sourcing_channel</th>\n",
       "      <th>residence_area_type</th>\n",
       "      <th>premium</th>\n",
       "      <th>renewal</th>\n",
       "    </tr>\n",
       "  </thead>\n",
       "  <tbody>\n",
       "    <tr>\n",
       "      <th>0</th>\n",
       "      <td>110936</td>\n",
       "      <td>0.429</td>\n",
       "      <td>12058</td>\n",
       "      <td>355060</td>\n",
       "      <td>0.0</td>\n",
       "      <td>0.0</td>\n",
       "      <td>0.0</td>\n",
       "      <td>99.02</td>\n",
       "      <td>13</td>\n",
       "      <td>C</td>\n",
       "      <td>Urban</td>\n",
       "      <td>3300</td>\n",
       "      <td>1</td>\n",
       "    </tr>\n",
       "    <tr>\n",
       "      <th>1</th>\n",
       "      <td>41492</td>\n",
       "      <td>0.010</td>\n",
       "      <td>21546</td>\n",
       "      <td>315150</td>\n",
       "      <td>0.0</td>\n",
       "      <td>0.0</td>\n",
       "      <td>0.0</td>\n",
       "      <td>99.89</td>\n",
       "      <td>21</td>\n",
       "      <td>A</td>\n",
       "      <td>Urban</td>\n",
       "      <td>18000</td>\n",
       "      <td>1</td>\n",
       "    </tr>\n",
       "    <tr>\n",
       "      <th>2</th>\n",
       "      <td>31300</td>\n",
       "      <td>0.917</td>\n",
       "      <td>17531</td>\n",
       "      <td>84140</td>\n",
       "      <td>2.0</td>\n",
       "      <td>3.0</td>\n",
       "      <td>1.0</td>\n",
       "      <td>98.69</td>\n",
       "      <td>7</td>\n",
       "      <td>C</td>\n",
       "      <td>Rural</td>\n",
       "      <td>3300</td>\n",
       "      <td>0</td>\n",
       "    </tr>\n",
       "    <tr>\n",
       "      <th>3</th>\n",
       "      <td>19415</td>\n",
       "      <td>0.049</td>\n",
       "      <td>15341</td>\n",
       "      <td>250510</td>\n",
       "      <td>0.0</td>\n",
       "      <td>0.0</td>\n",
       "      <td>0.0</td>\n",
       "      <td>99.57</td>\n",
       "      <td>9</td>\n",
       "      <td>A</td>\n",
       "      <td>Urban</td>\n",
       "      <td>9600</td>\n",
       "      <td>1</td>\n",
       "    </tr>\n",
       "    <tr>\n",
       "      <th>4</th>\n",
       "      <td>99379</td>\n",
       "      <td>0.052</td>\n",
       "      <td>31400</td>\n",
       "      <td>198680</td>\n",
       "      <td>0.0</td>\n",
       "      <td>0.0</td>\n",
       "      <td>0.0</td>\n",
       "      <td>99.87</td>\n",
       "      <td>12</td>\n",
       "      <td>B</td>\n",
       "      <td>Urban</td>\n",
       "      <td>9600</td>\n",
       "      <td>1</td>\n",
       "    </tr>\n",
       "  </tbody>\n",
       "</table>\n",
       "</div>"
      ],
      "text/plain": [
       "       id  perc_premium_paid_by_cash_credit  age_in_days  Income  \\\n",
       "0  110936                             0.429        12058  355060   \n",
       "1   41492                             0.010        21546  315150   \n",
       "2   31300                             0.917        17531   84140   \n",
       "3   19415                             0.049        15341  250510   \n",
       "4   99379                             0.052        31400  198680   \n",
       "\n",
       "   Count_3-6_months_late  Count_6-12_months_late  \\\n",
       "0                    0.0                     0.0   \n",
       "1                    0.0                     0.0   \n",
       "2                    2.0                     3.0   \n",
       "3                    0.0                     0.0   \n",
       "4                    0.0                     0.0   \n",
       "\n",
       "   Count_more_than_12_months_late  application_underwriting_score  \\\n",
       "0                             0.0                           99.02   \n",
       "1                             0.0                           99.89   \n",
       "2                             1.0                           98.69   \n",
       "3                             0.0                           99.57   \n",
       "4                             0.0                           99.87   \n",
       "\n",
       "   no_of_premiums_paid sourcing_channel residence_area_type  premium  renewal  \n",
       "0                   13                C               Urban     3300        1  \n",
       "1                   21                A               Urban    18000        1  \n",
       "2                    7                C               Rural     3300        0  \n",
       "3                    9                A               Urban     9600        1  \n",
       "4                   12                B               Urban     9600        1  "
      ]
     },
     "execution_count": 10,
     "metadata": {},
     "output_type": "execute_result"
    }
   ],
   "source": [
    "df_train.head(5)"
   ]
  },
  {
   "cell_type": "code",
   "execution_count": 11,
   "metadata": {},
   "outputs": [
    {
     "data": {
      "text/html": [
       "<div>\n",
       "<style scoped>\n",
       "    .dataframe tbody tr th:only-of-type {\n",
       "        vertical-align: middle;\n",
       "    }\n",
       "\n",
       "    .dataframe tbody tr th {\n",
       "        vertical-align: top;\n",
       "    }\n",
       "\n",
       "    .dataframe thead th {\n",
       "        text-align: right;\n",
       "    }\n",
       "</style>\n",
       "<table border=\"1\" class=\"dataframe\">\n",
       "  <thead>\n",
       "    <tr style=\"text-align: right;\">\n",
       "      <th></th>\n",
       "      <th>id</th>\n",
       "      <th>perc_premium_paid_by_cash_credit</th>\n",
       "      <th>age_in_days</th>\n",
       "      <th>Income</th>\n",
       "      <th>Count_3-6_months_late</th>\n",
       "      <th>Count_6-12_months_late</th>\n",
       "      <th>Count_more_than_12_months_late</th>\n",
       "      <th>application_underwriting_score</th>\n",
       "      <th>no_of_premiums_paid</th>\n",
       "      <th>sourcing_channel</th>\n",
       "      <th>residence_area_type</th>\n",
       "      <th>premium</th>\n",
       "    </tr>\n",
       "  </thead>\n",
       "  <tbody>\n",
       "    <tr>\n",
       "      <th>0</th>\n",
       "      <td>649</td>\n",
       "      <td>0.001</td>\n",
       "      <td>27384</td>\n",
       "      <td>51150</td>\n",
       "      <td>0.0</td>\n",
       "      <td>0.0</td>\n",
       "      <td>0.0</td>\n",
       "      <td>99.89</td>\n",
       "      <td>7</td>\n",
       "      <td>A</td>\n",
       "      <td>Rural</td>\n",
       "      <td>3300</td>\n",
       "    </tr>\n",
       "    <tr>\n",
       "      <th>1</th>\n",
       "      <td>81136</td>\n",
       "      <td>0.124</td>\n",
       "      <td>23735</td>\n",
       "      <td>285140</td>\n",
       "      <td>0.0</td>\n",
       "      <td>0.0</td>\n",
       "      <td>0.0</td>\n",
       "      <td>98.93</td>\n",
       "      <td>19</td>\n",
       "      <td>A</td>\n",
       "      <td>Urban</td>\n",
       "      <td>11700</td>\n",
       "    </tr>\n",
       "    <tr>\n",
       "      <th>2</th>\n",
       "      <td>70762</td>\n",
       "      <td>1.000</td>\n",
       "      <td>17170</td>\n",
       "      <td>186030</td>\n",
       "      <td>0.0</td>\n",
       "      <td>0.0</td>\n",
       "      <td>0.0</td>\n",
       "      <td>NaN</td>\n",
       "      <td>2</td>\n",
       "      <td>B</td>\n",
       "      <td>Urban</td>\n",
       "      <td>11700</td>\n",
       "    </tr>\n",
       "    <tr>\n",
       "      <th>3</th>\n",
       "      <td>53935</td>\n",
       "      <td>0.198</td>\n",
       "      <td>16068</td>\n",
       "      <td>123540</td>\n",
       "      <td>0.0</td>\n",
       "      <td>0.0</td>\n",
       "      <td>0.0</td>\n",
       "      <td>99.00</td>\n",
       "      <td>11</td>\n",
       "      <td>B</td>\n",
       "      <td>Rural</td>\n",
       "      <td>5400</td>\n",
       "    </tr>\n",
       "    <tr>\n",
       "      <th>4</th>\n",
       "      <td>15476</td>\n",
       "      <td>0.041</td>\n",
       "      <td>10591</td>\n",
       "      <td>200020</td>\n",
       "      <td>1.0</td>\n",
       "      <td>0.0</td>\n",
       "      <td>0.0</td>\n",
       "      <td>99.17</td>\n",
       "      <td>14</td>\n",
       "      <td>A</td>\n",
       "      <td>Rural</td>\n",
       "      <td>9600</td>\n",
       "    </tr>\n",
       "  </tbody>\n",
       "</table>\n",
       "</div>"
      ],
      "text/plain": [
       "      id  perc_premium_paid_by_cash_credit  age_in_days  Income  \\\n",
       "0    649                             0.001        27384   51150   \n",
       "1  81136                             0.124        23735  285140   \n",
       "2  70762                             1.000        17170  186030   \n",
       "3  53935                             0.198        16068  123540   \n",
       "4  15476                             0.041        10591  200020   \n",
       "\n",
       "   Count_3-6_months_late  Count_6-12_months_late  \\\n",
       "0                    0.0                     0.0   \n",
       "1                    0.0                     0.0   \n",
       "2                    0.0                     0.0   \n",
       "3                    0.0                     0.0   \n",
       "4                    1.0                     0.0   \n",
       "\n",
       "   Count_more_than_12_months_late  application_underwriting_score  \\\n",
       "0                             0.0                           99.89   \n",
       "1                             0.0                           98.93   \n",
       "2                             0.0                             NaN   \n",
       "3                             0.0                           99.00   \n",
       "4                             0.0                           99.17   \n",
       "\n",
       "   no_of_premiums_paid sourcing_channel residence_area_type  premium  \n",
       "0                    7                A               Rural     3300  \n",
       "1                   19                A               Urban    11700  \n",
       "2                    2                B               Urban    11700  \n",
       "3                   11                B               Rural     5400  \n",
       "4                   14                A               Rural     9600  "
      ]
     },
     "execution_count": 11,
     "metadata": {},
     "output_type": "execute_result"
    }
   ],
   "source": [
    "df_test.head(5)"
   ]
  },
  {
   "cell_type": "code",
   "execution_count": 12,
   "metadata": {
    "collapsed": true
   },
   "outputs": [],
   "source": [
    "#Saving the ID\n",
    "train_id= df_train[\"id\"]\n",
    "test_id= df_test[\"id\"]"
   ]
  },
  {
   "cell_type": "code",
   "execution_count": 13,
   "metadata": {
    "collapsed": true
   },
   "outputs": [],
   "source": [
    "df_train.drop(\"id\", axis = 1, inplace = True)\n",
    "df_test.drop(\"id\", axis = 1, inplace = True)"
   ]
  },
  {
   "cell_type": "code",
   "execution_count": 14,
   "metadata": {
    "collapsed": true
   },
   "outputs": [],
   "source": [
    "import matplotlib.pyplot as plt"
   ]
  },
  {
   "cell_type": "code",
   "execution_count": 15,
   "metadata": {
    "collapsed": true
   },
   "outputs": [],
   "source": [
    "a = list(df_train['perc_premium_paid_by_cash_credit'])"
   ]
  },
  {
   "cell_type": "code",
   "execution_count": 16,
   "metadata": {},
   "outputs": [
    {
     "data": {
      "text/plain": [
       "1.0"
      ]
     },
     "execution_count": 16,
     "metadata": {},
     "output_type": "execute_result"
    }
   ],
   "source": [
    "max(a)"
   ]
  },
  {
   "cell_type": "code",
   "execution_count": 17,
   "metadata": {},
   "outputs": [
    {
     "data": {
      "text/plain": [
       "0.0"
      ]
     },
     "execution_count": 17,
     "metadata": {},
     "output_type": "execute_result"
    }
   ],
   "source": [
    "min(a)"
   ]
  },
  {
   "cell_type": "code",
   "execution_count": 18,
   "metadata": {},
   "outputs": [
    {
     "data": {
      "image/png": "[encoded data removed]",
      "text/plain": [
       "<Figure size 1080x360 with 1 Axes>"
      ]
     },
     "metadata": {},
     "output_type": "display_data"
    }
   ],
   "source": [
    "plt.subplots(figsize=(15, 5))\n",
    "plt.subplot(1, 2, 1)\n",
    "g = sns.regplot(x=df_train['premium'], y=df_train['Income'], fit_reg=False).set_title(\"Outlier Analysis\")"
   ]
  },
  {
   "cell_type": "code",
   "execution_count": 19,
   "metadata": {},
   "outputs": [
    {
     "data": {
      "image/png": "[encoded data removed]",
      "text/plain": [
       "<Figure size 432x288 with 1 Axes>"
      ]
     },
     "metadata": {},
     "output_type": "display_data"
    }
   ],
   "source": [
    "plt.subplot(1, 2, 2)                                                                                \n",
    "df_train = df_train.drop(df_train[(df_train['Income']>20000000)].index)\n"
   ]
  },
  {
   "cell_type": "code",
   "execution_count": 20,
   "metadata": {},
   "outputs": [
    {
     "data": {
      "image/png": "[encoded data removed]",
      "text/plain": [
       "<Figure size 432x288 with 1 Axes>"
      ]
     },
     "metadata": {},
     "output_type": "display_data"
    }
   ],
   "source": [
    "g = sns.regplot(x=df_train['premium'], y=df_train['Income'], fit_reg=False).set_title(\"Outlier Analysis\")"
   ]
  },
  {
   "cell_type": "code",
   "execution_count": 21,
   "metadata": {},
   "outputs": [
    {
     "data": {
      "image/png": "[encoded data removed]",
      "text/plain": [
       "<Figure size 432x288 with 1 Axes>"
      ]
     },
     "metadata": {},
     "output_type": "display_data"
    }
   ],
   "source": [
    "plt.subplot(1, 2, 2)                                                                                \n",
    "df_train = df_train.drop(df_train[(df_train['Income']>5000000)].index)\n",
    "g = sns.regplot(x=df_train['premium'], y=df_train['Income'], fit_reg=False).set_title(\"Outlier Analysis\")"
   ]
  },
  {
   "cell_type": "code",
   "execution_count": 22,
   "metadata": {},
   "outputs": [
    {
     "data": {
      "image/png": "[encoded data removed]",
      "text/plain": [
       "<Figure size 1080x360 with 1 Axes>"
      ]
     },
     "metadata": {},
     "output_type": "display_data"
    }
   ],
   "source": [
    "plt.subplots(figsize=(15, 5))\n",
    "plt.subplot(1, 2, 1)\n",
    "g = sns.regplot(x=df_train['premium'], y=df_train['no_of_premiums_paid'], fit_reg=False).set_title(\"Outlier Analysis\")"
   ]
  },
  {
   "cell_type": "code",
   "execution_count": 23,
   "metadata": {
    "collapsed": true
   },
   "outputs": [],
   "source": [
    "#savinf the length for use later\n",
    "\n",
    "ntrain = df_train.shape[0]\n",
    "ntest = df_test.shape[0]"
   ]
  },
  {
   "cell_type": "code",
   "execution_count": 24,
   "metadata": {
    "collapsed": true
   },
   "outputs": [],
   "source": [
    "y_train = df_train.renewal.values\n"
   ]
  },
  {
   "cell_type": "code",
   "execution_count": 25,
   "metadata": {},
   "outputs": [
    {
     "name": "stdout",
     "output_type": "stream",
     "text": [
      "all_data shape: (114051, 11)\n"
     ]
    },
    {
     "name": "stderr",
     "output_type": "stream",
     "text": [
      "C:\\Users\\aniru\\Anaconda3\\lib\\site-packages\\ipykernel_launcher.py:3: FutureWarning: Sorting because non-concatenation axis is not aligned. A future version\n",
      "of pandas will change to not sort by default.\n",
      "\n",
      "To accept the future behavior, pass 'sort=False'.\n",
      "\n",
      "To retain the current behavior and silence the warning, pass 'sort=True'.\n",
      "\n",
      "  This is separate from the ipykernel package so we can avoid doing imports until\n"
     ]
    }
   ],
   "source": [
    "#Concatenate train and test data\n",
    "\n",
    "all_data = pd.concat((df_train, df_test)).reset_index(drop=True)\n",
    "all_data.drop(['renewal'], axis=1, inplace=True)\n",
    "\n",
    "print(\"all_data shape: {}\".format(all_data.shape))"
   ]
  },
  {
   "cell_type": "code",
   "execution_count": 26,
   "metadata": {},
   "outputs": [
    {
     "data": {
      "image/png": "[encoded data removed]",
      "text/plain": [
       "<Figure size 1080x720 with 1 Axes>"
      ]
     },
     "metadata": {},
     "output_type": "display_data"
    }
   ],
   "source": [
    "all_data_na = all_data.isnull().sum()\n",
    "\n",
    "# get rid of all the values with 0 missing values\n",
    "all_data_na = all_data_na.drop(all_data_na[all_data_na == 0].index).sort_values(ascending=False)\n",
    "plt.subplots(figsize =(15, 10))\n",
    "all_data_na.plot(kind='bar');"
   ]
  },
  {
   "cell_type": "code",
   "execution_count": 27,
   "metadata": {
    "collapsed": true
   },
   "outputs": [],
   "source": [
    "all_data['application_underwriting_score'] = all_data['application_underwriting_score'].fillna(all_data['application_underwriting_score'].mode()[0])"
   ]
  },
  {
   "cell_type": "code",
   "execution_count": 28,
   "metadata": {
    "collapsed": true
   },
   "outputs": [],
   "source": [
    "all_data['Count_more_than_12_months_late'] = all_data['Count_more_than_12_months_late'].fillna(all_data['Count_more_than_12_months_late'].mode()[0])\n",
    "all_data['Count_3-6_months_late'] = all_data['Count_3-6_months_late'].fillna(all_data['Count_3-6_months_late'].mode()[0])\n",
    "all_data['Count_6-12_months_late'] = all_data['Count_6-12_months_late'].fillna(all_data['Count_6-12_months_late'].mode()[0])"
   ]
  },
  {
   "cell_type": "code",
   "execution_count": 29,
   "metadata": {},
   "outputs": [
    {
     "name": "stdout",
     "output_type": "stream",
     "text": [
      "('Features with missing values: ', Series([], dtype: int64))\n"
     ]
    }
   ],
   "source": [
    "all_data_na = all_data.isnull().sum()\n",
    "print(\"Features with missing values: \", all_data_na.drop(all_data_na[all_data_na == 0].index))"
   ]
  },
  {
   "cell_type": "code",
   "execution_count": 30,
   "metadata": {
    "collapsed": true
   },
   "outputs": [],
   "source": [
    "import seaborn as sns\n",
    "mycols = [\"#66c2ff\", \"#5cd6d6\", \"#00cc99\", \"#85e085\", \"#ffd966\", \"#ffb366\", \"#ffb3b3\", \"#dab3ff\", \"#c2c2d6\"]\n",
    "sns.set_palette(palette = mycols, n_colors = 4)"
   ]
  },
  {
   "cell_type": "code",
   "execution_count": 31,
   "metadata": {},
   "outputs": [
    {
     "data": {
      "image/png": "[encoded data removed]",
      "text/plain": [
       "<Figure size 2880x2880 with 2 Axes>"
      ]
     },
     "metadata": {},
     "output_type": "display_data"
    }
   ],
   "source": [
    "corr = df_train.corr()\n",
    "plt.subplots(figsize=(40, 40))\n",
    "cmap = sns.diverging_palette(150, 250, as_cmap=True)\n",
    "sns.heatmap(corr, cmap=\"RdYlBu\", vmax=1, vmin=-0.6, center=0.2, square=True, linewidths=0, cbar_kws={\"shrink\": .5}, annot = True);"
   ]
  },
  {
   "cell_type": "code",
   "execution_count": 32,
   "metadata": {
    "collapsed": true
   },
   "outputs": [],
   "source": [
    "#Important features for Renewal\n",
    "#1. Age: age_in_days\n",
    "#2. Application underwriting score: application_underwriting_score\n",
    "#3. Income\n",
    "#4. premium\n",
    "#5. no. of premiums paid"
   ]
  },
  {
   "cell_type": "code",
   "execution_count": 33,
   "metadata": {
    "collapsed": true
   },
   "outputs": [],
   "source": [
    "all_data[\"age_in_days-2\"] = all_data[\"age_in_days\"] ** 2"
   ]
  },
  {
   "cell_type": "code",
   "execution_count": 34,
   "metadata": {
    "collapsed": true
   },
   "outputs": [],
   "source": [
    "all_data[\"application_underwriting_score-2\"] = all_data[\"application_underwriting_score\"] ** 2"
   ]
  },
  {
   "cell_type": "code",
   "execution_count": 35,
   "metadata": {
    "collapsed": true
   },
   "outputs": [],
   "source": [
    "all_data[\"premium-2\"] = all_data[\"premium\"] ** 2"
   ]
  },
  {
   "cell_type": "code",
   "execution_count": 36,
   "metadata": {
    "collapsed": true
   },
   "outputs": [],
   "source": [
    "all_data[\"Income-2\"] = all_data[\"Income\"] ** 2\n",
    "all_data[\"no_of_premiums_paid-2\"] = all_data[\"no_of_premiums_paid\"] ** 2"
   ]
  },
  {
   "cell_type": "code",
   "execution_count": 37,
   "metadata": {
    "collapsed": true
   },
   "outputs": [],
   "source": [
    "all_data[\"age_in_days-3\"] = all_data[\"age_in_days\"] ** 3\n",
    "all_data[\"application_underwriting_score-3\"] = all_data[\"application_underwriting_score\"] ** 3\n",
    "all_data[\"premium-3\"] = all_data[\"premium\"] ** 3\n",
    "all_data[\"Income-3\"] = all_data[\"Income\"] ** 3\n",
    "all_data[\"no_of_premiums_paid-3\"] = all_data[\"no_of_premiums_paid\"] ** 3"
   ]
  },
  {
   "cell_type": "code",
   "execution_count": 38,
   "metadata": {
    "collapsed": true
   },
   "outputs": [],
   "source": [
    "all_data[\"age_in_days-sqrt\"] = np.sqrt(all_data[\"age_in_days\"]) \n",
    "all_data[\"application_underwriting_score-sqrt\"] = np.sqrt(all_data[\"application_underwriting_score\"])\n",
    "all_data[\"premium-sqrt\"] = np.sqrt(all_data[\"premium\"]) \n",
    "all_data[\"Income-sqrt\"] = np.sqrt(all_data[\"Income\"]) \n",
    "all_data[\"no_of_premiums_paid-sqrt\"] = np.sqrt(all_data[\"no_of_premiums_paid\"])"
   ]
  },
  {
   "cell_type": "code",
   "execution_count": 39,
   "metadata": {
    "scrolled": true
   },
   "outputs": [
    {
     "data": {
      "image/png": "[encoded data removed]",
      "text/plain": [
       "<Figure size 1440x360 with 1 Axes>"
      ]
     },
     "metadata": {},
     "output_type": "display_data"
    }
   ],
   "source": [
    "plt.subplots(figsize =(20, 5))\n",
    "\n",
    "plt.subplot(1, 3, 1)\n",
    "sns.boxplot(x=\"sourcing_channel\", y=\"age_in_days\", data=df_train);\n"
   ]
  },
  {
   "cell_type": "code",
   "execution_count": 40,
   "metadata": {},
   "outputs": [
    {
     "data": {
      "image/png": "[encoded data removed]",
      "text/plain": [
       "<Figure size 432x288 with 1 Axes>"
      ]
     },
     "metadata": {},
     "output_type": "display_data"
    }
   ],
   "source": [
    "plt.subplot(1, 3, 2)\n",
    "sns.stripplot(x=\"sourcing_channel\", y=\"age_in_days\", data=df_train, size = 5, jitter = True,);\n",
    "\n"
   ]
  },
  {
   "cell_type": "code",
   "execution_count": 41,
   "metadata": {},
   "outputs": [
    {
     "data": {
      "image/png": "[encoded data removed]",
      "text/plain": [
       "<Figure size 432x288 with 1 Axes>"
      ]
     },
     "metadata": {},
     "output_type": "display_data"
    }
   ],
   "source": [
    "plt.subplot(1, 3, 3)\n",
    "sns.barplot(x=\"sourcing_channel\", y=\"age_in_days\", data=df_train);"
   ]
  },
  {
   "cell_type": "code",
   "execution_count": 42,
   "metadata": {},
   "outputs": [
    {
     "data": {
      "image/png": "[encoded data removed]",
      "text/plain": [
       "<Figure size 1440x360 with 1 Axes>"
      ]
     },
     "metadata": {},
     "output_type": "display_data"
    }
   ],
   "source": [
    "plt.subplots(figsize =(20, 5))\n",
    "\n",
    "plt.subplot(1, 3, 1)\n",
    "sns.boxplot(x=\"sourcing_channel\", y=\"application_underwriting_score\", data=df_train);\n"
   ]
  },
  {
   "cell_type": "code",
   "execution_count": 43,
   "metadata": {},
   "outputs": [
    {
     "data": {
      "image/png": "[encoded data removed]",
      "text/plain": [
       "<Figure size 432x288 with 1 Axes>"
      ]
     },
     "metadata": {},
     "output_type": "display_data"
    }
   ],
   "source": [
    "plt.subplot(1, 3, 2)\n",
    "sns.stripplot(x=\"sourcing_channel\", y=\"application_underwriting_score\", data=df_train, size = 5, jitter = True,);"
   ]
  },
  {
   "cell_type": "code",
   "execution_count": 44,
   "metadata": {},
   "outputs": [
    {
     "data": {
      "image/png": "[encoded data removed]",
      "text/plain": [
       "<Figure size 432x288 with 1 Axes>"
      ]
     },
     "metadata": {},
     "output_type": "display_data"
    }
   ],
   "source": [
    "plt.subplot(1, 3, 3)\n",
    "sns.barplot(x=\"sourcing_channel\", y=\"application_underwriting_score\", data=df_train);"
   ]
  },
  {
   "cell_type": "code",
   "execution_count": 45,
   "metadata": {},
   "outputs": [
    {
     "data": {
      "text/plain": [
       "array([2, 4, 3, 1], dtype=int64)"
      ]
     },
     "execution_count": 45,
     "metadata": {},
     "output_type": "execute_result"
    }
   ],
   "source": [
    "all_data['sourcing_channel'] = all_data['sourcing_channel'].map({\"A\":4, \"B\":3, \"C\":2, \"D\":1, \"E\":2})\n",
    "all_data['sourcing_channel'].unique()"
   ]
  },
  {
   "cell_type": "code",
   "execution_count": 46,
   "metadata": {},
   "outputs": [
    {
     "data": {
      "text/plain": [
       "0         2\n",
       "1         4\n",
       "2         2\n",
       "3         4\n",
       "4         3\n",
       "5         3\n",
       "6         3\n",
       "7         4\n",
       "8         4\n",
       "9         4\n",
       "10        2\n",
       "11        3\n",
       "12        4\n",
       "13        4\n",
       "14        1\n",
       "15        4\n",
       "16        4\n",
       "17        4\n",
       "18        4\n",
       "19        2\n",
       "20        4\n",
       "21        4\n",
       "22        4\n",
       "23        2\n",
       "24        4\n",
       "25        4\n",
       "26        4\n",
       "27        2\n",
       "28        4\n",
       "29        3\n",
       "         ..\n",
       "114021    3\n",
       "114022    4\n",
       "114023    4\n",
       "114024    2\n",
       "114025    4\n",
       "114026    4\n",
       "114027    3\n",
       "114028    4\n",
       "114029    4\n",
       "114030    3\n",
       "114031    3\n",
       "114032    2\n",
       "114033    3\n",
       "114034    1\n",
       "114035    2\n",
       "114036    4\n",
       "114037    2\n",
       "114038    4\n",
       "114039    3\n",
       "114040    1\n",
       "114041    4\n",
       "114042    4\n",
       "114043    2\n",
       "114044    4\n",
       "114045    1\n",
       "114046    4\n",
       "114047    4\n",
       "114048    3\n",
       "114049    4\n",
       "114050    4\n",
       "Name: sourcing_channel, Length: 114051, dtype: int64"
      ]
     },
     "execution_count": 46,
     "metadata": {},
     "output_type": "execute_result"
    }
   ],
   "source": [
    "all_data['sourcing_channel']"
   ]
  },
  {
   "cell_type": "code",
   "execution_count": 47,
   "metadata": {},
   "outputs": [
    {
     "data": {
      "image/png": "[encoded data removed]",
      "text/plain": [
       "<Figure size 1440x360 with 1 Axes>"
      ]
     },
     "metadata": {},
     "output_type": "display_data"
    }
   ],
   "source": [
    "plt.subplots(figsize =(20, 5))\n",
    "\n",
    "plt.subplot(1, 3, 1)\n",
    "sns.boxplot(x=\"residence_area_type\", y=\"application_underwriting_score\", data=df_train);\n"
   ]
  },
  {
   "cell_type": "code",
   "execution_count": 48,
   "metadata": {},
   "outputs": [
    {
     "data": {
      "image/png": "[encoded data removed]",
      "text/plain": [
       "<Figure size 1440x360 with 1 Axes>"
      ]
     },
     "metadata": {},
     "output_type": "display_data"
    }
   ],
   "source": [
    "plt.subplots(figsize =(20, 5))\n",
    "\n",
    "plt.subplot(1, 3, 1)\n",
    "sns.boxplot(x=\"residence_area_type\", y=\"age_in_days\", data=df_train);\n"
   ]
  },
  {
   "cell_type": "code",
   "execution_count": 49,
   "metadata": {},
   "outputs": [
    {
     "data": {
      "image/png": "[encoded data removed]",
      "text/plain": [
       "<Figure size 432x288 with 1 Axes>"
      ]
     },
     "metadata": {},
     "output_type": "display_data"
    }
   ],
   "source": [
    "plt.subplot(1, 3, 3)\n",
    "sns.barplot(x=\"residence_area_type\", y=\"age_in_days\", data=df_train);"
   ]
  },
  {
   "cell_type": "code",
   "execution_count": 50,
   "metadata": {
    "collapsed": true
   },
   "outputs": [],
   "source": [
    "from sklearn.preprocessing import LabelEncoder, OneHotEncoder\n",
    "le= LabelEncoder()\n",
    "all_data[\"residence_area_type\"]=le.fit_transform(all_data[\"residence_area_type\"])\n"
   ]
  },
  {
   "cell_type": "code",
   "execution_count": 51,
   "metadata": {},
   "outputs": [
    {
     "name": "stdout",
     "output_type": "stream",
     "text": [
      "(79827, 26)\n",
      "(34224, 26)\n"
     ]
    }
   ],
   "source": [
    "train = all_data[:ntrain]\n",
    "test = all_data[ntrain:]\n",
    "\n",
    "print(train.shape)\n",
    "print(test.shape)"
   ]
  },
  {
   "cell_type": "code",
   "execution_count": 52,
   "metadata": {},
   "outputs": [
    {
     "data": {
      "text/plain": [
       "XGBClassifier(base_score=0.5, colsample_bylevel=1, colsample_bytree=1,\n",
       "       gamma=0, learning_rate=0.1, max_delta_step=0, max_depth=3,\n",
       "       min_child_weight=1, missing=None, n_estimators=100, nthread=-1,\n",
       "       objective='binary:logistic', reg_alpha=0, reg_lambda=1,\n",
       "       scale_pos_weight=1, seed=0, silent=True, subsample=1)"
      ]
     },
     "execution_count": 52,
     "metadata": {},
     "output_type": "execute_result"
    }
   ],
   "source": [
    "from xgboost import XGBClassifier\n",
    "from xgboost import plot_importance\n",
    "model = xgb.XGBClassifier()\n",
    "model.fit(train, y_train)\n",
    "\n"
   ]
  },
  {
   "cell_type": "code",
   "execution_count": 53,
   "metadata": {},
   "outputs": [
    {
     "data": {
      "image/png": "[encoded data removed]",
      "text/plain": [
       "<Figure size 1440x1080 with 1 Axes>"
      ]
     },
     "metadata": {},
     "output_type": "display_data"
    }
   ],
   "source": [
    "# Sort feature importances from GBC model trained earlier\n",
    "indices = np.argsort(model.feature_importances_)[::-1]\n",
    "indices = indices[:75]\n",
    "\n",
    "# Visualise these with a barplot\n",
    "plt.subplots(figsize=(20, 15))\n",
    "g = sns.barplot(y=train.columns[indices], x = model.feature_importances_[indices], orient='h', palette = mycols)\n",
    "g.set_xlabel(\"Relative importance\",fontsize=12)\n",
    "g.set_ylabel(\"Features\",fontsize=12)\n",
    "g.tick_params(labelsize=9)\n",
    "g.set_title(\"XGB feature importance\");"
   ]
  },
  {
   "cell_type": "code",
   "execution_count": 54,
   "metadata": {
    "collapsed": true
   },
   "outputs": [],
   "source": [
    "xgb_train = train.copy()\n",
    "xgb_test = test.copy()"
   ]
  },
  {
   "cell_type": "code",
   "execution_count": 55,
   "metadata": {},
   "outputs": [
    {
     "name": "stdout",
     "output_type": "stream",
     "text": [
      "Results of 'feature_importances_':\n",
      "('X_train: ', (79827L, 9L), '\\nX_test: ', (34224L, 9L))\n"
     ]
    }
   ],
   "source": [
    "import xgboost as xgb\n",
    "\n",
    "from sklearn.feature_selection import SelectFromModel\n",
    "\n",
    "xgb_train = train.copy()\n",
    "xgb_test = test.copy()\n",
    "\n",
    "import xgboost as xgb\n",
    "model = xgb.XGBClassifier()\n",
    "model.fit(xgb_train, y_train)\n",
    "\n",
    "# Allow the feature importances attribute to select the most important features\n",
    "xgb_feat_red = SelectFromModel(model, prefit = True)\n",
    "\n",
    "# Reduce estimation, validation and test datasets\n",
    "xgb_train = xgb_feat_red.transform(xgb_train)\n",
    "xgb_test = xgb_feat_red.transform(xgb_test)\n",
    "\n",
    "\n",
    "print(\"Results of 'feature_importances_':\")\n",
    "print('X_train: ', xgb_train.shape, '\\nX_test: ', xgb_test.shape)"
   ]
  },
  {
   "cell_type": "code",
   "execution_count": 56,
   "metadata": {
    "collapsed": true
   },
   "outputs": [],
   "source": [
    "from sklearn.model_selection import train_test_split\n",
    "from sklearn.metrics import accuracy_score\n",
    "\n",
    "X_train, X_test, Y_train, Y_test = train_test_split(xgb_train, y_train, test_size=0.3, random_state=42, stratify=y_train)"
   ]
  },
  {
   "cell_type": "code",
   "execution_count": 57,
   "metadata": {},
   "outputs": [
    {
     "name": "stdout",
     "output_type": "stream",
     "text": [
      "('X_train: ', (55878L, 9L), '\\nX_test: ', (23949L, 9L), '\\nY_train: ', (55878L,), '\\nY_test: ', (23949L,))\n"
     ]
    }
   ],
   "source": [
    "print('X_train: ', X_train.shape, '\\nX_test: ', X_test.shape, '\\nY_train: ', Y_train.shape, '\\nY_test: ', Y_test.shape)"
   ]
  },
  {
   "cell_type": "code",
   "execution_count": 58,
   "metadata": {
    "collapsed": true
   },
   "outputs": [],
   "source": [
    "from sklearn import model_selection\n",
    "from sklearn.model_selection import KFold\n",
    "from sklearn.model_selection import cross_val_score, train_test_split\n",
    "from sklearn.model_selection import GridSearchCV\n",
    "from sklearn.model_selection import ShuffleSplit\n",
    "from sklearn.metrics import roc_auc_score"
   ]
  },
  {
   "cell_type": "code",
   "execution_count": 59,
   "metadata": {
    "collapsed": true
   },
   "outputs": [],
   "source": [
    "from sklearn.pipeline import make_pipeline\n",
    "from sklearn.preprocessing import RobustScaler\n",
    "from sklearn.preprocessing import StandardScaler\n",
    "from sklearn.preprocessing import LabelEncoder\n",
    "from sklearn.feature_selection import SelectFromModel\n",
    "from sklearn.feature_selection import SelectKBest\n",
    "from sklearn.feature_selection import chi2"
   ]
  },
  {
   "cell_type": "code",
   "execution_count": 60,
   "metadata": {
    "collapsed": true
   },
   "outputs": [],
   "source": [
    "from sklearn.ensemble import RandomForestClassifier, ExtraTreesClassifier\n",
    "from sklearn.neighbors import KNeighborsClassifier\n",
    "from sklearn import svm\n",
    "import lightgbm as lgb\n",
    "import xgboost as xgb"
   ]
  },
  {
   "cell_type": "code",
   "execution_count": 61,
   "metadata": {},
   "outputs": [
    {
     "data": {
      "text/plain": [
       "XGBClassifier(base_score=0.5, colsample_bylevel=1, colsample_bytree=1,\n",
       "       gamma=0, learning_rate=0.1, max_delta_step=0, max_depth=3,\n",
       "       min_child_weight=1, missing=None, n_estimators=100, nthread=-1,\n",
       "       objective='binary:logistic', reg_alpha=0, reg_lambda=1,\n",
       "       scale_pos_weight=1, seed=0, silent=True, subsample=1)"
      ]
     },
     "execution_count": 61,
     "metadata": {},
     "output_type": "execute_result"
    }
   ],
   "source": [
    "model = XGBClassifier()\n",
    "model.fit(X_train, Y_train)"
   ]
  },
  {
   "cell_type": "code",
   "execution_count": 188,
   "metadata": {
    "collapsed": true
   },
   "outputs": [],
   "source": [
    "\n",
    "def modelfit(alg, dtrain, predictors,useTrainCV=True, cv_folds=5, early_stopping_rounds=50):\n",
    "    predictions= []\n",
    "    if useTrainCV:\n",
    "        xgb_param = alg.get_xgb_params()\n",
    "        xgtrain = xgb.DMatrix(X_train, label=Y_train)\n",
    "        cvresult = xgb.cv(xgb_param, xgtrain, num_boost_round=alg.get_params()['n_estimators'], nfold=cv_folds,\n",
    "            metrics='auc', early_stopping_rounds=early_stopping_rounds)\n",
    "        alg.set_params(n_estimators=cvresult.shape[0])\n",
    "    \n",
    "    #Fit the algorithm on the data\n",
    "    alg.fit(X_train, Y_train ,eval_metric='auc')\n",
    "        \n",
    "    #Predict training set:\n",
    "    dtrain_predictions = alg.predict(X_test)\n",
    "    predictions = alg.predict_proba(X_test)[:,1]\n",
    "    \n",
    "    \n",
    "    #Print model report:\n",
    "    #print(\"\\nModel Report\")\n",
    "    print(\"Accuracy : %.4g\" % accuracy_score(Y_test, dtrain_predictions))\n",
    "    print(\"AUC Score (Train): %f\" % roc_auc_score(Y_test, predictions))\n",
    "                    \n",
    "    feat_imp = pd.Series(alg.booster().get_fscore()).sort_values(ascending=False)\n",
    "    feat_imp.plot(kind='bar', title='Feature Importances')\n",
    "    plt.ylabel('Feature Importance Score')\n",
    "    return predictions"
   ]
  },
  {
   "cell_type": "code",
   "execution_count": 192,
   "metadata": {
    "collapsed": true
   },
   "outputs": [],
   "source": [
    "def modelfitfin(alg, dtrain, predictors,useTrainCV=True, cv_folds=5, early_stopping_rounds=50):\n",
    "    predictions= []\n",
    "    if useTrainCV:\n",
    "        xgb_param = alg.get_xgb_params()\n",
    "        xgtrain = xgb.DMatrix(X_train, label=Y_train)\n",
    "        cvresult = xgb.cv(xgb_param, xgtrain, num_boost_round=alg.get_params()['n_estimators'], nfold=cv_folds,\n",
    "            metrics='auc', early_stopping_rounds=early_stopping_rounds)\n",
    "        alg.set_params(n_estimators=cvresult.shape[0])\n",
    "    \n",
    "    #Fit the algorithm on the data\n",
    "    alg.fit(X_train, Y_train ,eval_metric='auc')\n",
    "        \n",
    "    #Predict training set:\n",
    "    dtrain_predictions = alg.predict(xgb_test)\n",
    "    predictions = alg.predict_proba(xgb_test)[:,1]\n",
    "    \n",
    "    \n",
    "    #Print model report:\n",
    "    #print(\"\\nModel Report\")\n",
    "    #print(\"Accuracy : %.4g\" % accuracy_score(Y_test, dtrain_predictions))\n",
    "    #print(\"AUC Score (Train): %f\" % roc_auc_score(Y_test, predictions))\n",
    "                    \n",
    "   \n",
    "    return predictions"
   ]
  },
  {
   "cell_type": "code",
   "execution_count": 246,
   "metadata": {
    "collapsed": true
   },
   "outputs": [],
   "source": [
    "def modelfitfinal(alg, dtrain, predictors,useTrainCV=True, cv_folds=5, early_stopping_rounds=50):\n",
    "    predictions= []\n",
    "    if useTrainCV:\n",
    "        xgb_param = alg.get_xgb_params()\n",
    "        xgtrain = xgb.DMatrix(stacked_validation_train, label=Y_test)\n",
    "        cvresult = xgb.cv(xgb_param, xgtrain, num_boost_round=alg.get_params()['n_estimators'], nfold=cv_folds,\n",
    "            metrics='auc', early_stopping_rounds=early_stopping_rounds)\n",
    "        alg.set_params(n_estimators=cvresult.shape[0])\n",
    "    \n",
    "    #Fit the algorithm on the data\n",
    "    alg.fit(stacked_validation_train, Y_test ,eval_metric='auc')\n",
    "        \n",
    "    #Predict training set:\n",
    "    dtrain_predictions = alg.predict(stacked_test_train)\n",
    "    predictions = alg.predict_proba(stacked_test_train)[:,1]\n",
    "    \n",
    "    \n",
    "    #Print model report:\n",
    "    #print(\"\\nModel Report\")\n",
    "    #print(\"Accuracy : %.4g\" % accuracy_score(Y_test, dtrain_predictions))\n",
    "    #print(\"AUC Score (Train): %f\" % roc_auc_score(Y_test, predictions))\n",
    "                    \n",
    "   \n",
    "    return predictions"
   ]
  },
  {
   "cell_type": "code",
   "execution_count": 256,
   "metadata": {},
   "outputs": [
    {
     "name": "stderr",
     "output_type": "stream",
     "text": [
      "C:\\Users\\aniru\\Anaconda3\\lib\\site-packages\\sklearn\\preprocessing\\label.py:151: DeprecationWarning: The truth value of an empty array is ambiguous. Returning False, but in future this will result in an error. Use `array.size > 0` to check that an array is not empty.\n",
      "  if diff:\n"
     ]
    }
   ],
   "source": [
    "xgb_final= []\n",
    "xgb1 = XGBClassifier(\n",
    " learning_rate =0.1,\n",
    " n_estimators=1000,\n",
    " max_depth=7,\n",
    " min_child_weight=5,\n",
    " reg_alpha=100.1,\n",
    " gamma=0,\n",
    " subsample=0.8,\n",
    " colsample_bytree=0.8,\n",
    " objective= 'binary:logistic',\n",
    " nthread=4,\n",
    " scale_pos_weight=1,\n",
    " seed=27)\n",
    "xgb_final= modelfitfinal(xgb1, stacked_validation_train, Y_test)\n"
   ]
  },
  {
   "cell_type": "code",
   "execution_count": 229,
   "metadata": {
    "collapsed": true
   },
   "outputs": [],
   "source": [
    "param_test1 = {\n",
    " 'max_depth':range(3,10,2),\n",
    " 'min_child_weight':range(1,6,2)\n",
    "}\n",
    "\n"
   ]
  },
  {
   "cell_type": "code",
   "execution_count": 243,
   "metadata": {},
   "outputs": [
    {
     "data": {
      "text/plain": [
       "([mean: 0.84005, std: 0.00859, params: {'max_depth': 3, 'min_child_weight': 1},\n",
       "  mean: 0.84095, std: 0.00891, params: {'max_depth': 3, 'min_child_weight': 3},\n",
       "  mean: 0.84059, std: 0.00878, params: {'max_depth': 3, 'min_child_weight': 5},\n",
       "  mean: 0.84011, std: 0.00841, params: {'max_depth': 5, 'min_child_weight': 1},\n",
       "  mean: 0.84067, std: 0.00855, params: {'max_depth': 5, 'min_child_weight': 3},\n",
       "  mean: 0.84105, std: 0.00880, params: {'max_depth': 5, 'min_child_weight': 5},\n",
       "  mean: 0.83974, std: 0.00865, params: {'max_depth': 7, 'min_child_weight': 1},\n",
       "  mean: 0.84053, std: 0.00865, params: {'max_depth': 7, 'min_child_weight': 3},\n",
       "  mean: 0.84105, std: 0.00882, params: {'max_depth': 7, 'min_child_weight': 5},\n",
       "  mean: 0.84000, std: 0.00847, params: {'max_depth': 9, 'min_child_weight': 1},\n",
       "  mean: 0.84052, std: 0.00866, params: {'max_depth': 9, 'min_child_weight': 3},\n",
       "  mean: 0.84105, std: 0.00882, params: {'max_depth': 9, 'min_child_weight': 5}],\n",
       " {'max_depth': 7, 'min_child_weight': 5},\n",
       " 0.841052535673229)"
      ]
     },
     "execution_count": 243,
     "metadata": {},
     "output_type": "execute_result"
    }
   ],
   "source": [
    "gsearch1 = GridSearchCV(estimator = XGBClassifier( learning_rate =0.1, n_estimators=140, max_depth=5,\n",
    " min_child_weight=1, gamma=0, subsample=0.8, colsample_bytree=0.8,reg_alpha=100.1,\n",
    " objective= 'binary:logistic', nthread=4, scale_pos_weight=1, seed=27), \n",
    " param_grid = param_test1, scoring='roc_auc',n_jobs=4,iid=False, cv=5)\n",
    "\n",
    "gsearch1.fit(stacked_validation_train, Y_test)\n",
    "gsearch1.grid_scores_, gsearch1.best_params_, gsearch1.best_score_"
   ]
  },
  {
   "cell_type": "code",
   "execution_count": 231,
   "metadata": {
    "collapsed": true
   },
   "outputs": [],
   "source": [
    "param_test2 = {\n",
    " 'max_depth':[4,5,6],\n",
    " 'min_child_weight':[4,5,6]\n",
    "}\n",
    "gsearch2 = GridSearchCV(estimator = XGBClassifier( learning_rate=0.1, n_estimators=140, max_depth=5,\n",
    " min_child_weight=2, gamma=0, subsample=0.8, colsample_bytree=0.8,\n",
    " objective= 'binary:logistic', nthread=4, scale_pos_weight=1,seed=27), \n",
    " param_grid = param_test2, scoring='roc_auc',n_jobs=4,iid=False, cv=5)\n",
    "\n"
   ]
  },
  {
   "cell_type": "code",
   "execution_count": 232,
   "metadata": {},
   "outputs": [
    {
     "data": {
      "text/plain": [
       "([mean: 0.83745, std: 0.00793, params: {'max_depth': 4, 'min_child_weight': 4},\n",
       "  mean: 0.83819, std: 0.00788, params: {'max_depth': 4, 'min_child_weight': 5},\n",
       "  mean: 0.83843, std: 0.00772, params: {'max_depth': 4, 'min_child_weight': 6},\n",
       "  mean: 0.83431, std: 0.00780, params: {'max_depth': 5, 'min_child_weight': 4},\n",
       "  mean: 0.83469, std: 0.00758, params: {'max_depth': 5, 'min_child_weight': 5},\n",
       "  mean: 0.83466, std: 0.00790, params: {'max_depth': 5, 'min_child_weight': 6},\n",
       "  mean: 0.83090, std: 0.00754, params: {'max_depth': 6, 'min_child_weight': 4},\n",
       "  mean: 0.83098, std: 0.00703, params: {'max_depth': 6, 'min_child_weight': 5},\n",
       "  mean: 0.83062, std: 0.00772, params: {'max_depth': 6, 'min_child_weight': 6}],\n",
       " {'max_depth': 4, 'min_child_weight': 6},\n",
       " 0.8384323212986621)"
      ]
     },
     "execution_count": 232,
     "metadata": {},
     "output_type": "execute_result"
    }
   ],
   "source": [
    "gsearch2.fit(stacked_validation_train, Y_test)\n",
    "gsearch2.grid_scores_, gsearch2.best_params_, gsearch2.best_score_"
   ]
  },
  {
   "cell_type": "code",
   "execution_count": 68,
   "metadata": {
    "scrolled": true
   },
   "outputs": [
    {
     "name": "stderr",
     "output_type": "stream",
     "text": [
      "C:\\Users\\aniru\\Anaconda3\\lib\\site-packages\\sklearn\\preprocessing\\label.py:151: DeprecationWarning: The truth value of an empty array is ambiguous. Returning False, but in future this will result in an error. Use `array.size > 0` to check that an array is not empty.\n",
      "  if diff:\n"
     ]
    },
    {
     "name": "stdout",
     "output_type": "stream",
     "text": [
      "Accuracy : 0.9398\n",
      "AUC Score (Train): 0.847520\n"
     ]
    },
    {
     "data": {
      "image/png": "[encoded data removed]",
      "text/plain": [
       "<Figure size 432x288 with 1 Axes>"
      ]
     },
     "metadata": {},
     "output_type": "display_data"
    }
   ],
   "source": [
    "xgb4 = XGBClassifier(\n",
    " learning_rate =0.01,\n",
    " n_estimators=5000,\n",
    " max_depth=3,\n",
    " min_child_weight=5,\n",
    " gamma=0,\n",
    " subsample=0.8,\n",
    " colsample_bytree=0.8,\n",
    " reg_alpha=0.005,\n",
    " objective= 'binary:logistic',\n",
    " nthread=4,\n",
    " scale_pos_weight=1,\n",
    " seed=27)\n",
    "pred= modelfit(xgb4,X_train, Y_train)"
   ]
  },
  {
   "cell_type": "code",
   "execution_count": 69,
   "metadata": {},
   "outputs": [
    {
     "name": "stdout",
     "output_type": "stream",
     "text": [
      "None\n"
     ]
    }
   ],
   "source": [
    "print(pred)"
   ]
  },
  {
   "cell_type": "code",
   "execution_count": 70,
   "metadata": {
    "collapsed": true
   },
   "outputs": [],
   "source": [
    "#submission = pd.DataFrame()\n",
    "#submission['id'] = test_id\n",
    "#submission['renewal'] = pd.Series(pred)"
   ]
  },
  {
   "cell_type": "code",
   "execution_count": 71,
   "metadata": {
    "collapsed": true
   },
   "outputs": [],
   "source": [
    "#submission.to_csv('submission.csv',index=False)"
   ]
  },
  {
   "cell_type": "code",
   "execution_count": 233,
   "metadata": {
    "collapsed": true
   },
   "outputs": [],
   "source": [
    "param_test2b = {\n",
    " 'min_child_weight':[4,5,10,12]\n",
    "}\n",
    "gsearch2b = GridSearchCV(estimator = XGBClassifier( learning_rate=0.1, n_estimators=140, max_depth=4,\n",
    " min_child_weight=2, gamma=0, subsample=0.8, colsample_bytree=0.8,\n",
    " objective= 'binary:logistic', nthread=4, scale_pos_weight=1,seed=27), \n",
    " param_grid = param_test2b, scoring='roc_auc',n_jobs=4,iid=False, cv=5)\n"
   ]
  },
  {
   "cell_type": "code",
   "execution_count": 234,
   "metadata": {},
   "outputs": [
    {
     "data": {
      "text/plain": [
       "([mean: 0.83745, std: 0.00793, params: {'min_child_weight': 4},\n",
       "  mean: 0.83819, std: 0.00788, params: {'min_child_weight': 5},\n",
       "  mean: 0.83875, std: 0.00850, params: {'min_child_weight': 10},\n",
       "  mean: 0.83809, std: 0.00835, params: {'min_child_weight': 12}],\n",
       " {'max_depth': 4, 'min_child_weight': 6},\n",
       " 0.8384323212986621)"
      ]
     },
     "execution_count": 234,
     "metadata": {},
     "output_type": "execute_result"
    }
   ],
   "source": [
    "gsearch2b.fit(stacked_validation_train, Y_test)\n",
    "gsearch2b.grid_scores_, gsearch2.best_params_, gsearch2.best_score_"
   ]
  },
  {
   "cell_type": "code",
   "execution_count": 235,
   "metadata": {
    "collapsed": true
   },
   "outputs": [],
   "source": [
    "param_test3 = {\n",
    " 'gamma':[i/10.0 for i in range(0,5)]\n",
    "}\n",
    "gsearch3 = GridSearchCV(estimator = XGBClassifier( learning_rate =0.1, n_estimators=140, max_depth=4,\n",
    " min_child_weight=6, gamma=0, subsample=0.8, colsample_bytree=0.8,\n",
    " objective= 'binary:logistic', nthread=4, scale_pos_weight=1,seed=27), \n",
    " param_grid = param_test3, scoring='roc_auc',n_jobs=4,iid=False, cv=5)\n"
   ]
  },
  {
   "cell_type": "code",
   "execution_count": 236,
   "metadata": {},
   "outputs": [
    {
     "data": {
      "text/plain": [
       "([mean: 0.83843, std: 0.00772, params: {'gamma': 0.0},\n",
       "  mean: 0.83827, std: 0.00836, params: {'gamma': 0.1},\n",
       "  mean: 0.83780, std: 0.00769, params: {'gamma': 0.2},\n",
       "  mean: 0.83824, std: 0.00768, params: {'gamma': 0.3},\n",
       "  mean: 0.83812, std: 0.00794, params: {'gamma': 0.4}],\n",
       " {'gamma': 0.0},\n",
       " 0.8384323212986621)"
      ]
     },
     "execution_count": 236,
     "metadata": {},
     "output_type": "execute_result"
    }
   ],
   "source": [
    "gsearch3.fit(stacked_validation_train, Y_test)\n",
    "gsearch3.grid_scores_, gsearch3.best_params_, gsearch3.best_score_"
   ]
  },
  {
   "cell_type": "code",
   "execution_count": 76,
   "metadata": {},
   "outputs": [
    {
     "name": "stderr",
     "output_type": "stream",
     "text": [
      "C:\\Users\\aniru\\Anaconda3\\lib\\site-packages\\sklearn\\preprocessing\\label.py:151: DeprecationWarning: The truth value of an empty array is ambiguous. Returning False, but in future this will result in an error. Use `array.size > 0` to check that an array is not empty.\n",
      "  if diff:\n"
     ]
    },
    {
     "name": "stdout",
     "output_type": "stream",
     "text": [
      "Accuracy : 0.9402\n",
      "AUC Score (Train): 0.847119\n"
     ]
    },
    {
     "data": {
      "image/png": "[encoded data removed]",
      "text/plain": [
       "<Figure size 432x288 with 1 Axes>"
      ]
     },
     "metadata": {},
     "output_type": "display_data"
    }
   ],
   "source": [
    "xgb2 = XGBClassifier(\n",
    " learning_rate =0.1,\n",
    " n_estimators=1000,\n",
    " max_depth=4,\n",
    " min_child_weight=6,\n",
    " gamma=0.4,\n",
    " subsample=0.8,\n",
    " colsample_bytree=0.8,\n",
    " objective= 'binary:logistic',\n",
    " nthread=4,\n",
    " scale_pos_weight=1,\n",
    " seed=27)\n",
    "modelfit(xgb2, X_train, Y_train)"
   ]
  },
  {
   "cell_type": "code",
   "execution_count": 237,
   "metadata": {
    "collapsed": true
   },
   "outputs": [],
   "source": [
    "param_test4 = {\n",
    " 'subsample':[i/10.0 for i in range(6,10)],\n",
    " 'colsample_bytree':[i/10.0 for i in range(6,10)]\n",
    "}\n",
    "gsearch4 = GridSearchCV(estimator = XGBClassifier( learning_rate =0.1, n_estimators=177, max_depth=4,\n",
    " min_child_weight=6, gamma=0, subsample=0.8, colsample_bytree=0.8,\n",
    " objective= 'binary:logistic', nthread=4, scale_pos_weight=1,seed=27), \n",
    " param_grid = param_test4, scoring='roc_auc',n_jobs=4,iid=False, cv=5)\n"
   ]
  },
  {
   "cell_type": "code",
   "execution_count": 238,
   "metadata": {},
   "outputs": [
    {
     "data": {
      "text/plain": [
       "([mean: 0.83555, std: 0.00854, params: {'subsample': 0.6, 'colsample_bytree': 0.6},\n",
       "  mean: 0.83517, std: 0.00838, params: {'subsample': 0.7, 'colsample_bytree': 0.6},\n",
       "  mean: 0.83625, std: 0.00656, params: {'subsample': 0.8, 'colsample_bytree': 0.6},\n",
       "  mean: 0.83649, std: 0.00825, params: {'subsample': 0.9, 'colsample_bytree': 0.6},\n",
       "  mean: 0.83555, std: 0.00854, params: {'subsample': 0.6, 'colsample_bytree': 0.7},\n",
       "  mean: 0.83517, std: 0.00838, params: {'subsample': 0.7, 'colsample_bytree': 0.7},\n",
       "  mean: 0.83625, std: 0.00656, params: {'subsample': 0.8, 'colsample_bytree': 0.7},\n",
       "  mean: 0.83649, std: 0.00825, params: {'subsample': 0.9, 'colsample_bytree': 0.7},\n",
       "  mean: 0.83634, std: 0.00769, params: {'subsample': 0.6, 'colsample_bytree': 0.8},\n",
       "  mean: 0.83635, std: 0.00797, params: {'subsample': 0.7, 'colsample_bytree': 0.8},\n",
       "  mean: 0.83620, std: 0.00836, params: {'subsample': 0.8, 'colsample_bytree': 0.8},\n",
       "  mean: 0.83632, std: 0.00781, params: {'subsample': 0.9, 'colsample_bytree': 0.8},\n",
       "  mean: 0.83634, std: 0.00769, params: {'subsample': 0.6, 'colsample_bytree': 0.9},\n",
       "  mean: 0.83635, std: 0.00797, params: {'subsample': 0.7, 'colsample_bytree': 0.9},\n",
       "  mean: 0.83620, std: 0.00836, params: {'subsample': 0.8, 'colsample_bytree': 0.9},\n",
       "  mean: 0.83632, std: 0.00781, params: {'subsample': 0.9, 'colsample_bytree': 0.9}],\n",
       " {'colsample_bytree': 0.6, 'subsample': 0.9},\n",
       " 0.8364920961482596)"
      ]
     },
     "execution_count": 238,
     "metadata": {},
     "output_type": "execute_result"
    }
   ],
   "source": [
    "gsearch4.fit(stacked_validation_train, Y_test)\n",
    "gsearch4.grid_scores_, gsearch4.best_params_, gsearch4.best_score_"
   ]
  },
  {
   "cell_type": "code",
   "execution_count": 79,
   "metadata": {},
   "outputs": [
    {
     "name": "stderr",
     "output_type": "stream",
     "text": [
      "C:\\Users\\aniru\\Anaconda3\\lib\\site-packages\\sklearn\\preprocessing\\label.py:151: DeprecationWarning: The truth value of an empty array is ambiguous. Returning False, but in future this will result in an error. Use `array.size > 0` to check that an array is not empty.\n",
      "  if diff:\n"
     ]
    },
    {
     "name": "stdout",
     "output_type": "stream",
     "text": [
      "Accuracy : 0.9402\n",
      "AUC Score (Train): 0.847119\n"
     ]
    },
    {
     "data": {
      "image/png": "[encoded data removed]",
      "text/plain": [
       "<Figure size 432x288 with 1 Axes>"
      ]
     },
     "metadata": {},
     "output_type": "display_data"
    }
   ],
   "source": [
    "xgb2 = XGBClassifier(\n",
    " learning_rate =0.1,\n",
    " n_estimators=1000,\n",
    " max_depth=4,\n",
    " min_child_weight=6,\n",
    " gamma=0.4,\n",
    " subsample=0.8,\n",
    " colsample_bytree=0.8,\n",
    " objective= 'binary:logistic',\n",
    " nthread=4,\n",
    " scale_pos_weight=1,\n",
    " seed=27)\n",
    "modelfit(xgb2, X_train, Y_train)"
   ]
  },
  {
   "cell_type": "code",
   "execution_count": 239,
   "metadata": {
    "collapsed": true
   },
   "outputs": [],
   "source": [
    "param_test5 = {\n",
    " 'subsample':[i/100.0 for i in range(75,90,5)],\n",
    " 'colsample_bytree':[i/100.0 for i in range(75,90,5)]\n",
    "}\n",
    "gsearch5 = GridSearchCV(estimator = XGBClassifier( learning_rate =0.1, n_estimators=177, max_depth=4,\n",
    " min_child_weight=6, gamma=0, subsample=0.8, colsample_bytree=0.8,\n",
    " objective= 'binary:logistic', nthread=4, scale_pos_weight=1,seed=27), \n",
    " param_grid = param_test5, scoring='roc_auc',n_jobs=4,iid=False, cv=5)\n"
   ]
  },
  {
   "cell_type": "code",
   "execution_count": 240,
   "metadata": {},
   "outputs": [
    {
     "data": {
      "text/plain": [
       "([mean: 0.83646, std: 0.00713, params: {'subsample': 0.75, 'colsample_bytree': 0.75},\n",
       "  mean: 0.83625, std: 0.00656, params: {'subsample': 0.8, 'colsample_bytree': 0.75},\n",
       "  mean: 0.83649, std: 0.00799, params: {'subsample': 0.85, 'colsample_bytree': 0.75},\n",
       "  mean: 0.83575, std: 0.00853, params: {'subsample': 0.75, 'colsample_bytree': 0.8},\n",
       "  mean: 0.83620, std: 0.00836, params: {'subsample': 0.8, 'colsample_bytree': 0.8},\n",
       "  mean: 0.83652, std: 0.00799, params: {'subsample': 0.85, 'colsample_bytree': 0.8},\n",
       "  mean: 0.83575, std: 0.00853, params: {'subsample': 0.75, 'colsample_bytree': 0.85},\n",
       "  mean: 0.83620, std: 0.00836, params: {'subsample': 0.8, 'colsample_bytree': 0.85},\n",
       "  mean: 0.83652, std: 0.00799, params: {'subsample': 0.85, 'colsample_bytree': 0.85}],\n",
       " {'colsample_bytree': 0.8, 'subsample': 0.85},\n",
       " 0.8365203608663375)"
      ]
     },
     "execution_count": 240,
     "metadata": {},
     "output_type": "execute_result"
    }
   ],
   "source": [
    "gsearch5.fit(stacked_validation_train, Y_test)\n",
    "gsearch5.grid_scores_, gsearch5.best_params_, gsearch5.best_score_"
   ]
  },
  {
   "cell_type": "code",
   "execution_count": 241,
   "metadata": {
    "collapsed": true
   },
   "outputs": [],
   "source": [
    "param_test6 = {\n",
    " 'reg_alpha':[99.5,99.6,99.7,99.8,99.9,100,100.1,100.2,100.3,100.4,100.5]\n",
    "}\n",
    "gsearch6 = GridSearchCV(estimator = XGBClassifier( learning_rate =0.1, n_estimators=177, max_depth=4,\n",
    " min_child_weight=6, gamma=0.1, subsample=0.8, colsample_bytree=0.8,\n",
    " objective= 'binary:logistic', nthread=4, scale_pos_weight=1,seed=27), \n",
    " param_grid = param_test6, scoring='roc_auc',n_jobs=4,iid=False, cv=5)\n"
   ]
  },
  {
   "cell_type": "code",
   "execution_count": 242,
   "metadata": {},
   "outputs": [
    {
     "data": {
      "text/plain": [
       "([mean: 0.84090, std: 0.00856, params: {'reg_alpha': 99.5},\n",
       "  mean: 0.84095, std: 0.00866, params: {'reg_alpha': 99.6},\n",
       "  mean: 0.84095, std: 0.00866, params: {'reg_alpha': 99.7},\n",
       "  mean: 0.84102, std: 0.00864, params: {'reg_alpha': 99.8},\n",
       "  mean: 0.84101, std: 0.00867, params: {'reg_alpha': 99.9},\n",
       "  mean: 0.84099, std: 0.00868, params: {'reg_alpha': 100},\n",
       "  mean: 0.84099, std: 0.00868, params: {'reg_alpha': 100.1},\n",
       "  mean: 0.84125, std: 0.00931, params: {'reg_alpha': 100.2},\n",
       "  mean: 0.84127, std: 0.00928, params: {'reg_alpha': 100.3},\n",
       "  mean: 0.84128, std: 0.00929, params: {'reg_alpha': 100.4},\n",
       "  mean: 0.84125, std: 0.00932, params: {'reg_alpha': 100.5}],\n",
       " {'reg_alpha': 100.4},\n",
       " 0.8412790305720875)"
      ]
     },
     "execution_count": 242,
     "metadata": {},
     "output_type": "execute_result"
    }
   ],
   "source": [
    "gsearch6.fit(stacked_validation_train, Y_test)\n",
    "gsearch6.grid_scores_, gsearch6.best_params_, gsearch6.best_score_"
   ]
  },
  {
   "cell_type": "code",
   "execution_count": 84,
   "metadata": {
    "collapsed": true
   },
   "outputs": [],
   "source": [
    "xgb3 = XGBClassifier(\n",
    " learning_rate =0.1,\n",
    " n_estimators=1000,\n",
    " max_depth=4,\n",
    " min_child_weight=6,\n",
    " gamma=0,\n",
    " subsample=0.8,\n",
    " colsample_bytree=0.8,\n",
    " reg_alpha=100.1,\n",
    " objective= 'binary:logistic',\n",
    " nthread=4,\n",
    " scale_pos_weight=1,\n",
    " seed=27)\n"
   ]
  },
  {
   "cell_type": "code",
   "execution_count": 85,
   "metadata": {},
   "outputs": [
    {
     "name": "stderr",
     "output_type": "stream",
     "text": [
      "C:\\Users\\aniru\\Anaconda3\\lib\\site-packages\\sklearn\\preprocessing\\label.py:151: DeprecationWarning: The truth value of an empty array is ambiguous. Returning False, but in future this will result in an error. Use `array.size > 0` to check that an array is not empty.\n",
      "  if diff:\n"
     ]
    },
    {
     "name": "stdout",
     "output_type": "stream",
     "text": [
      "Accuracy : 0.9387\n",
      "AUC Score (Train): 0.845849\n"
     ]
    },
    {
     "data": {
      "image/png": "[encoded data removed]",
      "text/plain": [
       "<Figure size 432x288 with 1 Axes>"
      ]
     },
     "metadata": {},
     "output_type": "display_data"
    }
   ],
   "source": [
    "modelfit(xgb3, X_train, Y_train)"
   ]
  },
  {
   "cell_type": "code",
   "execution_count": 99,
   "metadata": {
    "collapsed": true
   },
   "outputs": [],
   "source": [
    "xgb4 = XGBClassifier(\n",
    " learning_rate =0.01,\n",
    " n_estimators=5000,\n",
    " max_depth=4,\n",
    " min_child_weight=6,\n",
    " gamma=0,\n",
    " subsample=0.8,\n",
    " colsample_bytree=0.8,\n",
    " reg_alpha=0.005,\n",
    " objective= 'binary:logistic',\n",
    " nthread=4,\n",
    " scale_pos_weight=1,\n",
    " seed=27)"
   ]
  },
  {
   "cell_type": "code",
   "execution_count": 100,
   "metadata": {},
   "outputs": [
    {
     "name": "stderr",
     "output_type": "stream",
     "text": [
      "C:\\Users\\aniru\\Anaconda3\\lib\\site-packages\\sklearn\\preprocessing\\label.py:151: DeprecationWarning: The truth value of an empty array is ambiguous. Returning False, but in future this will result in an error. Use `array.size > 0` to check that an array is not empty.\n",
      "  if diff:\n"
     ]
    },
    {
     "name": "stdout",
     "output_type": "stream",
     "text": [
      "Accuracy : 0.9402\n",
      "AUC Score (Train): 0.847517\n"
     ]
    },
    {
     "data": {
      "image/png": "[encoded data removed]",
      "text/plain": [
       "<Figure size 432x288 with 1 Axes>"
      ]
     },
     "metadata": {},
     "output_type": "display_data"
    }
   ],
   "source": [
    "pred_xg = modelfit(xgb4, X_train, Y_train)"
   ]
  },
  {
   "cell_type": "code",
   "execution_count": 193,
   "metadata": {},
   "outputs": [
    {
     "name": "stderr",
     "output_type": "stream",
     "text": [
      "C:\\Users\\aniru\\Anaconda3\\lib\\site-packages\\sklearn\\preprocessing\\label.py:151: DeprecationWarning: The truth value of an empty array is ambiguous. Returning False, but in future this will result in an error. Use `array.size > 0` to check that an array is not empty.\n",
      "  if diff:\n"
     ]
    }
   ],
   "source": [
    "pred_xg_t= modelfitfin(xgb4, X_train, Y_train)"
   ]
  },
  {
   "cell_type": "code",
   "execution_count": null,
   "metadata": {
    "collapsed": true
   },
   "outputs": [],
   "source": []
  },
  {
   "cell_type": "code",
   "execution_count": 88,
   "metadata": {
    "collapsed": true
   },
   "outputs": [],
   "source": [
    "from sklearn.ensemble import AdaBoostClassifier"
   ]
  },
  {
   "cell_type": "code",
   "execution_count": 274,
   "metadata": {},
   "outputs": [
    {
     "name": "stdout",
     "output_type": "stream",
     "text": [
      "0.9377214835185322\n"
     ]
    }
   ],
   "source": [
    "seed = 7\n",
    "num_trees = 30\n",
    "kfold = model_selection.KFold(n_splits=10, random_state=seed)\n",
    "\n",
    "model = AdaBoostClassifier(n_estimators=num_trees, random_state=seed)\n",
    "results = model_selection.cross_val_score(model,  X_train, Y_train, cv=kfold)\n",
    "print(results.mean())"
   ]
  },
  {
   "cell_type": "code",
   "execution_count": 170,
   "metadata": {},
   "outputs": [
    {
     "name": "stdout",
     "output_type": "stream",
     "text": [
      "Accuracy : 0.9385\n",
      "AUC Score (Train): 0.839902\n"
     ]
    }
   ],
   "source": [
    "model.fit( X_train, Y_train)\n",
    "dtrain_predictions = model.predict(X_test)\n",
    "predictions = model.predict_proba(X_test)[:,1]\n",
    "    \n",
    "    \n",
    "    #Print model report:\n",
    "    #print(\"\\nModel Report\")\n",
    "print(\"Accuracy : %.4g\" % accuracy_score(Y_test, dtrain_predictions))\n",
    "print(\"AUC Score (Train): %f\" % roc_auc_score(Y_test, predictions))\n",
    "pred_ad=[]\n",
    "pred_ad= predictions"
   ]
  },
  {
   "cell_type": "code",
   "execution_count": 275,
   "metadata": {
    "collapsed": true
   },
   "outputs": [],
   "source": [
    "model.fit(stacked_validation_train, Y_test)\n",
    "dtrain_predictions = model.predict(stacked_test_train)\n",
    "predictions = model.predict_proba(stacked_test_train)[:,1]\n",
    "    \n",
    "    \n",
    "    #Print model report:\n",
    "    #print(\"\\nModel Report\")\n",
    "#print(\"Accuracy : %.4g\" % accuracy_score(Y_test, dtrain_predictions))\n",
    "#print(\"AUC Score (Train): %f\" % roc_auc_score(Y_test, predictions))\n",
    "ada_final=[]\n",
    "ada_final= predictions"
   ]
  },
  {
   "cell_type": "code",
   "execution_count": 195,
   "metadata": {
    "collapsed": true
   },
   "outputs": [],
   "source": [
    "predictions = model.predict_proba(xgb_test)[:,1]\n",
    "pred_ad_t=[]\n",
    "pred_ad_t= predictions"
   ]
  },
  {
   "cell_type": "code",
   "execution_count": 90,
   "metadata": {},
   "outputs": [
    {
     "name": "stdout",
     "output_type": "stream",
     "text": [
      "0.9376498855418915\n"
     ]
    }
   ],
   "source": [
    "seed = 7\n",
    "num_trees = 100\n",
    "max_features = 3\n",
    "kfold = model_selection.KFold(n_splits=10, random_state=seed)\n",
    "model = RandomForestClassifier(n_estimators=num_trees, max_features=max_features)\n",
    "results = model_selection.cross_val_score(model,  X_train, Y_train, cv=kfold)\n",
    "print(results.mean())"
   ]
  },
  {
   "cell_type": "code",
   "execution_count": 91,
   "metadata": {},
   "outputs": [
    {
     "name": "stdout",
     "output_type": "stream",
     "text": [
      "0.9338201705334207\n"
     ]
    }
   ],
   "source": [
    "seed = 7\n",
    "num_trees = 100\n",
    "max_features = 7\n",
    "kfold = model_selection.KFold(n_splits=10, random_state=seed)\n",
    "model = ExtraTreesClassifier(n_estimators=num_trees, max_features=max_features)\n",
    "results = model_selection.cross_val_score(model,X_train, Y_train, cv=kfold)\n",
    "print(results.mean())"
   ]
  },
  {
   "cell_type": "code",
   "execution_count": 92,
   "metadata": {},
   "outputs": [
    {
     "name": "stdout",
     "output_type": "stream",
     "text": [
      "{'bootstrap': [True, False], 'min_samples_leaf': [1, 2, 4], 'n_estimators': [200, 400, 600, 800, 1000, 1200, 1400, 1600, 1800, 2000], 'min_samples_split': [2, 5, 10], 'max_features': ['auto', 'sqrt'], 'max_depth': [10, 20, 30, 40, 50, 60, 70, 80, 90, 100, 110, None]}\n"
     ]
    },
    {
     "data": {
      "text/plain": [
       "{'bootstrap': [True, False],\n",
       " 'max_depth': [10, 20, 30, 40, 50, 60, 70, 80, 90, 100, None],\n",
       " 'max_features': ['auto', 'sqrt'],\n",
       " 'min_samples_leaf': [1, 2, 4],\n",
       " 'min_samples_split': [2, 5, 10],\n",
       " 'n_estimators': [200, 400, 600, 800, 1000, 1200, 1400, 1600, 1800, 2000]}"
      ]
     },
     "execution_count": 92,
     "metadata": {},
     "output_type": "execute_result"
    }
   ],
   "source": [
    "\n",
    "from sklearn.model_selection import RandomizedSearchCV\n",
    "# Number of trees in random forest\n",
    "n_estimators = [int(x) for x in np.linspace(start = 200, stop = 2000, num = 10)]\n",
    "# Number of features to consider at every split\n",
    "max_features = ['auto', 'sqrt']\n",
    "# Maximum number of levels in tree\n",
    "max_depth = [int(x) for x in np.linspace(10, 110, num = 11)]\n",
    "max_depth.append(None)\n",
    "# Minimum number of samples required to split a node\n",
    "min_samples_split = [2, 5, 10]\n",
    "# Minimum number of samples required at each leaf node\n",
    "min_samples_leaf = [1, 2, 4]\n",
    "# Method of selecting samples for training each tree\n",
    "bootstrap = [True, False]\n",
    "# Create the random grid\n",
    "random_grid = {'n_estimators': n_estimators,\n",
    "               'max_features': max_features,\n",
    "               'max_depth': max_depth,\n",
    "               'min_samples_split': min_samples_split,\n",
    "               'min_samples_leaf': min_samples_leaf,\n",
    "               'bootstrap': bootstrap}\n",
    "print(random_grid)\n",
    "{'bootstrap': [True, False],\n",
    " 'max_depth': [10, 20, 30, 40, 50, 60, 70, 80, 90, 100, None],\n",
    " 'max_features': ['auto', 'sqrt'],\n",
    " 'min_samples_leaf': [1, 2, 4],\n",
    " 'min_samples_split': [2, 5, 10],\n",
    " 'n_estimators': [200, 400, 600, 800, 1000, 1200, 1400, 1600, 1800, 2000]}"
   ]
  },
  {
   "cell_type": "code",
   "execution_count": 151,
   "metadata": {},
   "outputs": [
    {
     "name": "stdout",
     "output_type": "stream",
     "text": [
      "Fitting 3 folds for each of 100 candidates, totalling 300 fits\n"
     ]
    },
    {
     "name": "stderr",
     "output_type": "stream",
     "text": [
      "[Parallel(n_jobs=-1)]: Done  33 tasks      | elapsed: 21.8min\n",
      "[Parallel(n_jobs=-1)]: Done 154 tasks      | elapsed: 110.5min\n",
      "[Parallel(n_jobs=-1)]: Done 300 out of 300 | elapsed: 207.4min finished\n"
     ]
    },
    {
     "data": {
      "text/plain": [
       "RandomizedSearchCV(cv=3, error_score='raise',\n",
       "          estimator=RandomForestClassifier(bootstrap=True, class_weight=None, criterion='gini',\n",
       "            max_depth=None, max_features='auto', max_leaf_nodes=None,\n",
       "            min_impurity_decrease=0.0, min_impurity_split=None,\n",
       "            min_samples_leaf=1, min_samples_split=2,\n",
       "            min_weight_fraction_leaf=0.0, n_estimators=10, n_jobs=1,\n",
       "            oob_score=False, random_state=None, verbose=0,\n",
       "            warm_start=False),\n",
       "          fit_params=None, iid=True, n_iter=100, n_jobs=-1,\n",
       "          param_distributions={'bootstrap': [True, False], 'min_samples_leaf': [1, 2, 4], 'n_estimators': [200, 400, 600, 800, 1000, 1200, 1400, 1600, 1800, 2000], 'min_samples_split': [2, 5, 10], 'max_features': ['auto', 'sqrt'], 'max_depth': [10, 20, 30, 40, 50, 60, 70, 80, 90, 100, 110, None]},\n",
       "          pre_dispatch='2*n_jobs', random_state=42, refit=True,\n",
       "          return_train_score='warn', scoring=None, verbose=2)"
      ]
     },
     "execution_count": 151,
     "metadata": {},
     "output_type": "execute_result"
    }
   ],
   "source": [
    "# First create the base model to tune\n",
    "rf = RandomForestClassifier()\n",
    "# Random search of parameters, using 3 fold cross validation, \n",
    "# search across 100 different combinations, and use all available cores\n",
    "rf_random = RandomizedSearchCV(estimator = rf, param_distributions = random_grid, n_iter = 100, cv = 3, verbose=2, random_state=42, n_jobs = -1)\n",
    "# Fit the random search model\n",
    "rf_random.fit(X_train,Y_train)"
   ]
  },
  {
   "cell_type": "code",
   "execution_count": 228,
   "metadata": {},
   "outputs": [
    {
     "name": "stdout",
     "output_type": "stream",
     "text": [
      "Fitting 3 folds for each of 100 candidates, totalling 300 fits\n"
     ]
    },
    {
     "name": "stderr",
     "output_type": "stream",
     "text": [
      "[Parallel(n_jobs=-1)]: Done  33 tasks      | elapsed:  8.0min\n",
      "[Parallel(n_jobs=-1)]: Done 154 tasks      | elapsed: 37.0min\n",
      "[Parallel(n_jobs=-1)]: Done 300 out of 300 | elapsed: 69.6min finished\n"
     ]
    },
    {
     "data": {
      "text/plain": [
       "RandomizedSearchCV(cv=3, error_score='raise',\n",
       "          estimator=RandomForestClassifier(bootstrap=True, class_weight=None, criterion='gini',\n",
       "            max_depth=None, max_features='auto', max_leaf_nodes=None,\n",
       "            min_impurity_decrease=0.0, min_impurity_split=None,\n",
       "            min_samples_leaf=1, min_samples_split=2,\n",
       "            min_weight_fraction_leaf=0.0, n_estimators=10, n_jobs=1,\n",
       "            oob_score=False, random_state=None, verbose=0,\n",
       "            warm_start=False),\n",
       "          fit_params=None, iid=True, n_iter=100, n_jobs=-1,\n",
       "          param_distributions={'bootstrap': [True, False], 'min_samples_leaf': [1, 2, 4], 'n_estimators': [200, 400, 600, 800, 1000, 1200, 1400, 1600, 1800, 2000], 'min_samples_split': [2, 5, 10], 'max_features': ['auto', 'sqrt'], 'max_depth': [10, 20, 30, 40, 50, 60, 70, 80, 90, 100, 110, None]},\n",
       "          pre_dispatch='2*n_jobs', random_state=42, refit=True,\n",
       "          return_train_score='warn', scoring=None, verbose=2)"
      ]
     },
     "execution_count": 228,
     "metadata": {},
     "output_type": "execute_result"
    }
   ],
   "source": [
    "rf_random.fit(stacked_validation_train, Y_test)"
   ]
  },
  {
   "cell_type": "code",
   "execution_count": 153,
   "metadata": {},
   "outputs": [
    {
     "name": "stdout",
     "output_type": "stream",
     "text": [
      "Accuracy : 0.9398\n",
      "AUC Score (Train): 0.846176\n"
     ]
    }
   ],
   "source": [
    "pred_rf=[]\n",
    "dtrain_predictions = rf_random.predict(X_test)\n",
    "pred_rf = rf_random.predict_proba(X_test)[:,1]\n",
    "    \n",
    "    \n",
    "    #Print model report:\n",
    "    #print(\"\\nModel Report\")\n",
    "print(\"Accuracy : %.4g\" % accuracy_score(Y_test, dtrain_predictions))\n",
    "print(\"AUC Score (Train): %f\" % roc_auc_score(Y_test, predictions))"
   ]
  },
  {
   "cell_type": "code",
   "execution_count": 213,
   "metadata": {
    "collapsed": true
   },
   "outputs": [],
   "source": [
    "pred_rf_t=[]\n",
    "#dtrain_predictions = rf_random.predict(xgb_test)\n",
    "pred_rf_t = rf_random.predict_proba(xgb_test)[:,1]\n",
    "    "
   ]
  },
  {
   "cell_type": "code",
   "execution_count": 272,
   "metadata": {
    "collapsed": true
   },
   "outputs": [],
   "source": [
    "rf_final=[]\n",
    "#dtrain_predictions = rf_random.predict(xgb_test)\n",
    "rf_final = rf_random.predict_proba(stacked_test_train)[:,1]"
   ]
  },
  {
   "cell_type": "code",
   "execution_count": 94,
   "metadata": {},
   "outputs": [
    {
     "name": "stdout",
     "output_type": "stream",
     "text": [
      "Fitting 3 folds for each of 100 candidates, totalling 300 fits\n"
     ]
    },
    {
     "name": "stderr",
     "output_type": "stream",
     "text": [
      "[Parallel(n_jobs=-1)]: Done  33 tasks      | elapsed:  8.6min\n",
      "[Parallel(n_jobs=-1)]: Done 154 tasks      | elapsed: 41.4min\n",
      "[Parallel(n_jobs=-1)]: Done 300 out of 300 | elapsed: 75.4min finished\n"
     ]
    },
    {
     "data": {
      "text/plain": [
       "RandomizedSearchCV(cv=3, error_score='raise',\n",
       "          estimator=ExtraTreesClassifier(bootstrap=False, class_weight=None, criterion='gini',\n",
       "           max_depth=None, max_features='auto', max_leaf_nodes=None,\n",
       "           min_impurity_decrease=0.0, min_impurity_split=None,\n",
       "           min_samples_leaf=1, min_samples_split=2,\n",
       "           min_weight_fraction_leaf=0.0, n_estimators=10, n_jobs=1,\n",
       "           oob_score=False, random_state=None, verbose=0, warm_start=False),\n",
       "          fit_params=None, iid=True, n_iter=100, n_jobs=-1,\n",
       "          param_distributions={'bootstrap': [True, False], 'min_samples_leaf': [1, 2, 4], 'n_estimators': [200, 400, 600, 800, 1000, 1200, 1400, 1600, 1800, 2000], 'min_samples_split': [2, 5, 10], 'max_features': ['auto', 'sqrt'], 'max_depth': [10, 20, 30, 40, 50, 60, 70, 80, 90, 100, 110, None]},\n",
       "          pre_dispatch='2*n_jobs', random_state=42, refit=True,\n",
       "          return_train_score='warn', scoring=None, verbose=2)"
      ]
     },
     "execution_count": 94,
     "metadata": {},
     "output_type": "execute_result"
    }
   ],
   "source": [
    "# First create the base model to tune\n",
    "et = ExtraTreesClassifier()\n",
    "# Random search of parameters, using 3 fold cross validation, \n",
    "# search across 100 different combinations, and use all available cores\n",
    "et_random = RandomizedSearchCV(estimator = et, param_distributions = random_grid, n_iter = 100, cv = 3, verbose=2, random_state=42, n_jobs = -1)\n",
    "# Fit the random search model\n",
    "et_random.fit(X_train,Y_train)"
   ]
  },
  {
   "cell_type": "code",
   "execution_count": 227,
   "metadata": {},
   "outputs": [
    {
     "name": "stdout",
     "output_type": "stream",
     "text": [
      "Fitting 3 folds for each of 100 candidates, totalling 300 fits\n"
     ]
    },
    {
     "name": "stderr",
     "output_type": "stream",
     "text": [
      "[Parallel(n_jobs=-1)]: Done  33 tasks      | elapsed:  2.6min\n",
      "[Parallel(n_jobs=-1)]: Done 154 tasks      | elapsed: 11.9min\n",
      "[Parallel(n_jobs=-1)]: Done 300 out of 300 | elapsed: 225.2min finished\n"
     ]
    },
    {
     "data": {
      "text/plain": [
       "RandomizedSearchCV(cv=3, error_score='raise',\n",
       "          estimator=ExtraTreesClassifier(bootstrap=False, class_weight=None, criterion='gini',\n",
       "           max_depth=None, max_features='auto', max_leaf_nodes=None,\n",
       "           min_impurity_decrease=0.0, min_impurity_split=None,\n",
       "           min_samples_leaf=1, min_samples_split=2,\n",
       "           min_weight_fraction_leaf=0.0, n_estimators=10, n_jobs=1,\n",
       "           oob_score=False, random_state=None, verbose=0, warm_start=False),\n",
       "          fit_params=None, iid=True, n_iter=100, n_jobs=-1,\n",
       "          param_distributions={'bootstrap': [True, False], 'min_samples_leaf': [1, 2, 4], 'n_estimators': [200, 400, 600, 800, 1000, 1200, 1400, 1600, 1800, 2000], 'min_samples_split': [2, 5, 10], 'max_features': ['auto', 'sqrt'], 'max_depth': [10, 20, 30, 40, 50, 60, 70, 80, 90, 100, 110, None]},\n",
       "          pre_dispatch='2*n_jobs', random_state=42, refit=True,\n",
       "          return_train_score='warn', scoring=None, verbose=2)"
      ]
     },
     "execution_count": 227,
     "metadata": {},
     "output_type": "execute_result"
    }
   ],
   "source": [
    "et_random.fit(stacked_validation_train, Y_test)"
   ]
  },
  {
   "cell_type": "code",
   "execution_count": 101,
   "metadata": {},
   "outputs": [
    {
     "name": "stdout",
     "output_type": "stream",
     "text": [
      "Accuracy : 0.9398\n",
      "AUC Score (Train): 0.844047\n"
     ]
    }
   ],
   "source": [
    "dtrain_predictions = et_random.predict(X_test)\n",
    "predictions = et_random.predict_proba(X_test)[:,1]\n",
    "    \n",
    "    \n",
    "    #Print model report:\n",
    "    #print(\"\\nModel Report\")\n",
    "print(\"Accuracy : %.4g\" % accuracy_score(Y_test, dtrain_predictions))\n",
    "print(\"AUC Score (Train): %f\" % roc_auc_score(Y_test, predictions))\n",
    "pred_et=[]\n",
    "pred_et= predictions"
   ]
  },
  {
   "cell_type": "code",
   "execution_count": 206,
   "metadata": {
    "collapsed": true
   },
   "outputs": [],
   "source": [
    "predictions = et_random.predict_proba(xgb_test)[:,1]\n",
    "\n",
    "pred_et_t=[]\n",
    "pred_et_t= predictions"
   ]
  },
  {
   "cell_type": "code",
   "execution_count": 265,
   "metadata": {
    "collapsed": true
   },
   "outputs": [],
   "source": [
    "predictions = et_random.predict_proba(stacked_test_train)[:,1]\n",
    "\n",
    "et_final=[]\n",
    "et_final= predictions"
   ]
  },
  {
   "cell_type": "code",
   "execution_count": 136,
   "metadata": {
    "collapsed": true
   },
   "outputs": [],
   "source": [
    "from sklearn.ensemble import BaggingClassifier\n",
    "from sklearn.tree import DecisionTreeClassifier\n"
   ]
  },
  {
   "cell_type": "code",
   "execution_count": null,
   "metadata": {
    "collapsed": true
   },
   "outputs": [],
   "source": [
    "#Tuning Gradient Boosting Classifier"
   ]
  },
  {
   "cell_type": "code",
   "execution_count": 111,
   "metadata": {
    "collapsed": true
   },
   "outputs": [],
   "source": [
    "from sklearn.ensemble import GradientBoostingClassifier"
   ]
  },
  {
   "cell_type": "code",
   "execution_count": 156,
   "metadata": {
    "collapsed": true
   },
   "outputs": [],
   "source": [
    "def modelfit(alg, dtrain, predictors, performCV=True,  cv_folds=5):\n",
    "    pred= []\n",
    "    #Fit the algorithm on the data\n",
    "    alg.fit(X_train, Y_train)\n",
    "        \n",
    "    #Predict training set:\n",
    "    dtrain_predictions = alg.predict(X_test)\n",
    "    pred = alg.predict_proba(X_test)[:,1]\n",
    "    \n",
    "    #Perform cross-validation:\n",
    "    if performCV:\n",
    "        cv_score = cross_val_score(alg, X_train, Y_train, cv=cv_folds, scoring='roc_auc')\n",
    "    \n",
    "    #Print model report:\n",
    "    print \"\\nModel Report\"\n",
    "    print \"Accuracy : %.4g\" % accuracy_score(Y_test, dtrain_predictions)\n",
    "    print \"AUC Score (Train): %f\" % roc_auc_score(Y_test, pred)\n",
    "    \n",
    "    if performCV:\n",
    "        print \"CV Score : Mean - %.7g | Std - %.7g | Min - %.7g | Max - %.7g\" % (np.mean(cv_score),np.std(cv_score),np.min(cv_score),np.max(cv_score))\n",
    "        \n",
    "    return pred"
   ]
  },
  {
   "cell_type": "code",
   "execution_count": 282,
   "metadata": {
    "collapsed": true
   },
   "outputs": [],
   "source": [
    "def modelfitfinal(alg, dtrain, predictors, performCV=True,  cv_folds=5):\n",
    "    pred= []\n",
    "    #Fit the algorithm on the data\n",
    "    alg.fit(stacked_validation_train, Y_test)\n",
    "        \n",
    "    #Predict training set:\n",
    "    dtrain_predictions = alg.predict(stacked_test_train)\n",
    "    pred = alg.predict_proba(stacked_test_train)[:,1]\n",
    "    \n",
    "    #Perform cross-validation:\n",
    "    #if performCV:\n",
    "        #cv_score = cross_val_score(alg, X_train, Y_train, cv=cv_folds, scoring='roc_auc')\n",
    "    \n",
    "    #Print model report:\n",
    "    #print \"\\nModel Report\"\n",
    "    #print \"Accuracy : %.4g\" % accuracy_score(Y_test, dtrain_predictions)\n",
    "    #print \"AUC Score (Train): %f\" % roc_auc_score(Y_test, pred)\n",
    "    \n",
    "    #if performCV:\n",
    "        #print \"CV Score : Mean - %.7g | Std - %.7g | Min - %.7g | Max - %.7g\" % (np.mean(cv_score),np.std(cv_score),np.min(cv_score),np.max(cv_score))\n",
    "        \n",
    "    return pred"
   ]
  },
  {
   "cell_type": "code",
   "execution_count": 285,
   "metadata": {
    "collapsed": true
   },
   "outputs": [],
   "source": [
    "gbm_tuned_2 = GradientBoostingClassifier(learning_rate=0.005, n_estimators=20,max_depth=5, min_samples_split=200,min_samples_leaf=60, subsample=0.85, random_state=10)\n",
    "final_gbm=[]\n",
    "final_gbm=modelfitfinal(gbm_tuned_2,stacked_validation_train, Y_test)"
   ]
  },
  {
   "cell_type": "code",
   "execution_count": null,
   "metadata": {
    "collapsed": true
   },
   "outputs": [],
   "source": [
    "def modelfitfin(alg, dtrain, predictors, performCV=True,  cv_folds=5):\n",
    "    pred= []\n",
    "    #Fit the algorithm on the data\n",
    "    alg.fit(stacked_validation_train, Y_test)\n",
    "        \n",
    "    #Predict training set:\n",
    "    dtrain_predictions = alg.predict(stacked_test_train)\n",
    "    pred = alg.predict_proba(stacked_test_train)[:,1]\n",
    "    \n",
    "    #Perform cross-validation:\n",
    "    #if performCV:\n",
    "        #cv_score = cross_val_score(alg, X_train, Y_train, cv=cv_folds, scoring='roc_auc')\n",
    "    \n",
    "    #Print model report:\n",
    "    #print \"\\nModel Report\"\n",
    "    #print \"Accuracy : %.4g\" % accuracy_score(Y_test, dtrain_predictions)\n",
    "    #print \"AUC Score (Train): %f\" % roc_auc_score(Y_test, pred)\n",
    "    \n",
    "    #if performCV:\n",
    "        #print \"CV Score : Mean - %.7g | Std - %.7g | Min - %.7g | Max - %.7g\" % (np.mean(cv_score),np.std(cv_score),np.min(cv_score),np.max(cv_score))\n",
    "        \n",
    "    return pred"
   ]
  },
  {
   "cell_type": "code",
   "execution_count": 117,
   "metadata": {},
   "outputs": [
    {
     "name": "stdout",
     "output_type": "stream",
     "text": [
      "\n",
      "Model Report\n",
      "Accuracy : 0.9401\n",
      "AUC Score (Train): 0.846053\n",
      "CV Score : Mean - 0.838237 | Std - 0.005220915 | Min - 0.8293188 | Max - 0.8440616\n"
     ]
    }
   ],
   "source": [
    "gbm0 = GradientBoostingClassifier(random_state=10)\n",
    "modelfit(gbm0, X_train,Y_train)"
   ]
  },
  {
   "cell_type": "code",
   "execution_count": 276,
   "metadata": {},
   "outputs": [
    {
     "data": {
      "text/plain": [
       "GridSearchCV(cv=5, error_score='raise',\n",
       "       estimator=GradientBoostingClassifier(criterion='friedman_mse', init=None,\n",
       "              learning_rate=0.1, loss='deviance', max_depth=8,\n",
       "              max_features='sqrt', max_leaf_nodes=None,\n",
       "              min_impurity_decrease=0.0, min_impurity_split=None,\n",
       "              min_samples_leaf=50, min_samples_split=500,\n",
       "              min_weight_fraction_leaf=0.0, n_estimators=100,\n",
       "              presort='auto', random_state=10, subsample=0.8, verbose=0,\n",
       "              warm_start=False),\n",
       "       fit_params={}, iid=False, n_jobs=4,\n",
       "       param_grid={'n_estimators': [20, 30, 40, 50, 60, 70, 80]},\n",
       "       pre_dispatch='2*n_jobs', refit=True, scoring='roc_auc', verbose=0)"
      ]
     },
     "execution_count": 276,
     "metadata": {},
     "output_type": "execute_result"
    }
   ],
   "source": [
    "param_test1 = {'n_estimators':range(20,81,10)}\n",
    "gsearch1 = GridSearchCV(estimator = GradientBoostingClassifier(learning_rate=0.1, min_samples_split=500,min_samples_leaf=50,max_depth=8,max_features='sqrt',subsample=0.8,random_state=10), \n",
    "param_grid = param_test1, scoring='roc_auc',n_jobs=4,iid=False, cv=5)\n",
    "gsearch1.fit(stacked_validation_train, Y_test)"
   ]
  },
  {
   "cell_type": "code",
   "execution_count": 277,
   "metadata": {},
   "outputs": [
    {
     "data": {
      "text/plain": [
       "([mean: 0.84271, std: 0.00896, params: {'n_estimators': 20},\n",
       "  mean: 0.84264, std: 0.00817, params: {'n_estimators': 30},\n",
       "  mean: 0.84244, std: 0.00818, params: {'n_estimators': 40},\n",
       "  mean: 0.84218, std: 0.00821, params: {'n_estimators': 50},\n",
       "  mean: 0.84207, std: 0.00786, params: {'n_estimators': 60},\n",
       "  mean: 0.84194, std: 0.00774, params: {'n_estimators': 70},\n",
       "  mean: 0.84181, std: 0.00766, params: {'n_estimators': 80}],\n",
       " {'n_estimators': 20},\n",
       " 0.8427142608497018)"
      ]
     },
     "execution_count": 277,
     "metadata": {},
     "output_type": "execute_result"
    }
   ],
   "source": [
    "gsearch1.grid_scores_, gsearch1.best_params_, gsearch1.best_score_"
   ]
  },
  {
   "cell_type": "code",
   "execution_count": 278,
   "metadata": {},
   "outputs": [
    {
     "data": {
      "text/plain": [
       "([mean: 0.84517, std: 0.00927, params: {'min_samples_split': 200, 'max_depth': 5},\n",
       "  mean: 0.84313, std: 0.00832, params: {'min_samples_split': 400, 'max_depth': 5},\n",
       "  mean: 0.84392, std: 0.00797, params: {'min_samples_split': 600, 'max_depth': 5},\n",
       "  mean: 0.84443, std: 0.00837, params: {'min_samples_split': 800, 'max_depth': 5},\n",
       "  mean: 0.84407, std: 0.00859, params: {'min_samples_split': 1000, 'max_depth': 5},\n",
       "  mean: 0.84259, std: 0.00789, params: {'min_samples_split': 200, 'max_depth': 7},\n",
       "  mean: 0.84314, std: 0.00797, params: {'min_samples_split': 400, 'max_depth': 7},\n",
       "  mean: 0.84339, std: 0.00870, params: {'min_samples_split': 600, 'max_depth': 7},\n",
       "  mean: 0.84354, std: 0.00808, params: {'min_samples_split': 800, 'max_depth': 7},\n",
       "  mean: 0.84370, std: 0.00994, params: {'min_samples_split': 1000, 'max_depth': 7},\n",
       "  mean: 0.83769, std: 0.00986, params: {'min_samples_split': 200, 'max_depth': 9},\n",
       "  mean: 0.83960, std: 0.00995, params: {'min_samples_split': 400, 'max_depth': 9},\n",
       "  mean: 0.84197, std: 0.01003, params: {'min_samples_split': 600, 'max_depth': 9},\n",
       "  mean: 0.84075, std: 0.00898, params: {'min_samples_split': 800, 'max_depth': 9},\n",
       "  mean: 0.84169, std: 0.00965, params: {'min_samples_split': 1000, 'max_depth': 9},\n",
       "  mean: 0.83668, std: 0.00711, params: {'min_samples_split': 200, 'max_depth': 11},\n",
       "  mean: 0.83724, std: 0.00827, params: {'min_samples_split': 400, 'max_depth': 11},\n",
       "  mean: 0.83748, std: 0.00910, params: {'min_samples_split': 600, 'max_depth': 11},\n",
       "  mean: 0.83987, std: 0.00961, params: {'min_samples_split': 800, 'max_depth': 11},\n",
       "  mean: 0.83936, std: 0.00853, params: {'min_samples_split': 1000, 'max_depth': 11},\n",
       "  mean: 0.83216, std: 0.00827, params: {'min_samples_split': 200, 'max_depth': 13},\n",
       "  mean: 0.83718, std: 0.00973, params: {'min_samples_split': 400, 'max_depth': 13},\n",
       "  mean: 0.83738, std: 0.00854, params: {'min_samples_split': 600, 'max_depth': 13},\n",
       "  mean: 0.83928, std: 0.00768, params: {'min_samples_split': 800, 'max_depth': 13},\n",
       "  mean: 0.84013, std: 0.00923, params: {'min_samples_split': 1000, 'max_depth': 13},\n",
       "  mean: 0.83398, std: 0.00786, params: {'min_samples_split': 200, 'max_depth': 15},\n",
       "  mean: 0.83737, std: 0.00894, params: {'min_samples_split': 400, 'max_depth': 15},\n",
       "  mean: 0.83579, std: 0.00769, params: {'min_samples_split': 600, 'max_depth': 15},\n",
       "  mean: 0.83807, std: 0.00872, params: {'min_samples_split': 800, 'max_depth': 15},\n",
       "  mean: 0.83923, std: 0.01033, params: {'min_samples_split': 1000, 'max_depth': 15}],\n",
       " {'max_depth': 5, 'min_samples_split': 200},\n",
       " 0.8451747341422658)"
      ]
     },
     "execution_count": 278,
     "metadata": {},
     "output_type": "execute_result"
    }
   ],
   "source": [
    "param_test2 = {'max_depth':range(5,16,2), 'min_samples_split':range(200,1001,200)}\n",
    "gsearch2 = GridSearchCV(estimator = GradientBoostingClassifier(learning_rate=0.1, n_estimators=60, max_features='sqrt', subsample=0.8, random_state=10), \n",
    "param_grid = param_test2, scoring='roc_auc',n_jobs=4,iid=False, cv=5)\n",
    "gsearch2.fit(stacked_validation_train, Y_test)\n",
    "gsearch2.grid_scores_, gsearch2.best_params_, gsearch2.best_score_"
   ]
  },
  {
   "cell_type": "code",
   "execution_count": 279,
   "metadata": {},
   "outputs": [
    {
     "data": {
      "text/plain": [
       "([mean: 0.83738, std: 0.00599, params: {'min_samples_split': 1000, 'min_samples_leaf': 30},\n",
       "  mean: 0.83767, std: 0.00503, params: {'min_samples_split': 1200, 'min_samples_leaf': 30},\n",
       "  mean: 0.83734, std: 0.00646, params: {'min_samples_split': 1400, 'min_samples_leaf': 30},\n",
       "  mean: 0.83723, std: 0.00581, params: {'min_samples_split': 1600, 'min_samples_leaf': 30},\n",
       "  mean: 0.83809, std: 0.00699, params: {'min_samples_split': 1800, 'min_samples_leaf': 30},\n",
       "  mean: 0.83878, std: 0.00564, params: {'min_samples_split': 2000, 'min_samples_leaf': 30},\n",
       "  mean: 0.83731, std: 0.00625, params: {'min_samples_split': 1000, 'min_samples_leaf': 40},\n",
       "  mean: 0.83784, std: 0.00639, params: {'min_samples_split': 1200, 'min_samples_leaf': 40},\n",
       "  mean: 0.83836, std: 0.00620, params: {'min_samples_split': 1400, 'min_samples_leaf': 40},\n",
       "  mean: 0.83831, std: 0.00696, params: {'min_samples_split': 1600, 'min_samples_leaf': 40},\n",
       "  mean: 0.83831, std: 0.00668, params: {'min_samples_split': 1800, 'min_samples_leaf': 40},\n",
       "  mean: 0.83803, std: 0.00550, params: {'min_samples_split': 2000, 'min_samples_leaf': 40},\n",
       "  mean: 0.83769, std: 0.00669, params: {'min_samples_split': 1000, 'min_samples_leaf': 50},\n",
       "  mean: 0.83771, std: 0.00509, params: {'min_samples_split': 1200, 'min_samples_leaf': 50},\n",
       "  mean: 0.83820, std: 0.00608, params: {'min_samples_split': 1400, 'min_samples_leaf': 50},\n",
       "  mean: 0.83797, std: 0.00692, params: {'min_samples_split': 1600, 'min_samples_leaf': 50},\n",
       "  mean: 0.83830, std: 0.00669, params: {'min_samples_split': 1800, 'min_samples_leaf': 50},\n",
       "  mean: 0.83793, std: 0.00587, params: {'min_samples_split': 2000, 'min_samples_leaf': 50},\n",
       "  mean: 0.83707, std: 0.00662, params: {'min_samples_split': 1000, 'min_samples_leaf': 60},\n",
       "  mean: 0.83796, std: 0.00603, params: {'min_samples_split': 1200, 'min_samples_leaf': 60},\n",
       "  mean: 0.83850, std: 0.00631, params: {'min_samples_split': 1400, 'min_samples_leaf': 60},\n",
       "  mean: 0.83792, std: 0.00625, params: {'min_samples_split': 1600, 'min_samples_leaf': 60},\n",
       "  mean: 0.83893, std: 0.00605, params: {'min_samples_split': 1800, 'min_samples_leaf': 60},\n",
       "  mean: 0.83882, std: 0.00581, params: {'min_samples_split': 2000, 'min_samples_leaf': 60},\n",
       "  mean: 0.83693, std: 0.00602, params: {'min_samples_split': 1000, 'min_samples_leaf': 70},\n",
       "  mean: 0.83799, std: 0.00564, params: {'min_samples_split': 1200, 'min_samples_leaf': 70},\n",
       "  mean: 0.83838, std: 0.00595, params: {'min_samples_split': 1400, 'min_samples_leaf': 70},\n",
       "  mean: 0.83836, std: 0.00589, params: {'min_samples_split': 1600, 'min_samples_leaf': 70},\n",
       "  mean: 0.83781, std: 0.00607, params: {'min_samples_split': 1800, 'min_samples_leaf': 70},\n",
       "  mean: 0.83858, std: 0.00581, params: {'min_samples_split': 2000, 'min_samples_leaf': 70}],\n",
       " {'min_samples_leaf': 60, 'min_samples_split': 1800},\n",
       " 0.8389252614947349)"
      ]
     },
     "execution_count": 279,
     "metadata": {},
     "output_type": "execute_result"
    }
   ],
   "source": [
    "param_test3 = {'min_samples_split':range(1000,2100,200), 'min_samples_leaf':range(30,71,10)}\n",
    "gsearch3 = GridSearchCV(estimator = GradientBoostingClassifier(learning_rate=0.1, n_estimators=60,max_depth=9,max_features='sqrt', subsample=0.8, random_state=10), \n",
    "param_grid = param_test3, scoring='roc_auc',n_jobs=4,iid=False, cv=5)\n",
    "gsearch3.fit(X_train,Y_train)\n",
    "gsearch3.grid_scores_, gsearch3.best_params_, gsearch3.best_score_"
   ]
  },
  {
   "cell_type": "code",
   "execution_count": 123,
   "metadata": {},
   "outputs": [
    {
     "name": "stdout",
     "output_type": "stream",
     "text": [
      "\n",
      "Model Report\n",
      "Accuracy : 0.9403\n",
      "AUC Score (Train): 0.845527\n",
      "CV Score : Mean - 0.8389253 | Std - 0.006046324 | Min - 0.8298544 | Max - 0.8475763\n"
     ]
    }
   ],
   "source": [
    "modelfit(gsearch3.best_estimator_, X_train,Y_train)"
   ]
  },
  {
   "cell_type": "code",
   "execution_count": 280,
   "metadata": {},
   "outputs": [
    {
     "ename": "JoblibValueError",
     "evalue": "JoblibValueError\n___________________________________________________________________________\nMultiprocessing exception:\n...........................................................................\nC:\\Users\\aniru\\Anaconda3\\lib\\runpy.py in _run_module_as_main(mod_name='ipykernel_launcher', alter_argv=1)\n    169     pkg_name = mod_name.rpartition('.')[0]\n    170     main_globals = sys.modules[\"__main__\"].__dict__\n    171     if alter_argv:\n    172         sys.argv[0] = fname\n    173     return _run_code(code, main_globals, None,\n--> 174                      \"__main__\", fname, loader, pkg_name)\n        fname = r'C:\\Users\\aniru\\Anaconda3\\lib\\site-packages\\ipykernel_launcher.py'\n        loader = <pkgutil.ImpLoader instance>\n        pkg_name = ''\n    175 \n    176 def run_module(mod_name, init_globals=None,\n    177                run_name=None, alter_sys=False):\n    178     \"\"\"Execute a module's code without importing it\n\n...........................................................................\nC:\\Users\\aniru\\Anaconda3\\lib\\runpy.py in _run_code(code=<code object <module> at 0000000002B182B0, file ...lib\\site-packages\\ipykernel_launcher.py\", line 5>, run_globals={'__builtins__': <module '__builtin__' (built-in)>, '__doc__': 'Entry point for launching an IPython kernel.\\n\\nTh...orts until\\nafter removing the cwd from sys.path.\\n', '__file__': r'C:\\Users\\aniru\\Anaconda3\\lib\\site-packages\\ipykernel_launcher.py', '__loader__': <pkgutil.ImpLoader instance>, '__name__': '__main__', '__package__': '', 'app': <module 'ipykernel.kernelapp' from 'C:\\Users\\ani...onda3\\lib\\site-packages\\ipykernel\\kernelapp.pyc'>, 'sys': <module 'sys' (built-in)>}, init_globals=None, mod_name='__main__', mod_fname=r'C:\\Users\\aniru\\Anaconda3\\lib\\site-packages\\ipykernel_launcher.py', mod_loader=<pkgutil.ImpLoader instance>, pkg_name='')\n     67         run_globals.update(init_globals)\n     68     run_globals.update(__name__ = mod_name,\n     69                        __file__ = mod_fname,\n     70                        __loader__ = mod_loader,\n     71                        __package__ = pkg_name)\n---> 72     exec code in run_globals\n        code = <code object <module> at 0000000002B182B0, file ...lib\\site-packages\\ipykernel_launcher.py\", line 5>\n        run_globals = {'__builtins__': <module '__builtin__' (built-in)>, '__doc__': 'Entry point for launching an IPython kernel.\\n\\nTh...orts until\\nafter removing the cwd from sys.path.\\n', '__file__': r'C:\\Users\\aniru\\Anaconda3\\lib\\site-packages\\ipykernel_launcher.py', '__loader__': <pkgutil.ImpLoader instance>, '__name__': '__main__', '__package__': '', 'app': <module 'ipykernel.kernelapp' from 'C:\\Users\\ani...onda3\\lib\\site-packages\\ipykernel\\kernelapp.pyc'>, 'sys': <module 'sys' (built-in)>}\n     73     return run_globals\n     74 \n     75 def _run_module_code(code, init_globals=None,\n     76                     mod_name=None, mod_fname=None,\n\n...........................................................................\nC:\\Users\\aniru\\Anaconda3\\lib\\site-packages\\ipykernel_launcher.py in <module>()\n     11     # This is added back by InteractiveShellApp.init_path()\n     12     if sys.path[0] == '':\n     13         del sys.path[0]\n     14 \n     15     from ipykernel import kernelapp as app\n---> 16     app.launch_new_instance()\n\n...........................................................................\nC:\\Users\\aniru\\Anaconda3\\lib\\site-packages\\traitlets\\config\\application.py in launch_instance(cls=<class 'ipykernel.kernelapp.IPKernelApp'>, argv=None, **kwargs={})\n    653 \n    654         If a global instance already exists, this reinitializes and starts it\n    655         \"\"\"\n    656         app = cls.instance(**kwargs)\n    657         app.initialize(argv)\n--> 658         app.start()\n        app.start = <bound method IPKernelApp.start of <ipykernel.kernelapp.IPKernelApp object>>\n    659 \n    660 #-----------------------------------------------------------------------------\n    661 # utility functions, for convenience\n    662 #-----------------------------------------------------------------------------\n\n...........................................................................\nC:\\Users\\aniru\\Anaconda3\\lib\\site-packages\\ipykernel\\kernelapp.py in start(self=<ipykernel.kernelapp.IPKernelApp object>)\n    481         if self.poller is not None:\n    482             self.poller.start()\n    483         self.kernel.start()\n    484         self.io_loop = ioloop.IOLoop.current()\n    485         try:\n--> 486             self.io_loop.start()\n        self.io_loop.start = <bound method ZMQIOLoop.start of <zmq.eventloop.ioloop.ZMQIOLoop object>>\n    487         except KeyboardInterrupt:\n    488             pass\n    489 \n    490 launch_new_instance = IPKernelApp.launch_instance\n\n...........................................................................\nC:\\Users\\aniru\\Anaconda3\\lib\\site-packages\\tornado\\ioloop.py in start(self=<zmq.eventloop.ioloop.ZMQIOLoop object>)\n   1003                         self._timeouts = [x for x in self._timeouts\n   1004                                           if x.callback is not None]\n   1005                         heapq.heapify(self._timeouts)\n   1006 \n   1007                 for i in range(ncallbacks):\n-> 1008                     self._run_callback(self._callbacks.popleft())\n        self._run_callback = <bound method ZMQIOLoop._run_callback of <zmq.eventloop.ioloop.ZMQIOLoop object>>\n        self._callbacks.popleft = <built-in method popleft of collections.deque object>\n   1009                 for timeout in due_timeouts:\n   1010                     if timeout.callback is not None:\n   1011                         self._run_callback(timeout.callback)\n   1012                 # Closures may be holding on to a lot of memory, so allow\n\n...........................................................................\nC:\\Users\\aniru\\Anaconda3\\lib\\site-packages\\tornado\\ioloop.py in _run_callback(self=<zmq.eventloop.ioloop.ZMQIOLoop object>, callback=<functools.partial object>)\n    754         \"\"\"Runs a callback with error handling.\n    755 \n    756         For use in subclasses.\n    757         \"\"\"\n    758         try:\n--> 759             ret = callback()\n        ret = undefined\n        callback = <functools.partial object>\n    760             if ret is not None:\n    761                 from tornado import gen\n    762                 # Functions that return Futures typically swallow all\n    763                 # exceptions and store them in the Future.  If a Future\n\n...........................................................................\nC:\\Users\\aniru\\Anaconda3\\lib\\site-packages\\tornado\\stack_context.py in null_wrapper(*args=(), **kwargs={})\n    271         # Fast path when there are no active contexts.\n    272         def null_wrapper(*args, **kwargs):\n    273             try:\n    274                 current_state = _state.contexts\n    275                 _state.contexts = cap_contexts[0]\n--> 276                 return fn(*args, **kwargs)\n        args = ()\n        kwargs = {}\n    277             finally:\n    278                 _state.contexts = current_state\n    279         null_wrapper._wrapped = True\n    280         return null_wrapper\n\n...........................................................................\nC:\\Users\\aniru\\Anaconda3\\lib\\site-packages\\zmq\\eventloop\\zmqstream.py in <lambda>()\n    531             return\n    532 \n    533         if state & self.socket.events:\n    534             # events still exist that haven't been processed\n    535             # explicitly schedule handling to avoid missing events due to edge-triggered FDs\n--> 536             self.io_loop.add_callback(lambda : self._handle_events(self.socket, 0))\n    537 \n    538     def _init_io_state(self):\n    539         \"\"\"initialize the ioloop event handler\"\"\"\n    540         with stack_context.NullContext():\n\n...........................................................................\nC:\\Users\\aniru\\Anaconda3\\lib\\site-packages\\zmq\\eventloop\\zmqstream.py in _handle_events(self=<zmq.eventloop.zmqstream.ZMQStream object>, fd=<zmq.sugar.socket.Socket object>, events=0)\n    445             return\n    446         zmq_events = self.socket.EVENTS\n    447         try:\n    448             # dispatch events:\n    449             if zmq_events & zmq.POLLIN and self.receiving():\n--> 450                 self._handle_recv()\n        self._handle_recv = <bound method ZMQStream._handle_recv of <zmq.eventloop.zmqstream.ZMQStream object>>\n    451                 if not self.socket:\n    452                     return\n    453             if zmq_events & zmq.POLLOUT and self.sending():\n    454                 self._handle_send()\n\n...........................................................................\nC:\\Users\\aniru\\Anaconda3\\lib\\site-packages\\zmq\\eventloop\\zmqstream.py in _handle_recv(self=<zmq.eventloop.zmqstream.ZMQStream object>)\n    475             else:\n    476                 raise\n    477         else:\n    478             if self._recv_callback:\n    479                 callback = self._recv_callback\n--> 480                 self._run_callback(callback, msg)\n        self._run_callback = <bound method ZMQStream._run_callback of <zmq.eventloop.zmqstream.ZMQStream object>>\n        callback = <function null_wrapper>\n        msg = [<zmq.sugar.frame.Frame object>, <zmq.sugar.frame.Frame object>, <zmq.sugar.frame.Frame object>, <zmq.sugar.frame.Frame object>, <zmq.sugar.frame.Frame object>, <zmq.sugar.frame.Frame object>, <zmq.sugar.frame.Frame object>]\n    481         \n    482 \n    483     def _handle_send(self):\n    484         \"\"\"Handle a send event.\"\"\"\n\n...........................................................................\nC:\\Users\\aniru\\Anaconda3\\lib\\site-packages\\zmq\\eventloop\\zmqstream.py in _run_callback(self=<zmq.eventloop.zmqstream.ZMQStream object>, callback=<function null_wrapper>, *args=([<zmq.sugar.frame.Frame object>, <zmq.sugar.frame.Frame object>, <zmq.sugar.frame.Frame object>, <zmq.sugar.frame.Frame object>, <zmq.sugar.frame.Frame object>, <zmq.sugar.frame.Frame object>, <zmq.sugar.frame.Frame object>],), **kwargs={})\n    427         close our socket.\"\"\"\n    428         try:\n    429             # Use a NullContext to ensure that all StackContexts are run\n    430             # inside our blanket exception handler rather than outside.\n    431             with stack_context.NullContext():\n--> 432                 callback(*args, **kwargs)\n        callback = <function null_wrapper>\n        args = ([<zmq.sugar.frame.Frame object>, <zmq.sugar.frame.Frame object>, <zmq.sugar.frame.Frame object>, <zmq.sugar.frame.Frame object>, <zmq.sugar.frame.Frame object>, <zmq.sugar.frame.Frame object>, <zmq.sugar.frame.Frame object>],)\n        kwargs = {}\n    433         except:\n    434             gen_log.error(\"Uncaught exception in ZMQStream callback\",\n    435                           exc_info=True)\n    436             # Re-raise the exception so that IOLoop.handle_callback_exception\n\n...........................................................................\nC:\\Users\\aniru\\Anaconda3\\lib\\site-packages\\tornado\\stack_context.py in null_wrapper(*args=([<zmq.sugar.frame.Frame object>, <zmq.sugar.frame.Frame object>, <zmq.sugar.frame.Frame object>, <zmq.sugar.frame.Frame object>, <zmq.sugar.frame.Frame object>, <zmq.sugar.frame.Frame object>, <zmq.sugar.frame.Frame object>],), **kwargs={})\n    271         # Fast path when there are no active contexts.\n    272         def null_wrapper(*args, **kwargs):\n    273             try:\n    274                 current_state = _state.contexts\n    275                 _state.contexts = cap_contexts[0]\n--> 276                 return fn(*args, **kwargs)\n        args = ([<zmq.sugar.frame.Frame object>, <zmq.sugar.frame.Frame object>, <zmq.sugar.frame.Frame object>, <zmq.sugar.frame.Frame object>, <zmq.sugar.frame.Frame object>, <zmq.sugar.frame.Frame object>, <zmq.sugar.frame.Frame object>],)\n        kwargs = {}\n    277             finally:\n    278                 _state.contexts = current_state\n    279         null_wrapper._wrapped = True\n    280         return null_wrapper\n\n...........................................................................\nC:\\Users\\aniru\\Anaconda3\\lib\\site-packages\\ipykernel\\kernelbase.py in dispatcher(msg=[<zmq.sugar.frame.Frame object>, <zmq.sugar.frame.Frame object>, <zmq.sugar.frame.Frame object>, <zmq.sugar.frame.Frame object>, <zmq.sugar.frame.Frame object>, <zmq.sugar.frame.Frame object>, <zmq.sugar.frame.Frame object>])\n    278         if self.control_stream:\n    279             self.control_stream.on_recv(self.dispatch_control, copy=False)\n    280 \n    281         def make_dispatcher(stream):\n    282             def dispatcher(msg):\n--> 283                 return self.dispatch_shell(stream, msg)\n        msg = [<zmq.sugar.frame.Frame object>, <zmq.sugar.frame.Frame object>, <zmq.sugar.frame.Frame object>, <zmq.sugar.frame.Frame object>, <zmq.sugar.frame.Frame object>, <zmq.sugar.frame.Frame object>, <zmq.sugar.frame.Frame object>]\n    284             return dispatcher\n    285 \n    286         for s in self.shell_streams:\n    287             s.on_recv(make_dispatcher(s), copy=False)\n\n...........................................................................\nC:\\Users\\aniru\\Anaconda3\\lib\\site-packages\\ipykernel\\kernelbase.py in dispatch_shell(self=<ipykernel.ipkernel.IPythonKernel object>, stream=<zmq.eventloop.zmqstream.ZMQStream object>, msg={'buffers': [], 'content': {u'allow_stdin': True, u'code': u\"param_test5 = {'subsample':[0.6,0.7,0.75,0.8,0...es_, gsearch5.best_params_, gsearch5.best_score_\", u'silent': False, u'stop_on_error': True, u'store_history': True, u'user_expressions': {}}, 'header': {u'date': datetime.datetime(2018, 7, 22, 10, 8, 37, 365000, tzinfo=tzutc()), u'msg_id': u'a0b5bcb5a56347de93e337f8e92060ff', u'msg_type': u'execute_request', u'session': u'491b9baf9565441f8e79a2c2ddf0d93f', u'username': u'username', u'version': u'5.2'}, 'metadata': {}, 'msg_id': u'a0b5bcb5a56347de93e337f8e92060ff', 'msg_type': u'execute_request', 'parent_header': {}})\n    228             self.log.warn(\"Unknown message type: %r\", msg_type)\n    229         else:\n    230             self.log.debug(\"%s: %s\", msg_type, msg)\n    231             self.pre_handler_hook()\n    232             try:\n--> 233                 handler(stream, idents, msg)\n        handler = <bound method IPythonKernel.execute_request of <ipykernel.ipkernel.IPythonKernel object>>\n        stream = <zmq.eventloop.zmqstream.ZMQStream object>\n        idents = ['491b9baf9565441f8e79a2c2ddf0d93f']\n        msg = {'buffers': [], 'content': {u'allow_stdin': True, u'code': u\"param_test5 = {'subsample':[0.6,0.7,0.75,0.8,0...es_, gsearch5.best_params_, gsearch5.best_score_\", u'silent': False, u'stop_on_error': True, u'store_history': True, u'user_expressions': {}}, 'header': {u'date': datetime.datetime(2018, 7, 22, 10, 8, 37, 365000, tzinfo=tzutc()), u'msg_id': u'a0b5bcb5a56347de93e337f8e92060ff', u'msg_type': u'execute_request', u'session': u'491b9baf9565441f8e79a2c2ddf0d93f', u'username': u'username', u'version': u'5.2'}, 'metadata': {}, 'msg_id': u'a0b5bcb5a56347de93e337f8e92060ff', 'msg_type': u'execute_request', 'parent_header': {}}\n    234             except Exception:\n    235                 self.log.error(\"Exception in message handler:\", exc_info=True)\n    236             finally:\n    237                 self.post_handler_hook()\n\n...........................................................................\nC:\\Users\\aniru\\Anaconda3\\lib\\site-packages\\ipykernel\\kernelbase.py in execute_request(self=<ipykernel.ipkernel.IPythonKernel object>, stream=<zmq.eventloop.zmqstream.ZMQStream object>, ident=['491b9baf9565441f8e79a2c2ddf0d93f'], parent={'buffers': [], 'content': {u'allow_stdin': True, u'code': u\"param_test5 = {'subsample':[0.6,0.7,0.75,0.8,0...es_, gsearch5.best_params_, gsearch5.best_score_\", u'silent': False, u'stop_on_error': True, u'store_history': True, u'user_expressions': {}}, 'header': {u'date': datetime.datetime(2018, 7, 22, 10, 8, 37, 365000, tzinfo=tzutc()), u'msg_id': u'a0b5bcb5a56347de93e337f8e92060ff', u'msg_type': u'execute_request', u'session': u'491b9baf9565441f8e79a2c2ddf0d93f', u'username': u'username', u'version': u'5.2'}, 'metadata': {}, 'msg_id': u'a0b5bcb5a56347de93e337f8e92060ff', 'msg_type': u'execute_request', 'parent_header': {}})\n    394         if not silent:\n    395             self.execution_count += 1\n    396             self._publish_execute_input(code, parent, self.execution_count)\n    397 \n    398         reply_content = self.do_execute(code, silent, store_history,\n--> 399                                         user_expressions, allow_stdin)\n        user_expressions = {}\n        allow_stdin = True\n    400 \n    401         # Flush output before sending the reply.\n    402         sys.stdout.flush()\n    403         sys.stderr.flush()\n\n...........................................................................\nC:\\Users\\aniru\\Anaconda3\\lib\\site-packages\\ipykernel\\ipkernel.py in do_execute(self=<ipykernel.ipkernel.IPythonKernel object>, code=u\"param_test5 = {'subsample':[0.6,0.7,0.75,0.8,0...es_, gsearch5.best_params_, gsearch5.best_score_\", silent=False, store_history=True, user_expressions={}, allow_stdin=True)\n    203 \n    204         self._forward_input(allow_stdin)\n    205 \n    206         reply_content = {}\n    207         try:\n--> 208             res = shell.run_cell(code, store_history=store_history, silent=silent)\n        res = undefined\n        shell.run_cell = <bound method ZMQInteractiveShell.run_cell of <ipykernel.zmqshell.ZMQInteractiveShell object>>\n        code = u\"param_test5 = {'subsample':[0.6,0.7,0.75,0.8,0...es_, gsearch5.best_params_, gsearch5.best_score_\"\n        store_history = True\n        silent = False\n    209         finally:\n    210             self._restore_input()\n    211 \n    212         if res.error_before_exec is not None:\n\n...........................................................................\nC:\\Users\\aniru\\Anaconda3\\lib\\site-packages\\ipykernel\\zmqshell.py in run_cell(self=<ipykernel.zmqshell.ZMQInteractiveShell object>, *args=(u\"param_test5 = {'subsample':[0.6,0.7,0.75,0.8,0...es_, gsearch5.best_params_, gsearch5.best_score_\",), **kwargs={'silent': False, 'store_history': True})\n    532             )\n    533         self.payload_manager.write_payload(payload)\n    534 \n    535     def run_cell(self, *args, **kwargs):\n    536         self._last_traceback = None\n--> 537         return super(ZMQInteractiveShell, self).run_cell(*args, **kwargs)\n        self.run_cell = <bound method ZMQInteractiveShell.run_cell of <ipykernel.zmqshell.ZMQInteractiveShell object>>\n        args = (u\"param_test5 = {'subsample':[0.6,0.7,0.75,0.8,0...es_, gsearch5.best_params_, gsearch5.best_score_\",)\n        kwargs = {'silent': False, 'store_history': True}\n    538 \n    539     def _showtraceback(self, etype, evalue, stb):\n    540         # try to preserve ordering of tracebacks and print statements\n    541         sys.stdout.flush()\n\n...........................................................................\nC:\\Users\\aniru\\Anaconda3\\lib\\site-packages\\IPython\\core\\interactiveshell.py in run_cell(self=<ipykernel.zmqshell.ZMQInteractiveShell object>, raw_cell=u\"param_test5 = {'subsample':[0.6,0.7,0.75,0.8,0...es_, gsearch5.best_params_, gsearch5.best_score_\", store_history=True, silent=False, shell_futures=True)\n   2709                 self.displayhook.exec_result = result\n   2710 \n   2711                 # Execute the user code\n   2712                 interactivity = \"none\" if silent else self.ast_node_interactivity\n   2713                 has_raised = self.run_ast_nodes(code_ast.body, cell_name,\n-> 2714                    interactivity=interactivity, compiler=compiler, result=result)\n        interactivity = 'last_expr'\n        compiler = <IPython.core.compilerop.CachingCompiler instance>\n   2715                 \n   2716                 self.last_execution_succeeded = not has_raised\n   2717 \n   2718                 # Reset this so later displayed values do not modify the\n\n...........................................................................\nC:\\Users\\aniru\\Anaconda3\\lib\\site-packages\\IPython\\core\\interactiveshell.py in run_ast_nodes(self=<ipykernel.zmqshell.ZMQInteractiveShell object>, nodelist=[<_ast.Assign object>, <_ast.Assign object>, <_ast.Expr object>, <_ast.Expr object>], cell_name='<ipython-input-280-744ccb678f56>', interactivity='last', compiler=<IPython.core.compilerop.CachingCompiler instance>, result=<ExecutionResult object at f7a5f60, execution_co..._before_exec=None error_in_exec=None result=None>)\n   2813 \n   2814         try:\n   2815             for i, node in enumerate(to_run_exec):\n   2816                 mod = ast.Module([node])\n   2817                 code = compiler(mod, cell_name, \"exec\")\n-> 2818                 if self.run_code(code, result):\n        self.run_code = <bound method ZMQInteractiveShell.run_code of <ipykernel.zmqshell.ZMQInteractiveShell object>>\n        code = <code object <module> at 000000003FAF0430, file \"<ipython-input-280-744ccb678f56>\", line 4>\n        result = <ExecutionResult object at f7a5f60, execution_co..._before_exec=None error_in_exec=None result=None>\n   2819                     return True\n   2820 \n   2821             for i, node in enumerate(to_run_interactive):\n   2822                 mod = ast.Interactive([node])\n\n...........................................................................\nC:\\Users\\aniru\\Anaconda3\\lib\\site-packages\\IPython\\core\\interactiveshell.py in run_code(self=<ipykernel.zmqshell.ZMQInteractiveShell object>, code_obj=<code object <module> at 000000003FAF0430, file \"<ipython-input-280-744ccb678f56>\", line 4>, result=<ExecutionResult object at f7a5f60, execution_co..._before_exec=None error_in_exec=None result=None>)\n   2873         outflag = 1  # happens in more places, so it's easier as default\n   2874         try:\n   2875             try:\n   2876                 self.hooks.pre_run_code_hook()\n   2877                 #rprint('Running code', repr(code_obj)) # dbg\n-> 2878                 exec(code_obj, self.user_global_ns, self.user_ns)\n        code_obj = <code object <module> at 000000003FAF0430, file \"<ipython-input-280-744ccb678f56>\", line 4>\n        self.user_global_ns = {'ABC': AdaBoostClassifier(algorithm='SAMME.R', base_est...ing_rate=1.0, n_estimators=50, random_state=None), 'AdaBoostClassifier': <class 'sklearn.ensemble.weight_boosting.AdaBoostClassifier'>, 'BaggingClassifier': <class 'sklearn.ensemble.bagging.BaggingClassifier'>, 'DTC': DecisionTreeClassifier(class_weight='balanced', ...se, random_state=11,\n            splitter='best'), 'DecisionTreeClassifier': <class 'sklearn.tree.tree.DecisionTreeClassifier'>, 'ExtraTreesClassifier': <class 'sklearn.ensemble.forest.ExtraTreesClassifier'>, 'GradientBoostingClassifier': <class 'sklearn.ensemble.gradient_boosting.GradientBoostingClassifier'>, 'GridSearchCV': <class 'sklearn.grid_search.GridSearchCV'>, 'In': ['', u'# First create the base model to tune\\net = Ex...dom search model\\net_random.fit(X_train,Y_train)', u'gsearch6.fit(X_train, Y_train)\\ngsearch6.grid_...es_, gsearch6.best_params_, gsearch6.best_score_', u'import pandas as pd', u'import numpy as np', u'import seaborn as sns', u'import xgboost as xgb', u\"import matplotlib as mlp\\nget_ipython().magic(u'matplotlib inline')\", u'df_test= pd.read_csv(r\"C:\\\\Users\\\\aniru\\\\OneDrive\\\\Desktop\\\\test.csv\")', u'df_train= pd.read_csv(r\"C:\\\\Users\\\\aniru\\\\OneDrive\\\\Desktop\\\\train.csv\")', u'df_train.head(5)', u'df_test.head(5)', u'#Saving the ID\\ntrain_id= df_train[\"id\"]\\ntest_id= df_test[\"id\"]', u'df_train.drop(\"id\", axis = 1, inplace = True)\\ndf_test.drop(\"id\", axis = 1, inplace = True)', u'import matplotlib.pyplot as plt', u\"a = list(df_train['perc_premium_paid_by_cash_credit'])\", u'max(a)', u'min(a)', u'plt.subplots(figsize=(15, 5))\\nplt.subplot(1, ...'], fit_reg=False).set_title(\"Outlier Analysis\")', u\"plt.subplot(1, 2, 2)                          ...p(df_train[(df_train['Income']>20000000)].index)\", ...], 'KFold': <class 'sklearn.model_selection._split.KFold'>, ...}\n        self.user_ns = {'ABC': AdaBoostClassifier(algorithm='SAMME.R', base_est...ing_rate=1.0, n_estimators=50, random_state=None), 'AdaBoostClassifier': <class 'sklearn.ensemble.weight_boosting.AdaBoostClassifier'>, 'BaggingClassifier': <class 'sklearn.ensemble.bagging.BaggingClassifier'>, 'DTC': DecisionTreeClassifier(class_weight='balanced', ...se, random_state=11,\n            splitter='best'), 'DecisionTreeClassifier': <class 'sklearn.tree.tree.DecisionTreeClassifier'>, 'ExtraTreesClassifier': <class 'sklearn.ensemble.forest.ExtraTreesClassifier'>, 'GradientBoostingClassifier': <class 'sklearn.ensemble.gradient_boosting.GradientBoostingClassifier'>, 'GridSearchCV': <class 'sklearn.grid_search.GridSearchCV'>, 'In': ['', u'# First create the base model to tune\\net = Ex...dom search model\\net_random.fit(X_train,Y_train)', u'gsearch6.fit(X_train, Y_train)\\ngsearch6.grid_...es_, gsearch6.best_params_, gsearch6.best_score_', u'import pandas as pd', u'import numpy as np', u'import seaborn as sns', u'import xgboost as xgb', u\"import matplotlib as mlp\\nget_ipython().magic(u'matplotlib inline')\", u'df_test= pd.read_csv(r\"C:\\\\Users\\\\aniru\\\\OneDrive\\\\Desktop\\\\test.csv\")', u'df_train= pd.read_csv(r\"C:\\\\Users\\\\aniru\\\\OneDrive\\\\Desktop\\\\train.csv\")', u'df_train.head(5)', u'df_test.head(5)', u'#Saving the ID\\ntrain_id= df_train[\"id\"]\\ntest_id= df_test[\"id\"]', u'df_train.drop(\"id\", axis = 1, inplace = True)\\ndf_test.drop(\"id\", axis = 1, inplace = True)', u'import matplotlib.pyplot as plt', u\"a = list(df_train['perc_premium_paid_by_cash_credit'])\", u'max(a)', u'min(a)', u'plt.subplots(figsize=(15, 5))\\nplt.subplot(1, ...'], fit_reg=False).set_title(\"Outlier Analysis\")', u\"plt.subplot(1, 2, 2)                          ...p(df_train[(df_train['Income']>20000000)].index)\", ...], 'KFold': <class 'sklearn.model_selection._split.KFold'>, ...}\n   2879             finally:\n   2880                 # Reset our crash handler in place\n   2881                 sys.excepthook = old_excepthook\n   2882         except SystemExit as e:\n\n...........................................................................\nC:\\Users\\aniru\\Documents\\<ipython-input-280-744ccb678f56> in <module>()\n      1 param_test5 = {'subsample':[0.6,0.7,0.75,0.8,0.85,0.9]}\n      2 gsearch5 = GridSearchCV(estimator = GradientBoostingClassifier(learning_rate=0.1, n_estimators=60,max_depth=9,min_samples_split=1200, min_samples_leaf=60, subsample=0.8, random_state=10,max_features=7),\n      3 param_grid = param_test5, scoring='roc_auc',n_jobs=4,iid=False, cv=5)\n----> 4 gsearch5.fit(stacked_validation_train, Y_test)\n      5 gsearch5.grid_scores_, gsearch5.best_params_, gsearch5.best_score_\n\n...........................................................................\nC:\\Users\\aniru\\Anaconda3\\lib\\site-packages\\sklearn\\grid_search.py in fit(self=GridSearchCV(cv=5, error_score='raise',\n       e..._jobs', refit=True, scoring='roc_auc', verbose=0), X=        XGBoost  ExtraTreesClassifier       KNN ... 0.510668      0.717574\n\n[23949 rows x 5 columns], y=array([1, 1, 1, ..., 1, 1, 0], dtype=int64))\n    833         y : array-like, shape = [n_samples] or [n_samples, n_output], optional\n    834             Target relative to X for classification or regression;\n    835             None for unsupervised learning.\n    836 \n    837         \"\"\"\n--> 838         return self._fit(X, y, ParameterGrid(self.param_grid))\n        self._fit = <bound method GridSearchCV._fit of GridSearchCV(...jobs', refit=True, scoring='roc_auc', verbose=0)>\n        X =         XGBoost  ExtraTreesClassifier       KNN ... 0.510668      0.717574\n\n[23949 rows x 5 columns]\n        y = array([1, 1, 1, ..., 1, 1, 0], dtype=int64)\n        self.param_grid = {'subsample': [0.6, 0.7, 0.75, 0.8, 0.85, 0.9]}\n    839 \n    840 \n    841 class RandomizedSearchCV(BaseSearchCV):\n    842     \"\"\"Randomized search on hyper parameters.\n\n...........................................................................\nC:\\Users\\aniru\\Anaconda3\\lib\\site-packages\\sklearn\\grid_search.py in _fit(self=GridSearchCV(cv=5, error_score='raise',\n       e..._jobs', refit=True, scoring='roc_auc', verbose=0), X=        XGBoost  ExtraTreesClassifier       KNN ... 0.510668      0.717574\n\n[23949 rows x 5 columns], y=array([1, 1, 1, ..., 1, 1, 0], dtype=int64), parameter_iterable=<sklearn.grid_search.ParameterGrid object>)\n    569         )(\n    570             delayed(_fit_and_score)(clone(base_estimator), X, y, self.scorer_,\n    571                                     train, test, self.verbose, parameters,\n    572                                     self.fit_params, return_parameters=True,\n    573                                     error_score=self.error_score)\n--> 574                 for parameters in parameter_iterable\n        parameters = undefined\n        parameter_iterable = <sklearn.grid_search.ParameterGrid object>\n    575                 for train, test in cv)\n    576 \n    577         # Out is a list of triplet: score, estimator, n_test_samples\n    578         n_fits = len(out)\n\n...........................................................................\nC:\\Users\\aniru\\Anaconda3\\lib\\site-packages\\sklearn\\externals\\joblib\\parallel.py in __call__(self=Parallel(n_jobs=4), iterable=<generator object <genexpr>>)\n    784             if pre_dispatch == \"all\" or n_jobs == 1:\n    785                 # The iterable was consumed all at once by the above for loop.\n    786                 # No need to wait for async callbacks to trigger to\n    787                 # consumption.\n    788                 self._iterating = False\n--> 789             self.retrieve()\n        self.retrieve = <bound method Parallel.retrieve of Parallel(n_jobs=4)>\n    790             # Make sure that we get a last message telling us we are done\n    791             elapsed_time = time.time() - self._start_time\n    792             self._print('Done %3i out of %3i | elapsed: %s finished',\n    793                         (len(self._output), len(self._output),\n\n---------------------------------------------------------------------------\nSub-process traceback:\n---------------------------------------------------------------------------\nValueError                                         Sun Jul 22 12:13:12 2018\nPID: 9952                Python 2.7.15: C:\\Users\\aniru\\Anaconda3\\python.exe\n...........................................................................\nC:\\Users\\aniru\\Anaconda3\\lib\\site-packages\\sklearn\\externals\\joblib\\parallel.py in __call__(self=<sklearn.externals.joblib.parallel.BatchedCalls object>)\n    126     def __init__(self, iterator_slice):\n    127         self.items = list(iterator_slice)\n    128         self._size = len(self.items)\n    129 \n    130     def __call__(self):\n--> 131         return [func(*args, **kwargs) for func, args, kwargs in self.items]\n        func = <function _fit_and_score>\n        args = (GradientBoostingClassifier(criterion='friedman_m...e=0.6, verbose=0,\n              warm_start=False),         XGBoost  ExtraTreesClassifier       KNN ... 0.510668      0.717574\n\n[23949 rows x 5 columns], array([1, 1, 1, ..., 1, 1, 0], dtype=int64), make_scorer(roc_auc_score, needs_threshold=True), array([ 4363,  4367,  4399, ..., 23946, 23947, 23948]), array([   0,    1,    2, ..., 4814, 4815, 4816]), 0, {'subsample': 0.6}, {})\n        kwargs = {'error_score': 'raise', 'return_parameters': True}\n        self.items = [(<function _fit_and_score>, (GradientBoostingClassifier(criterion='friedman_m...e=0.6, verbose=0,\n              warm_start=False),         XGBoost  ExtraTreesClassifier       KNN ... 0.510668      0.717574\n\n[23949 rows x 5 columns], array([1, 1, 1, ..., 1, 1, 0], dtype=int64), make_scorer(roc_auc_score, needs_threshold=True), array([ 4363,  4367,  4399, ..., 23946, 23947, 23948]), array([   0,    1,    2, ..., 4814, 4815, 4816]), 0, {'subsample': 0.6}, {}), {'error_score': 'raise', 'return_parameters': True})]\n    132 \n    133     def __len__(self):\n    134         return self._size\n    135 \n\n...........................................................................\nC:\\Users\\aniru\\Anaconda3\\lib\\site-packages\\sklearn\\cross_validation.py in _fit_and_score(estimator=GradientBoostingClassifier(criterion='friedman_m...e=0.6, verbose=0,\n              warm_start=False), X=        XGBoost  ExtraTreesClassifier       KNN ... 0.510668      0.717574\n\n[23949 rows x 5 columns], y=array([1, 1, 1, ..., 1, 1, 0], dtype=int64), scorer=make_scorer(roc_auc_score, needs_threshold=True), train=array([ 4363,  4367,  4399, ..., 23946, 23947, 23948]), test=array([   0,    1,    2, ..., 4814, 4815, 4816]), verbose=0, parameters={'subsample': 0.6}, fit_params={}, return_train_score=False, return_parameters=True, error_score='raise')\n   1670 \n   1671     try:\n   1672         if y_train is None:\n   1673             estimator.fit(X_train, **fit_params)\n   1674         else:\n-> 1675             estimator.fit(X_train, y_train, **fit_params)\n        estimator.fit = <bound method GradientBoostingClassifier.fit of ...=0.6, verbose=0,\n              warm_start=False)>\n        X_train =         XGBoost  ExtraTreesClassifier       KNN ... 0.510668      0.717574\n\n[19159 rows x 5 columns]\n        y_train = array([0, 0, 0, ..., 1, 1, 0], dtype=int64)\n        fit_params = {}\n   1676 \n   1677     except Exception as e:\n   1678         if error_score == 'raise':\n   1679             raise\n\n...........................................................................\nC:\\Users\\aniru\\Anaconda3\\lib\\site-packages\\sklearn\\ensemble\\gradient_boosting.py in fit(self=GradientBoostingClassifier(criterion='friedman_m...e=0.6, verbose=0,\n              warm_start=False), X=array([[0.7477383 , 0.6752161 , 1.        , 0.50... , 0.51066846, 0.71757406]],\n      dtype=float32), y=array([0, 0, 0, ..., 1, 1, 0], dtype=int64), sample_weight=array([1., 1., 1., ..., 1., 1., 1.], dtype=float32), monitor=None)\n   1029                 X_idx_sorted = np.asfortranarray(np.argsort(X, axis=0),\n   1030                                                  dtype=np.int32)\n   1031 \n   1032         # fit the boosting stages\n   1033         n_stages = self._fit_stages(X, y, y_pred, sample_weight, random_state,\n-> 1034                                     begin_at_stage, monitor, X_idx_sorted)\n        begin_at_stage = 0\n        monitor = None\n        X_idx_sorted = array([[17812,  8590,  8065,  3086,  2797],\n    ...61],\n       [12998, 10514, 19158, 12998, 13185]])\n   1035         # change shape of arrays after fit (early-stopping or additional ests)\n   1036         if n_stages != self.estimators_.shape[0]:\n   1037             self.estimators_ = self.estimators_[:n_stages]\n   1038             self.train_score_ = self.train_score_[:n_stages]\n\n...........................................................................\nC:\\Users\\aniru\\Anaconda3\\lib\\site-packages\\sklearn\\ensemble\\gradient_boosting.py in _fit_stages(self=GradientBoostingClassifier(criterion='friedman_m...e=0.6, verbose=0,\n              warm_start=False), X=array([[0.7477383 , 0.6752161 , 1.        , 0.50... , 0.51066846, 0.71757406]],\n      dtype=float32), y=array([0, 0, 0, ..., 1, 1, 0], dtype=int64), y_pred=array([[2.70665919],\n       [2.70665919],\n      ...5919],\n       [2.70665919],\n       [2.70665919]]), sample_weight=array([1., 1., 1., ..., 1., 1., 1.], dtype=float32), random_state=<mtrand.RandomState object>, begin_at_stage=0, monitor=None, X_idx_sorted=array([[17812,  8590,  8065,  3086,  2797],\n    ...61],\n       [12998, 10514, 19158, 12998, 13185]]))\n   1084                                       sample_weight[~sample_mask])\n   1085 \n   1086             # fit next stage of trees\n   1087             y_pred = self._fit_stage(i, X, y, y_pred, sample_weight,\n   1088                                      sample_mask, random_state, X_idx_sorted,\n-> 1089                                      X_csc, X_csr)\n        X_csc = None\n        X_csr = None\n   1090 \n   1091             # track deviance (= loss)\n   1092             if do_oob:\n   1093                 self.train_score_[i] = loss_(y[sample_mask],\n\n...........................................................................\nC:\\Users\\aniru\\Anaconda3\\lib\\site-packages\\sklearn\\ensemble\\gradient_boosting.py in _fit_stage(self=GradientBoostingClassifier(criterion='friedman_m...e=0.6, verbose=0,\n              warm_start=False), i=0, X=array([[0.7477383 , 0.6752161 , 1.        , 0.50... , 0.51066846, 0.71757406]],\n      dtype=float32), y=array([0, 0, 0, ..., 1, 1, 0], dtype=int64), y_pred=array([[2.70665919],\n       [2.70665919],\n      ...5919],\n       [2.70665919],\n       [2.70665919]]), sample_weight=array([0., 1., 0., ..., 1., 0., 1.]), sample_mask=array([False,  True, False, ...,  True, False,  True]), random_state=<mtrand.RandomState object>, X_idx_sorted=array([[17812,  8590,  8065,  3086,  2797],\n    ...61],\n       [12998, 10514, 19158, 12998, 13185]]), X_csc=None, X_csr=None)\n    783             if X_csc is not None:\n    784                 tree.fit(X_csc, residual, sample_weight=sample_weight,\n    785                          check_input=False, X_idx_sorted=X_idx_sorted)\n    786             else:\n    787                 tree.fit(X, residual, sample_weight=sample_weight,\n--> 788                          check_input=False, X_idx_sorted=X_idx_sorted)\n        X_idx_sorted = array([[17812,  8590,  8065,  3086,  2797],\n    ...61],\n       [12998, 10514, 19158, 12998, 13185]])\n    789 \n    790             # update tree leaves\n    791             if X_csr is not None:\n    792                 loss.update_terminal_regions(tree.tree_, X_csr, y, residual, y_pred,\n\n...........................................................................\nC:\\Users\\aniru\\Anaconda3\\lib\\site-packages\\sklearn\\tree\\tree.py in fit(self=DecisionTreeRegressor(criterion='friedman_mse', ... 0x0000000007EDE6C0>,\n           splitter='best'), X=array([[0.7477383 , 0.6752161 , 1.        , 0.50... , 0.51066846, 0.71757406]],\n      dtype=float32), y=array([-0.93741845, -0.93741845, -0.93741845, ...,  0.06258155,\n        0.06258155, -0.93741845]), sample_weight=array([0., 1., 0., ..., 1., 0., 1.]), check_input=False, X_idx_sorted=array([[17812,  8590,  8065,  3086,  2797],\n    ...61],\n       [12998, 10514, 19158, 12998, 13185]]))\n   1119 \n   1120         super(DecisionTreeRegressor, self).fit(\n   1121             X, y,\n   1122             sample_weight=sample_weight,\n   1123             check_input=check_input,\n-> 1124             X_idx_sorted=X_idx_sorted)\n        X_idx_sorted = array([[17812,  8590,  8065,  3086,  2797],\n    ...61],\n       [12998, 10514, 19158, 12998, 13185]])\n   1125         return self\n   1126 \n   1127 \n   1128 class ExtraTreeClassifier(DecisionTreeClassifier):\n\n...........................................................................\nC:\\Users\\aniru\\Anaconda3\\lib\\site-packages\\sklearn\\tree\\tree.py in fit(self=DecisionTreeRegressor(criterion='friedman_mse', ... 0x0000000007EDE6C0>,\n           splitter='best'), X=array([[0.7477383 , 0.6752161 , 1.        , 0.50... , 0.51066846, 0.71757406]],\n      dtype=float32), y=array([[-0.93741845],\n       [-0.93741845],\n    ...55],\n       [ 0.06258155],\n       [-0.93741845]]), sample_weight=array([0., 1., 0., ..., 1., 0., 1.]), check_input=False, X_idx_sorted=array([[17812,  8590,  8065,  3086,  2797],\n    ...61],\n       [12998, 10514, 19158, 12998, 13185]]))\n    237         if not 0 <= self.min_weight_fraction_leaf <= 0.5:\n    238             raise ValueError(\"min_weight_fraction_leaf must in [0, 0.5]\")\n    239         if max_depth <= 0:\n    240             raise ValueError(\"max_depth must be greater than zero. \")\n    241         if not (0 < max_features <= self.n_features_):\n--> 242             raise ValueError(\"max_features must be in (0, n_features]\")\n    243         if not isinstance(max_leaf_nodes, (numbers.Integral, np.integer)):\n    244             raise ValueError(\"max_leaf_nodes must be integral number but was \"\n    245                              \"%r\" % max_leaf_nodes)\n    246         if -1 < max_leaf_nodes < 2:\n\nValueError: max_features must be in (0, n_features]\n___________________________________________________________________________",
     "output_type": "error",
     "traceback": [
      "\u001b[1;31m---------------------------------------------------------------------------\u001b[0m",
      "\u001b[1;31mJoblibValueError\u001b[0m                          Traceback (most recent call last)",
      "\u001b[1;32m<ipython-input-280-744ccb678f56>\u001b[0m in \u001b[0;36m<module>\u001b[1;34m()\u001b[0m\n\u001b[0;32m      2\u001b[0m gsearch5 = GridSearchCV(estimator = GradientBoostingClassifier(learning_rate=0.1, n_estimators=60,max_depth=9,min_samples_split=1200, min_samples_leaf=60, subsample=0.8, random_state=10,max_features=7),\n\u001b[0;32m      3\u001b[0m param_grid = param_test5, scoring='roc_auc',n_jobs=4,iid=False, cv=5)\n\u001b[1;32m----> 4\u001b[1;33m \u001b[0mgsearch5\u001b[0m\u001b[1;33m.\u001b[0m\u001b[0mfit\u001b[0m\u001b[1;33m(\u001b[0m\u001b[0mstacked_validation_train\u001b[0m\u001b[1;33m,\u001b[0m \u001b[0mY_test\u001b[0m\u001b[1;33m)\u001b[0m\u001b[1;33m\u001b[0m\u001b[0m\n\u001b[0m\u001b[0;32m      5\u001b[0m \u001b[0mgsearch5\u001b[0m\u001b[1;33m.\u001b[0m\u001b[0mgrid_scores_\u001b[0m\u001b[1;33m,\u001b[0m \u001b[0mgsearch5\u001b[0m\u001b[1;33m.\u001b[0m\u001b[0mbest_params_\u001b[0m\u001b[1;33m,\u001b[0m \u001b[0mgsearch5\u001b[0m\u001b[1;33m.\u001b[0m\u001b[0mbest_score_\u001b[0m\u001b[1;33m\u001b[0m\u001b[0m\n",
      "\u001b[1;32mC:\\Users\\aniru\\Anaconda3\\lib\\site-packages\\sklearn\\grid_search.pyc\u001b[0m in \u001b[0;36mfit\u001b[1;34m(self, X, y)\u001b[0m\n\u001b[0;32m    836\u001b[0m \u001b[1;33m\u001b[0m\u001b[0m\n\u001b[0;32m    837\u001b[0m         \"\"\"\n\u001b[1;32m--> 838\u001b[1;33m         \u001b[1;32mreturn\u001b[0m \u001b[0mself\u001b[0m\u001b[1;33m.\u001b[0m\u001b[0m_fit\u001b[0m\u001b[1;33m(\u001b[0m\u001b[0mX\u001b[0m\u001b[1;33m,\u001b[0m \u001b[0my\u001b[0m\u001b[1;33m,\u001b[0m \u001b[0mParameterGrid\u001b[0m\u001b[1;33m(\u001b[0m\u001b[0mself\u001b[0m\u001b[1;33m.\u001b[0m\u001b[0mparam_grid\u001b[0m\u001b[1;33m)\u001b[0m\u001b[1;33m)\u001b[0m\u001b[1;33m\u001b[0m\u001b[0m\n\u001b[0m\u001b[0;32m    839\u001b[0m \u001b[1;33m\u001b[0m\u001b[0m\n\u001b[0;32m    840\u001b[0m \u001b[1;33m\u001b[0m\u001b[0m\n",
      "\u001b[1;32mC:\\Users\\aniru\\Anaconda3\\lib\\site-packages\\sklearn\\grid_search.pyc\u001b[0m in \u001b[0;36m_fit\u001b[1;34m(self, X, y, parameter_iterable)\u001b[0m\n\u001b[0;32m    572\u001b[0m                                     \u001b[0mself\u001b[0m\u001b[1;33m.\u001b[0m\u001b[0mfit_params\u001b[0m\u001b[1;33m,\u001b[0m \u001b[0mreturn_parameters\u001b[0m\u001b[1;33m=\u001b[0m\u001b[0mTrue\u001b[0m\u001b[1;33m,\u001b[0m\u001b[1;33m\u001b[0m\u001b[0m\n\u001b[0;32m    573\u001b[0m                                     error_score=self.error_score)\n\u001b[1;32m--> 574\u001b[1;33m                 \u001b[1;32mfor\u001b[0m \u001b[0mparameters\u001b[0m \u001b[1;32min\u001b[0m \u001b[0mparameter_iterable\u001b[0m\u001b[1;33m\u001b[0m\u001b[0m\n\u001b[0m\u001b[0;32m    575\u001b[0m                 for train, test in cv)\n\u001b[0;32m    576\u001b[0m \u001b[1;33m\u001b[0m\u001b[0m\n",
      "\u001b[1;32mC:\\Users\\aniru\\Anaconda3\\lib\\site-packages\\sklearn\\externals\\joblib\\parallel.pyc\u001b[0m in \u001b[0;36m__call__\u001b[1;34m(self, iterable)\u001b[0m\n\u001b[0;32m    787\u001b[0m                 \u001b[1;31m# consumption.\u001b[0m\u001b[1;33m\u001b[0m\u001b[1;33m\u001b[0m\u001b[0m\n\u001b[0;32m    788\u001b[0m                 \u001b[0mself\u001b[0m\u001b[1;33m.\u001b[0m\u001b[0m_iterating\u001b[0m \u001b[1;33m=\u001b[0m \u001b[0mFalse\u001b[0m\u001b[1;33m\u001b[0m\u001b[0m\n\u001b[1;32m--> 789\u001b[1;33m             \u001b[0mself\u001b[0m\u001b[1;33m.\u001b[0m\u001b[0mretrieve\u001b[0m\u001b[1;33m(\u001b[0m\u001b[1;33m)\u001b[0m\u001b[1;33m\u001b[0m\u001b[0m\n\u001b[0m\u001b[0;32m    790\u001b[0m             \u001b[1;31m# Make sure that we get a last message telling us we are done\u001b[0m\u001b[1;33m\u001b[0m\u001b[1;33m\u001b[0m\u001b[0m\n\u001b[0;32m    791\u001b[0m             \u001b[0melapsed_time\u001b[0m \u001b[1;33m=\u001b[0m \u001b[0mtime\u001b[0m\u001b[1;33m.\u001b[0m\u001b[0mtime\u001b[0m\u001b[1;33m(\u001b[0m\u001b[1;33m)\u001b[0m \u001b[1;33m-\u001b[0m \u001b[0mself\u001b[0m\u001b[1;33m.\u001b[0m\u001b[0m_start_time\u001b[0m\u001b[1;33m\u001b[0m\u001b[0m\n",
      "\u001b[1;32mC:\\Users\\aniru\\Anaconda3\\lib\\site-packages\\sklearn\\externals\\joblib\\parallel.pyc\u001b[0m in \u001b[0;36mretrieve\u001b[1;34m(self)\u001b[0m\n\u001b[0;32m    738\u001b[0m                     \u001b[0mexception\u001b[0m \u001b[1;33m=\u001b[0m \u001b[0mexception_type\u001b[0m\u001b[1;33m(\u001b[0m\u001b[0mreport\u001b[0m\u001b[1;33m)\u001b[0m\u001b[1;33m\u001b[0m\u001b[0m\n\u001b[0;32m    739\u001b[0m \u001b[1;33m\u001b[0m\u001b[0m\n\u001b[1;32m--> 740\u001b[1;33m                     \u001b[1;32mraise\u001b[0m \u001b[0mexception\u001b[0m\u001b[1;33m\u001b[0m\u001b[0m\n\u001b[0m\u001b[0;32m    741\u001b[0m \u001b[1;33m\u001b[0m\u001b[0m\n\u001b[0;32m    742\u001b[0m     \u001b[1;32mdef\u001b[0m \u001b[0m__call__\u001b[0m\u001b[1;33m(\u001b[0m\u001b[0mself\u001b[0m\u001b[1;33m,\u001b[0m \u001b[0miterable\u001b[0m\u001b[1;33m)\u001b[0m\u001b[1;33m:\u001b[0m\u001b[1;33m\u001b[0m\u001b[0m\n",
      "\u001b[1;31mJoblibValueError\u001b[0m: JoblibValueError\n___________________________________________________________________________\nMultiprocessing exception:\n...........................................................................\nC:\\Users\\aniru\\Anaconda3\\lib\\runpy.py in _run_module_as_main(mod_name='ipykernel_launcher', alter_argv=1)\n    169     pkg_name = mod_name.rpartition('.')[0]\n    170     main_globals = sys.modules[\"__main__\"].__dict__\n    171     if alter_argv:\n    172         sys.argv[0] = fname\n    173     return _run_code(code, main_globals, None,\n--> 174                      \"__main__\", fname, loader, pkg_name)\n        fname = r'C:\\Users\\aniru\\Anaconda3\\lib\\site-packages\\ipykernel_launcher.py'\n        loader = <pkgutil.ImpLoader instance>\n        pkg_name = ''\n    175 \n    176 def run_module(mod_name, init_globals=None,\n    177                run_name=None, alter_sys=False):\n    178     \"\"\"Execute a module's code without importing it\n\n...........................................................................\nC:\\Users\\aniru\\Anaconda3\\lib\\runpy.py in _run_code(code=<code object <module> at 0000000002B182B0, file ...lib\\site-packages\\ipykernel_launcher.py\", line 5>, run_globals={'__builtins__': <module '__builtin__' (built-in)>, '__doc__': 'Entry point for launching an IPython kernel.\\n\\nTh...orts until\\nafter removing the cwd from sys.path.\\n', '__file__': r'C:\\Users\\aniru\\Anaconda3\\lib\\site-packages\\ipykernel_launcher.py', '__loader__': <pkgutil.ImpLoader instance>, '__name__': '__main__', '__package__': '', 'app': <module 'ipykernel.kernelapp' from 'C:\\Users\\ani...onda3\\lib\\site-packages\\ipykernel\\kernelapp.pyc'>, 'sys': <module 'sys' (built-in)>}, init_globals=None, mod_name='__main__', mod_fname=r'C:\\Users\\aniru\\Anaconda3\\lib\\site-packages\\ipykernel_launcher.py', mod_loader=<pkgutil.ImpLoader instance>, pkg_name='')\n     67         run_globals.update(init_globals)\n     68     run_globals.update(__name__ = mod_name,\n     69                        __file__ = mod_fname,\n     70                        __loader__ = mod_loader,\n     71                        __package__ = pkg_name)\n---> 72     exec code in run_globals\n        code = <code object <module> at 0000000002B182B0, file ...lib\\site-packages\\ipykernel_launcher.py\", line 5>\n        run_globals = {'__builtins__': <module '__builtin__' (built-in)>, '__doc__': 'Entry point for launching an IPython kernel.\\n\\nTh...orts until\\nafter removing the cwd from sys.path.\\n', '__file__': r'C:\\Users\\aniru\\Anaconda3\\lib\\site-packages\\ipykernel_launcher.py', '__loader__': <pkgutil.ImpLoader instance>, '__name__': '__main__', '__package__': '', 'app': <module 'ipykernel.kernelapp' from 'C:\\Users\\ani...onda3\\lib\\site-packages\\ipykernel\\kernelapp.pyc'>, 'sys': <module 'sys' (built-in)>}\n     73     return run_globals\n     74 \n     75 def _run_module_code(code, init_globals=None,\n     76                     mod_name=None, mod_fname=None,\n\n...........................................................................\nC:\\Users\\aniru\\Anaconda3\\lib\\site-packages\\ipykernel_launcher.py in <module>()\n     11     # This is added back by InteractiveShellApp.init_path()\n     12     if sys.path[0] == '':\n     13         del sys.path[0]\n     14 \n     15     from ipykernel import kernelapp as app\n---> 16     app.launch_new_instance()\n\n...........................................................................\nC:\\Users\\aniru\\Anaconda3\\lib\\site-packages\\traitlets\\config\\application.py in launch_instance(cls=<class 'ipykernel.kernelapp.IPKernelApp'>, argv=None, **kwargs={})\n    653 \n    654         If a global instance already exists, this reinitializes and starts it\n    655         \"\"\"\n    656         app = cls.instance(**kwargs)\n    657         app.initialize(argv)\n--> 658         app.start()\n        app.start = <bound method IPKernelApp.start of <ipykernel.kernelapp.IPKernelApp object>>\n    659 \n    660 #-----------------------------------------------------------------------------\n    661 # utility functions, for convenience\n    662 #-----------------------------------------------------------------------------\n\n...........................................................................\nC:\\Users\\aniru\\Anaconda3\\lib\\site-packages\\ipykernel\\kernelapp.py in start(self=<ipykernel.kernelapp.IPKernelApp object>)\n    481         if self.poller is not None:\n    482             self.poller.start()\n    483         self.kernel.start()\n    484         self.io_loop = ioloop.IOLoop.current()\n    485         try:\n--> 486             self.io_loop.start()\n        self.io_loop.start = <bound method ZMQIOLoop.start of <zmq.eventloop.ioloop.ZMQIOLoop object>>\n    487         except KeyboardInterrupt:\n    488             pass\n    489 \n    490 launch_new_instance = IPKernelApp.launch_instance\n\n...........................................................................\nC:\\Users\\aniru\\Anaconda3\\lib\\site-packages\\tornado\\ioloop.py in start(self=<zmq.eventloop.ioloop.ZMQIOLoop object>)\n   1003                         self._timeouts = [x for x in self._timeouts\n   1004                                           if x.callback is not None]\n   1005                         heapq.heapify(self._timeouts)\n   1006 \n   1007                 for i in range(ncallbacks):\n-> 1008                     self._run_callback(self._callbacks.popleft())\n        self._run_callback = <bound method ZMQIOLoop._run_callback of <zmq.eventloop.ioloop.ZMQIOLoop object>>\n        self._callbacks.popleft = <built-in method popleft of collections.deque object>\n   1009                 for timeout in due_timeouts:\n   1010                     if timeout.callback is not None:\n   1011                         self._run_callback(timeout.callback)\n   1012                 # Closures may be holding on to a lot of memory, so allow\n\n...........................................................................\nC:\\Users\\aniru\\Anaconda3\\lib\\site-packages\\tornado\\ioloop.py in _run_callback(self=<zmq.eventloop.ioloop.ZMQIOLoop object>, callback=<functools.partial object>)\n    754         \"\"\"Runs a callback with error handling.\n    755 \n    756         For use in subclasses.\n    757         \"\"\"\n    758         try:\n--> 759             ret = callback()\n        ret = undefined\n        callback = <functools.partial object>\n    760             if ret is not None:\n    761                 from tornado import gen\n    762                 # Functions that return Futures typically swallow all\n    763                 # exceptions and store them in the Future.  If a Future\n\n...........................................................................\nC:\\Users\\aniru\\Anaconda3\\lib\\site-packages\\tornado\\stack_context.py in null_wrapper(*args=(), **kwargs={})\n    271         # Fast path when there are no active contexts.\n    272         def null_wrapper(*args, **kwargs):\n    273             try:\n    274                 current_state = _state.contexts\n    275                 _state.contexts = cap_contexts[0]\n--> 276                 return fn(*args, **kwargs)\n        args = ()\n        kwargs = {}\n    277             finally:\n    278                 _state.contexts = current_state\n    279         null_wrapper._wrapped = True\n    280         return null_wrapper\n\n...........................................................................\nC:\\Users\\aniru\\Anaconda3\\lib\\site-packages\\zmq\\eventloop\\zmqstream.py in <lambda>()\n    531             return\n    532 \n    533         if state & self.socket.events:\n    534             # events still exist that haven't been processed\n    535             # explicitly schedule handling to avoid missing events due to edge-triggered FDs\n--> 536             self.io_loop.add_callback(lambda : self._handle_events(self.socket, 0))\n    537 \n    538     def _init_io_state(self):\n    539         \"\"\"initialize the ioloop event handler\"\"\"\n    540         with stack_context.NullContext():\n\n...........................................................................\nC:\\Users\\aniru\\Anaconda3\\lib\\site-packages\\zmq\\eventloop\\zmqstream.py in _handle_events(self=<zmq.eventloop.zmqstream.ZMQStream object>, fd=<zmq.sugar.socket.Socket object>, events=0)\n    445             return\n    446         zmq_events = self.socket.EVENTS\n    447         try:\n    448             # dispatch events:\n    449             if zmq_events & zmq.POLLIN and self.receiving():\n--> 450                 self._handle_recv()\n        self._handle_recv = <bound method ZMQStream._handle_recv of <zmq.eventloop.zmqstream.ZMQStream object>>\n    451                 if not self.socket:\n    452                     return\n    453             if zmq_events & zmq.POLLOUT and self.sending():\n    454                 self._handle_send()\n\n...........................................................................\nC:\\Users\\aniru\\Anaconda3\\lib\\site-packages\\zmq\\eventloop\\zmqstream.py in _handle_recv(self=<zmq.eventloop.zmqstream.ZMQStream object>)\n    475             else:\n    476                 raise\n    477         else:\n    478             if self._recv_callback:\n    479                 callback = self._recv_callback\n--> 480                 self._run_callback(callback, msg)\n        self._run_callback = <bound method ZMQStream._run_callback of <zmq.eventloop.zmqstream.ZMQStream object>>\n        callback = <function null_wrapper>\n        msg = [<zmq.sugar.frame.Frame object>, <zmq.sugar.frame.Frame object>, <zmq.sugar.frame.Frame object>, <zmq.sugar.frame.Frame object>, <zmq.sugar.frame.Frame object>, <zmq.sugar.frame.Frame object>, <zmq.sugar.frame.Frame object>]\n    481         \n    482 \n    483     def _handle_send(self):\n    484         \"\"\"Handle a send event.\"\"\"\n\n...........................................................................\nC:\\Users\\aniru\\Anaconda3\\lib\\site-packages\\zmq\\eventloop\\zmqstream.py in _run_callback(self=<zmq.eventloop.zmqstream.ZMQStream object>, callback=<function null_wrapper>, *args=([<zmq.sugar.frame.Frame object>, <zmq.sugar.frame.Frame object>, <zmq.sugar.frame.Frame object>, <zmq.sugar.frame.Frame object>, <zmq.sugar.frame.Frame object>, <zmq.sugar.frame.Frame object>, <zmq.sugar.frame.Frame object>],), **kwargs={})\n    427         close our socket.\"\"\"\n    428         try:\n    429             # Use a NullContext to ensure that all StackContexts are run\n    430             # inside our blanket exception handler rather than outside.\n    431             with stack_context.NullContext():\n--> 432                 callback(*args, **kwargs)\n        callback = <function null_wrapper>\n        args = ([<zmq.sugar.frame.Frame object>, <zmq.sugar.frame.Frame object>, <zmq.sugar.frame.Frame object>, <zmq.sugar.frame.Frame object>, <zmq.sugar.frame.Frame object>, <zmq.sugar.frame.Frame object>, <zmq.sugar.frame.Frame object>],)\n        kwargs = {}\n    433         except:\n    434             gen_log.error(\"Uncaught exception in ZMQStream callback\",\n    435                           exc_info=True)\n    436             # Re-raise the exception so that IOLoop.handle_callback_exception\n\n...........................................................................\nC:\\Users\\aniru\\Anaconda3\\lib\\site-packages\\tornado\\stack_context.py in null_wrapper(*args=([<zmq.sugar.frame.Frame object>, <zmq.sugar.frame.Frame object>, <zmq.sugar.frame.Frame object>, <zmq.sugar.frame.Frame object>, <zmq.sugar.frame.Frame object>, <zmq.sugar.frame.Frame object>, <zmq.sugar.frame.Frame object>],), **kwargs={})\n    271         # Fast path when there are no active contexts.\n    272         def null_wrapper(*args, **kwargs):\n    273             try:\n    274                 current_state = _state.contexts\n    275                 _state.contexts = cap_contexts[0]\n--> 276                 return fn(*args, **kwargs)\n        args = ([<zmq.sugar.frame.Frame object>, <zmq.sugar.frame.Frame object>, <zmq.sugar.frame.Frame object>, <zmq.sugar.frame.Frame object>, <zmq.sugar.frame.Frame object>, <zmq.sugar.frame.Frame object>, <zmq.sugar.frame.Frame object>],)\n        kwargs = {}\n    277             finally:\n    278                 _state.contexts = current_state\n    279         null_wrapper._wrapped = True\n    280         return null_wrapper\n\n...........................................................................\nC:\\Users\\aniru\\Anaconda3\\lib\\site-packages\\ipykernel\\kernelbase.py in dispatcher(msg=[<zmq.sugar.frame.Frame object>, <zmq.sugar.frame.Frame object>, <zmq.sugar.frame.Frame object>, <zmq.sugar.frame.Frame object>, <zmq.sugar.frame.Frame object>, <zmq.sugar.frame.Frame object>, <zmq.sugar.frame.Frame object>])\n    278         if self.control_stream:\n    279             self.control_stream.on_recv(self.dispatch_control, copy=False)\n    280 \n    281         def make_dispatcher(stream):\n    282             def dispatcher(msg):\n--> 283                 return self.dispatch_shell(stream, msg)\n        msg = [<zmq.sugar.frame.Frame object>, <zmq.sugar.frame.Frame object>, <zmq.sugar.frame.Frame object>, <zmq.sugar.frame.Frame object>, <zmq.sugar.frame.Frame object>, <zmq.sugar.frame.Frame object>, <zmq.sugar.frame.Frame object>]\n    284             return dispatcher\n    285 \n    286         for s in self.shell_streams:\n    287             s.on_recv(make_dispatcher(s), copy=False)\n\n...........................................................................\nC:\\Users\\aniru\\Anaconda3\\lib\\site-packages\\ipykernel\\kernelbase.py in dispatch_shell(self=<ipykernel.ipkernel.IPythonKernel object>, stream=<zmq.eventloop.zmqstream.ZMQStream object>, msg={'buffers': [], 'content': {u'allow_stdin': True, u'code': u\"param_test5 = {'subsample':[0.6,0.7,0.75,0.8,0...es_, gsearch5.best_params_, gsearch5.best_score_\", u'silent': False, u'stop_on_error': True, u'store_history': True, u'user_expressions': {}}, 'header': {u'date': datetime.datetime(2018, 7, 22, 10, 8, 37, 365000, tzinfo=tzutc()), u'msg_id': u'a0b5bcb5a56347de93e337f8e92060ff', u'msg_type': u'execute_request', u'session': u'491b9baf9565441f8e79a2c2ddf0d93f', u'username': u'username', u'version': u'5.2'}, 'metadata': {}, 'msg_id': u'a0b5bcb5a56347de93e337f8e92060ff', 'msg_type': u'execute_request', 'parent_header': {}})\n    228             self.log.warn(\"Unknown message type: %r\", msg_type)\n    229         else:\n    230             self.log.debug(\"%s: %s\", msg_type, msg)\n    231             self.pre_handler_hook()\n    232             try:\n--> 233                 handler(stream, idents, msg)\n        handler = <bound method IPythonKernel.execute_request of <ipykernel.ipkernel.IPythonKernel object>>\n        stream = <zmq.eventloop.zmqstream.ZMQStream object>\n        idents = ['491b9baf9565441f8e79a2c2ddf0d93f']\n        msg = {'buffers': [], 'content': {u'allow_stdin': True, u'code': u\"param_test5 = {'subsample':[0.6,0.7,0.75,0.8,0...es_, gsearch5.best_params_, gsearch5.best_score_\", u'silent': False, u'stop_on_error': True, u'store_history': True, u'user_expressions': {}}, 'header': {u'date': datetime.datetime(2018, 7, 22, 10, 8, 37, 365000, tzinfo=tzutc()), u'msg_id': u'a0b5bcb5a56347de93e337f8e92060ff', u'msg_type': u'execute_request', u'session': u'491b9baf9565441f8e79a2c2ddf0d93f', u'username': u'username', u'version': u'5.2'}, 'metadata': {}, 'msg_id': u'a0b5bcb5a56347de93e337f8e92060ff', 'msg_type': u'execute_request', 'parent_header': {}}\n    234             except Exception:\n    235                 self.log.error(\"Exception in message handler:\", exc_info=True)\n    236             finally:\n    237                 self.post_handler_hook()\n\n...........................................................................\nC:\\Users\\aniru\\Anaconda3\\lib\\site-packages\\ipykernel\\kernelbase.py in execute_request(self=<ipykernel.ipkernel.IPythonKernel object>, stream=<zmq.eventloop.zmqstream.ZMQStream object>, ident=['491b9baf9565441f8e79a2c2ddf0d93f'], parent={'buffers': [], 'content': {u'allow_stdin': True, u'code': u\"param_test5 = {'subsample':[0.6,0.7,0.75,0.8,0...es_, gsearch5.best_params_, gsearch5.best_score_\", u'silent': False, u'stop_on_error': True, u'store_history': True, u'user_expressions': {}}, 'header': {u'date': datetime.datetime(2018, 7, 22, 10, 8, 37, 365000, tzinfo=tzutc()), u'msg_id': u'a0b5bcb5a56347de93e337f8e92060ff', u'msg_type': u'execute_request', u'session': u'491b9baf9565441f8e79a2c2ddf0d93f', u'username': u'username', u'version': u'5.2'}, 'metadata': {}, 'msg_id': u'a0b5bcb5a56347de93e337f8e92060ff', 'msg_type': u'execute_request', 'parent_header': {}})\n    394         if not silent:\n    395             self.execution_count += 1\n    396             self._publish_execute_input(code, parent, self.execution_count)\n    397 \n    398         reply_content = self.do_execute(code, silent, store_history,\n--> 399                                         user_expressions, allow_stdin)\n        user_expressions = {}\n        allow_stdin = True\n    400 \n    401         # Flush output before sending the reply.\n    402         sys.stdout.flush()\n    403         sys.stderr.flush()\n\n...........................................................................\nC:\\Users\\aniru\\Anaconda3\\lib\\site-packages\\ipykernel\\ipkernel.py in do_execute(self=<ipykernel.ipkernel.IPythonKernel object>, code=u\"param_test5 = {'subsample':[0.6,0.7,0.75,0.8,0...es_, gsearch5.best_params_, gsearch5.best_score_\", silent=False, store_history=True, user_expressions={}, allow_stdin=True)\n    203 \n    204         self._forward_input(allow_stdin)\n    205 \n    206         reply_content = {}\n    207         try:\n--> 208             res = shell.run_cell(code, store_history=store_history, silent=silent)\n        res = undefined\n        shell.run_cell = <bound method ZMQInteractiveShell.run_cell of <ipykernel.zmqshell.ZMQInteractiveShell object>>\n        code = u\"param_test5 = {'subsample':[0.6,0.7,0.75,0.8,0...es_, gsearch5.best_params_, gsearch5.best_score_\"\n        store_history = True\n        silent = False\n    209         finally:\n    210             self._restore_input()\n    211 \n    212         if res.error_before_exec is not None:\n\n...........................................................................\nC:\\Users\\aniru\\Anaconda3\\lib\\site-packages\\ipykernel\\zmqshell.py in run_cell(self=<ipykernel.zmqshell.ZMQInteractiveShell object>, *args=(u\"param_test5 = {'subsample':[0.6,0.7,0.75,0.8,0...es_, gsearch5.best_params_, gsearch5.best_score_\",), **kwargs={'silent': False, 'store_history': True})\n    532             )\n    533         self.payload_manager.write_payload(payload)\n    534 \n    535     def run_cell(self, *args, **kwargs):\n    536         self._last_traceback = None\n--> 537         return super(ZMQInteractiveShell, self).run_cell(*args, **kwargs)\n        self.run_cell = <bound method ZMQInteractiveShell.run_cell of <ipykernel.zmqshell.ZMQInteractiveShell object>>\n        args = (u\"param_test5 = {'subsample':[0.6,0.7,0.75,0.8,0...es_, gsearch5.best_params_, gsearch5.best_score_\",)\n        kwargs = {'silent': False, 'store_history': True}\n    538 \n    539     def _showtraceback(self, etype, evalue, stb):\n    540         # try to preserve ordering of tracebacks and print statements\n    541         sys.stdout.flush()\n\n...........................................................................\nC:\\Users\\aniru\\Anaconda3\\lib\\site-packages\\IPython\\core\\interactiveshell.py in run_cell(self=<ipykernel.zmqshell.ZMQInteractiveShell object>, raw_cell=u\"param_test5 = {'subsample':[0.6,0.7,0.75,0.8,0...es_, gsearch5.best_params_, gsearch5.best_score_\", store_history=True, silent=False, shell_futures=True)\n   2709                 self.displayhook.exec_result = result\n   2710 \n   2711                 # Execute the user code\n   2712                 interactivity = \"none\" if silent else self.ast_node_interactivity\n   2713                 has_raised = self.run_ast_nodes(code_ast.body, cell_name,\n-> 2714                    interactivity=interactivity, compiler=compiler, result=result)\n        interactivity = 'last_expr'\n        compiler = <IPython.core.compilerop.CachingCompiler instance>\n   2715                 \n   2716                 self.last_execution_succeeded = not has_raised\n   2717 \n   2718                 # Reset this so later displayed values do not modify the\n\n...........................................................................\nC:\\Users\\aniru\\Anaconda3\\lib\\site-packages\\IPython\\core\\interactiveshell.py in run_ast_nodes(self=<ipykernel.zmqshell.ZMQInteractiveShell object>, nodelist=[<_ast.Assign object>, <_ast.Assign object>, <_ast.Expr object>, <_ast.Expr object>], cell_name='<ipython-input-280-744ccb678f56>', interactivity='last', compiler=<IPython.core.compilerop.CachingCompiler instance>, result=<ExecutionResult object at f7a5f60, execution_co..._before_exec=None error_in_exec=None result=None>)\n   2813 \n   2814         try:\n   2815             for i, node in enumerate(to_run_exec):\n   2816                 mod = ast.Module([node])\n   2817                 code = compiler(mod, cell_name, \"exec\")\n-> 2818                 if self.run_code(code, result):\n        self.run_code = <bound method ZMQInteractiveShell.run_code of <ipykernel.zmqshell.ZMQInteractiveShell object>>\n        code = <code object <module> at 000000003FAF0430, file \"<ipython-input-280-744ccb678f56>\", line 4>\n        result = <ExecutionResult object at f7a5f60, execution_co..._before_exec=None error_in_exec=None result=None>\n   2819                     return True\n   2820 \n   2821             for i, node in enumerate(to_run_interactive):\n   2822                 mod = ast.Interactive([node])\n\n...........................................................................\nC:\\Users\\aniru\\Anaconda3\\lib\\site-packages\\IPython\\core\\interactiveshell.py in run_code(self=<ipykernel.zmqshell.ZMQInteractiveShell object>, code_obj=<code object <module> at 000000003FAF0430, file \"<ipython-input-280-744ccb678f56>\", line 4>, result=<ExecutionResult object at f7a5f60, execution_co..._before_exec=None error_in_exec=None result=None>)\n   2873         outflag = 1  # happens in more places, so it's easier as default\n   2874         try:\n   2875             try:\n   2876                 self.hooks.pre_run_code_hook()\n   2877                 #rprint('Running code', repr(code_obj)) # dbg\n-> 2878                 exec(code_obj, self.user_global_ns, self.user_ns)\n        code_obj = <code object <module> at 000000003FAF0430, file \"<ipython-input-280-744ccb678f56>\", line 4>\n        self.user_global_ns = {'ABC': AdaBoostClassifier(algorithm='SAMME.R', base_est...ing_rate=1.0, n_estimators=50, random_state=None), 'AdaBoostClassifier': <class 'sklearn.ensemble.weight_boosting.AdaBoostClassifier'>, 'BaggingClassifier': <class 'sklearn.ensemble.bagging.BaggingClassifier'>, 'DTC': DecisionTreeClassifier(class_weight='balanced', ...se, random_state=11,\n            splitter='best'), 'DecisionTreeClassifier': <class 'sklearn.tree.tree.DecisionTreeClassifier'>, 'ExtraTreesClassifier': <class 'sklearn.ensemble.forest.ExtraTreesClassifier'>, 'GradientBoostingClassifier': <class 'sklearn.ensemble.gradient_boosting.GradientBoostingClassifier'>, 'GridSearchCV': <class 'sklearn.grid_search.GridSearchCV'>, 'In': ['', u'# First create the base model to tune\\net = Ex...dom search model\\net_random.fit(X_train,Y_train)', u'gsearch6.fit(X_train, Y_train)\\ngsearch6.grid_...es_, gsearch6.best_params_, gsearch6.best_score_', u'import pandas as pd', u'import numpy as np', u'import seaborn as sns', u'import xgboost as xgb', u\"import matplotlib as mlp\\nget_ipython().magic(u'matplotlib inline')\", u'df_test= pd.read_csv(r\"C:\\\\Users\\\\aniru\\\\OneDrive\\\\Desktop\\\\test.csv\")', u'df_train= pd.read_csv(r\"C:\\\\Users\\\\aniru\\\\OneDrive\\\\Desktop\\\\train.csv\")', u'df_train.head(5)', u'df_test.head(5)', u'#Saving the ID\\ntrain_id= df_train[\"id\"]\\ntest_id= df_test[\"id\"]', u'df_train.drop(\"id\", axis = 1, inplace = True)\\ndf_test.drop(\"id\", axis = 1, inplace = True)', u'import matplotlib.pyplot as plt', u\"a = list(df_train['perc_premium_paid_by_cash_credit'])\", u'max(a)', u'min(a)', u'plt.subplots(figsize=(15, 5))\\nplt.subplot(1, ...'], fit_reg=False).set_title(\"Outlier Analysis\")', u\"plt.subplot(1, 2, 2)                          ...p(df_train[(df_train['Income']>20000000)].index)\", ...], 'KFold': <class 'sklearn.model_selection._split.KFold'>, ...}\n        self.user_ns = {'ABC': AdaBoostClassifier(algorithm='SAMME.R', base_est...ing_rate=1.0, n_estimators=50, random_state=None), 'AdaBoostClassifier': <class 'sklearn.ensemble.weight_boosting.AdaBoostClassifier'>, 'BaggingClassifier': <class 'sklearn.ensemble.bagging.BaggingClassifier'>, 'DTC': DecisionTreeClassifier(class_weight='balanced', ...se, random_state=11,\n            splitter='best'), 'DecisionTreeClassifier': <class 'sklearn.tree.tree.DecisionTreeClassifier'>, 'ExtraTreesClassifier': <class 'sklearn.ensemble.forest.ExtraTreesClassifier'>, 'GradientBoostingClassifier': <class 'sklearn.ensemble.gradient_boosting.GradientBoostingClassifier'>, 'GridSearchCV': <class 'sklearn.grid_search.GridSearchCV'>, 'In': ['', u'# First create the base model to tune\\net = Ex...dom search model\\net_random.fit(X_train,Y_train)', u'gsearch6.fit(X_train, Y_train)\\ngsearch6.grid_...es_, gsearch6.best_params_, gsearch6.best_score_', u'import pandas as pd', u'import numpy as np', u'import seaborn as sns', u'import xgboost as xgb', u\"import matplotlib as mlp\\nget_ipython().magic(u'matplotlib inline')\", u'df_test= pd.read_csv(r\"C:\\\\Users\\\\aniru\\\\OneDrive\\\\Desktop\\\\test.csv\")', u'df_train= pd.read_csv(r\"C:\\\\Users\\\\aniru\\\\OneDrive\\\\Desktop\\\\train.csv\")', u'df_train.head(5)', u'df_test.head(5)', u'#Saving the ID\\ntrain_id= df_train[\"id\"]\\ntest_id= df_test[\"id\"]', u'df_train.drop(\"id\", axis = 1, inplace = True)\\ndf_test.drop(\"id\", axis = 1, inplace = True)', u'import matplotlib.pyplot as plt', u\"a = list(df_train['perc_premium_paid_by_cash_credit'])\", u'max(a)', u'min(a)', u'plt.subplots(figsize=(15, 5))\\nplt.subplot(1, ...'], fit_reg=False).set_title(\"Outlier Analysis\")', u\"plt.subplot(1, 2, 2)                          ...p(df_train[(df_train['Income']>20000000)].index)\", ...], 'KFold': <class 'sklearn.model_selection._split.KFold'>, ...}\n   2879             finally:\n   2880                 # Reset our crash handler in place\n   2881                 sys.excepthook = old_excepthook\n   2882         except SystemExit as e:\n\n...........................................................................\nC:\\Users\\aniru\\Documents\\<ipython-input-280-744ccb678f56> in <module>()\n      1 param_test5 = {'subsample':[0.6,0.7,0.75,0.8,0.85,0.9]}\n      2 gsearch5 = GridSearchCV(estimator = GradientBoostingClassifier(learning_rate=0.1, n_estimators=60,max_depth=9,min_samples_split=1200, min_samples_leaf=60, subsample=0.8, random_state=10,max_features=7),\n      3 param_grid = param_test5, scoring='roc_auc',n_jobs=4,iid=False, cv=5)\n----> 4 gsearch5.fit(stacked_validation_train, Y_test)\n      5 gsearch5.grid_scores_, gsearch5.best_params_, gsearch5.best_score_\n\n...........................................................................\nC:\\Users\\aniru\\Anaconda3\\lib\\site-packages\\sklearn\\grid_search.py in fit(self=GridSearchCV(cv=5, error_score='raise',\n       e..._jobs', refit=True, scoring='roc_auc', verbose=0), X=        XGBoost  ExtraTreesClassifier       KNN ... 0.510668      0.717574\n\n[23949 rows x 5 columns], y=array([1, 1, 1, ..., 1, 1, 0], dtype=int64))\n    833         y : array-like, shape = [n_samples] or [n_samples, n_output], optional\n    834             Target relative to X for classification or regression;\n    835             None for unsupervised learning.\n    836 \n    837         \"\"\"\n--> 838         return self._fit(X, y, ParameterGrid(self.param_grid))\n        self._fit = <bound method GridSearchCV._fit of GridSearchCV(...jobs', refit=True, scoring='roc_auc', verbose=0)>\n        X =         XGBoost  ExtraTreesClassifier       KNN ... 0.510668      0.717574\n\n[23949 rows x 5 columns]\n        y = array([1, 1, 1, ..., 1, 1, 0], dtype=int64)\n        self.param_grid = {'subsample': [0.6, 0.7, 0.75, 0.8, 0.85, 0.9]}\n    839 \n    840 \n    841 class RandomizedSearchCV(BaseSearchCV):\n    842     \"\"\"Randomized search on hyper parameters.\n\n...........................................................................\nC:\\Users\\aniru\\Anaconda3\\lib\\site-packages\\sklearn\\grid_search.py in _fit(self=GridSearchCV(cv=5, error_score='raise',\n       e..._jobs', refit=True, scoring='roc_auc', verbose=0), X=        XGBoost  ExtraTreesClassifier       KNN ... 0.510668      0.717574\n\n[23949 rows x 5 columns], y=array([1, 1, 1, ..., 1, 1, 0], dtype=int64), parameter_iterable=<sklearn.grid_search.ParameterGrid object>)\n    569         )(\n    570             delayed(_fit_and_score)(clone(base_estimator), X, y, self.scorer_,\n    571                                     train, test, self.verbose, parameters,\n    572                                     self.fit_params, return_parameters=True,\n    573                                     error_score=self.error_score)\n--> 574                 for parameters in parameter_iterable\n        parameters = undefined\n        parameter_iterable = <sklearn.grid_search.ParameterGrid object>\n    575                 for train, test in cv)\n    576 \n    577         # Out is a list of triplet: score, estimator, n_test_samples\n    578         n_fits = len(out)\n\n...........................................................................\nC:\\Users\\aniru\\Anaconda3\\lib\\site-packages\\sklearn\\externals\\joblib\\parallel.py in __call__(self=Parallel(n_jobs=4), iterable=<generator object <genexpr>>)\n    784             if pre_dispatch == \"all\" or n_jobs == 1:\n    785                 # The iterable was consumed all at once by the above for loop.\n    786                 # No need to wait for async callbacks to trigger to\n    787                 # consumption.\n    788                 self._iterating = False\n--> 789             self.retrieve()\n        self.retrieve = <bound method Parallel.retrieve of Parallel(n_jobs=4)>\n    790             # Make sure that we get a last message telling us we are done\n    791             elapsed_time = time.time() - self._start_time\n    792             self._print('Done %3i out of %3i | elapsed: %s finished',\n    793                         (len(self._output), len(self._output),\n\n---------------------------------------------------------------------------\nSub-process traceback:\n---------------------------------------------------------------------------\nValueError                                         Sun Jul 22 12:13:12 2018\nPID: 9952                Python 2.7.15: C:\\Users\\aniru\\Anaconda3\\python.exe\n...........................................................................\nC:\\Users\\aniru\\Anaconda3\\lib\\site-packages\\sklearn\\externals\\joblib\\parallel.py in __call__(self=<sklearn.externals.joblib.parallel.BatchedCalls object>)\n    126     def __init__(self, iterator_slice):\n    127         self.items = list(iterator_slice)\n    128         self._size = len(self.items)\n    129 \n    130     def __call__(self):\n--> 131         return [func(*args, **kwargs) for func, args, kwargs in self.items]\n        func = <function _fit_and_score>\n        args = (GradientBoostingClassifier(criterion='friedman_m...e=0.6, verbose=0,\n              warm_start=False),         XGBoost  ExtraTreesClassifier       KNN ... 0.510668      0.717574\n\n[23949 rows x 5 columns], array([1, 1, 1, ..., 1, 1, 0], dtype=int64), make_scorer(roc_auc_score, needs_threshold=True), array([ 4363,  4367,  4399, ..., 23946, 23947, 23948]), array([   0,    1,    2, ..., 4814, 4815, 4816]), 0, {'subsample': 0.6}, {})\n        kwargs = {'error_score': 'raise', 'return_parameters': True}\n        self.items = [(<function _fit_and_score>, (GradientBoostingClassifier(criterion='friedman_m...e=0.6, verbose=0,\n              warm_start=False),         XGBoost  ExtraTreesClassifier       KNN ... 0.510668      0.717574\n\n[23949 rows x 5 columns], array([1, 1, 1, ..., 1, 1, 0], dtype=int64), make_scorer(roc_auc_score, needs_threshold=True), array([ 4363,  4367,  4399, ..., 23946, 23947, 23948]), array([   0,    1,    2, ..., 4814, 4815, 4816]), 0, {'subsample': 0.6}, {}), {'error_score': 'raise', 'return_parameters': True})]\n    132 \n    133     def __len__(self):\n    134         return self._size\n    135 \n\n...........................................................................\nC:\\Users\\aniru\\Anaconda3\\lib\\site-packages\\sklearn\\cross_validation.py in _fit_and_score(estimator=GradientBoostingClassifier(criterion='friedman_m...e=0.6, verbose=0,\n              warm_start=False), X=        XGBoost  ExtraTreesClassifier       KNN ... 0.510668      0.717574\n\n[23949 rows x 5 columns], y=array([1, 1, 1, ..., 1, 1, 0], dtype=int64), scorer=make_scorer(roc_auc_score, needs_threshold=True), train=array([ 4363,  4367,  4399, ..., 23946, 23947, 23948]), test=array([   0,    1,    2, ..., 4814, 4815, 4816]), verbose=0, parameters={'subsample': 0.6}, fit_params={}, return_train_score=False, return_parameters=True, error_score='raise')\n   1670 \n   1671     try:\n   1672         if y_train is None:\n   1673             estimator.fit(X_train, **fit_params)\n   1674         else:\n-> 1675             estimator.fit(X_train, y_train, **fit_params)\n        estimator.fit = <bound method GradientBoostingClassifier.fit of ...=0.6, verbose=0,\n              warm_start=False)>\n        X_train =         XGBoost  ExtraTreesClassifier       KNN ... 0.510668      0.717574\n\n[19159 rows x 5 columns]\n        y_train = array([0, 0, 0, ..., 1, 1, 0], dtype=int64)\n        fit_params = {}\n   1676 \n   1677     except Exception as e:\n   1678         if error_score == 'raise':\n   1679             raise\n\n...........................................................................\nC:\\Users\\aniru\\Anaconda3\\lib\\site-packages\\sklearn\\ensemble\\gradient_boosting.py in fit(self=GradientBoostingClassifier(criterion='friedman_m...e=0.6, verbose=0,\n              warm_start=False), X=array([[0.7477383 , 0.6752161 , 1.        , 0.50... , 0.51066846, 0.71757406]],\n      dtype=float32), y=array([0, 0, 0, ..., 1, 1, 0], dtype=int64), sample_weight=array([1., 1., 1., ..., 1., 1., 1.], dtype=float32), monitor=None)\n   1029                 X_idx_sorted = np.asfortranarray(np.argsort(X, axis=0),\n   1030                                                  dtype=np.int32)\n   1031 \n   1032         # fit the boosting stages\n   1033         n_stages = self._fit_stages(X, y, y_pred, sample_weight, random_state,\n-> 1034                                     begin_at_stage, monitor, X_idx_sorted)\n        begin_at_stage = 0\n        monitor = None\n        X_idx_sorted = array([[17812,  8590,  8065,  3086,  2797],\n    ...61],\n       [12998, 10514, 19158, 12998, 13185]])\n   1035         # change shape of arrays after fit (early-stopping or additional ests)\n   1036         if n_stages != self.estimators_.shape[0]:\n   1037             self.estimators_ = self.estimators_[:n_stages]\n   1038             self.train_score_ = self.train_score_[:n_stages]\n\n...........................................................................\nC:\\Users\\aniru\\Anaconda3\\lib\\site-packages\\sklearn\\ensemble\\gradient_boosting.py in _fit_stages(self=GradientBoostingClassifier(criterion='friedman_m...e=0.6, verbose=0,\n              warm_start=False), X=array([[0.7477383 , 0.6752161 , 1.        , 0.50... , 0.51066846, 0.71757406]],\n      dtype=float32), y=array([0, 0, 0, ..., 1, 1, 0], dtype=int64), y_pred=array([[2.70665919],\n       [2.70665919],\n      ...5919],\n       [2.70665919],\n       [2.70665919]]), sample_weight=array([1., 1., 1., ..., 1., 1., 1.], dtype=float32), random_state=<mtrand.RandomState object>, begin_at_stage=0, monitor=None, X_idx_sorted=array([[17812,  8590,  8065,  3086,  2797],\n    ...61],\n       [12998, 10514, 19158, 12998, 13185]]))\n   1084                                       sample_weight[~sample_mask])\n   1085 \n   1086             # fit next stage of trees\n   1087             y_pred = self._fit_stage(i, X, y, y_pred, sample_weight,\n   1088                                      sample_mask, random_state, X_idx_sorted,\n-> 1089                                      X_csc, X_csr)\n        X_csc = None\n        X_csr = None\n   1090 \n   1091             # track deviance (= loss)\n   1092             if do_oob:\n   1093                 self.train_score_[i] = loss_(y[sample_mask],\n\n...........................................................................\nC:\\Users\\aniru\\Anaconda3\\lib\\site-packages\\sklearn\\ensemble\\gradient_boosting.py in _fit_stage(self=GradientBoostingClassifier(criterion='friedman_m...e=0.6, verbose=0,\n              warm_start=False), i=0, X=array([[0.7477383 , 0.6752161 , 1.        , 0.50... , 0.51066846, 0.71757406]],\n      dtype=float32), y=array([0, 0, 0, ..., 1, 1, 0], dtype=int64), y_pred=array([[2.70665919],\n       [2.70665919],\n      ...5919],\n       [2.70665919],\n       [2.70665919]]), sample_weight=array([0., 1., 0., ..., 1., 0., 1.]), sample_mask=array([False,  True, False, ...,  True, False,  True]), random_state=<mtrand.RandomState object>, X_idx_sorted=array([[17812,  8590,  8065,  3086,  2797],\n    ...61],\n       [12998, 10514, 19158, 12998, 13185]]), X_csc=None, X_csr=None)\n    783             if X_csc is not None:\n    784                 tree.fit(X_csc, residual, sample_weight=sample_weight,\n    785                          check_input=False, X_idx_sorted=X_idx_sorted)\n    786             else:\n    787                 tree.fit(X, residual, sample_weight=sample_weight,\n--> 788                          check_input=False, X_idx_sorted=X_idx_sorted)\n        X_idx_sorted = array([[17812,  8590,  8065,  3086,  2797],\n    ...61],\n       [12998, 10514, 19158, 12998, 13185]])\n    789 \n    790             # update tree leaves\n    791             if X_csr is not None:\n    792                 loss.update_terminal_regions(tree.tree_, X_csr, y, residual, y_pred,\n\n...........................................................................\nC:\\Users\\aniru\\Anaconda3\\lib\\site-packages\\sklearn\\tree\\tree.py in fit(self=DecisionTreeRegressor(criterion='friedman_mse', ... 0x0000000007EDE6C0>,\n           splitter='best'), X=array([[0.7477383 , 0.6752161 , 1.        , 0.50... , 0.51066846, 0.71757406]],\n      dtype=float32), y=array([-0.93741845, -0.93741845, -0.93741845, ...,  0.06258155,\n        0.06258155, -0.93741845]), sample_weight=array([0., 1., 0., ..., 1., 0., 1.]), check_input=False, X_idx_sorted=array([[17812,  8590,  8065,  3086,  2797],\n    ...61],\n       [12998, 10514, 19158, 12998, 13185]]))\n   1119 \n   1120         super(DecisionTreeRegressor, self).fit(\n   1121             X, y,\n   1122             sample_weight=sample_weight,\n   1123             check_input=check_input,\n-> 1124             X_idx_sorted=X_idx_sorted)\n        X_idx_sorted = array([[17812,  8590,  8065,  3086,  2797],\n    ...61],\n       [12998, 10514, 19158, 12998, 13185]])\n   1125         return self\n   1126 \n   1127 \n   1128 class ExtraTreeClassifier(DecisionTreeClassifier):\n\n...........................................................................\nC:\\Users\\aniru\\Anaconda3\\lib\\site-packages\\sklearn\\tree\\tree.py in fit(self=DecisionTreeRegressor(criterion='friedman_mse', ... 0x0000000007EDE6C0>,\n           splitter='best'), X=array([[0.7477383 , 0.6752161 , 1.        , 0.50... , 0.51066846, 0.71757406]],\n      dtype=float32), y=array([[-0.93741845],\n       [-0.93741845],\n    ...55],\n       [ 0.06258155],\n       [-0.93741845]]), sample_weight=array([0., 1., 0., ..., 1., 0., 1.]), check_input=False, X_idx_sorted=array([[17812,  8590,  8065,  3086,  2797],\n    ...61],\n       [12998, 10514, 19158, 12998, 13185]]))\n    237         if not 0 <= self.min_weight_fraction_leaf <= 0.5:\n    238             raise ValueError(\"min_weight_fraction_leaf must in [0, 0.5]\")\n    239         if max_depth <= 0:\n    240             raise ValueError(\"max_depth must be greater than zero. \")\n    241         if not (0 < max_features <= self.n_features_):\n--> 242             raise ValueError(\"max_features must be in (0, n_features]\")\n    243         if not isinstance(max_leaf_nodes, (numbers.Integral, np.integer)):\n    244             raise ValueError(\"max_leaf_nodes must be integral number but was \"\n    245                              \"%r\" % max_leaf_nodes)\n    246         if -1 < max_leaf_nodes < 2:\n\nValueError: max_features must be in (0, n_features]\n___________________________________________________________________________"
     ]
    }
   ],
   "source": [
    "param_test5 = {'subsample':[0.6,0.7,0.75,0.8,0.85,0.9]}\n",
    "gsearch5 = GridSearchCV(estimator = GradientBoostingClassifier(learning_rate=0.1, n_estimators=60,max_depth=9,min_samples_split=1200, min_samples_leaf=60, subsample=0.8, random_state=10,max_features=7),\n",
    "param_grid = param_test5, scoring='roc_auc',n_jobs=4,iid=False, cv=5)\n",
    "gsearch5.fit(stacked_validation_train, Y_test)\n",
    "gsearch5.grid_scores_, gsearch5.best_params_, gsearch5.best_score_"
   ]
  },
  {
   "cell_type": "code",
   "execution_count": 131,
   "metadata": {},
   "outputs": [
    {
     "name": "stdout",
     "output_type": "stream",
     "text": [
      "\n",
      "Model Report\n",
      "Accuracy : 0.9401\n",
      "AUC Score (Train): 0.845324\n",
      "CV Score : Mean - 0.8387884 | Std - 0.00664615 | Min - 0.8288048 | Max - 0.8489017\n"
     ]
    }
   ],
   "source": [
    "modelfit(gsearch5.best_estimator_, X_train,Y_train)"
   ]
  },
  {
   "cell_type": "code",
   "execution_count": 127,
   "metadata": {},
   "outputs": [
    {
     "name": "stdout",
     "output_type": "stream",
     "text": [
      "\n",
      "Model Report\n",
      "Accuracy : 0.9403\n",
      "AUC Score (Train): 0.845238\n",
      "CV Score : Mean - 0.8385501 | Std - 0.006440204 | Min - 0.8280621 | Max - 0.8470044\n"
     ]
    }
   ],
   "source": [
    "\n",
    "gbm_tuned_1 = GradientBoostingClassifier(learning_rate=0.05, n_estimators=120,max_depth=9, min_samples_split=1200,min_samples_leaf=60, subsample=0.85, random_state=10, max_features=7)\n",
    "modelfit(gbm_tuned_1, X_train,Y_train)"
   ]
  },
  {
   "cell_type": "code",
   "execution_count": 128,
   "metadata": {},
   "outputs": [
    {
     "name": "stdout",
     "output_type": "stream",
     "text": [
      "\n",
      "Model Report\n",
      "Accuracy : 0.9404\n",
      "AUC Score (Train): 0.846398\n",
      "CV Score : Mean - 0.8387306 | Std - 0.006085164 | Min - 0.8286064 | Max - 0.8464555\n"
     ]
    }
   ],
   "source": [
    "\n",
    "gbm_tuned_2 = GradientBoostingClassifier(learning_rate=0.01, n_estimators=600,max_depth=9, min_samples_split=1200,min_samples_leaf=60, subsample=0.85, random_state=10, max_features=7)\n",
    "modelfit(gbm_tuned_2, X_train,Y_train)"
   ]
  },
  {
   "cell_type": "code",
   "execution_count": 160,
   "metadata": {},
   "outputs": [
    {
     "name": "stdout",
     "output_type": "stream",
     "text": [
      "\n",
      "Model Report\n",
      "Accuracy : 0.9404\n",
      "AUC Score (Train): 0.846599\n"
     ]
    }
   ],
   "source": [
    "\n",
    "gbm_tuned_3 = GradientBoostingClassifier(learning_rate=0.005, n_estimators=1200,max_depth=9, min_samples_split=1200, min_samples_leaf=60, subsample=0.85, random_state=10, max_features=7,\n",
    "warm_start=True)\n",
    "pred_gb=[]\n",
    "pred_gb= modelfit(gbm_tuned_3, X_train,Y_train, performCV=False)"
   ]
  },
  {
   "cell_type": "code",
   "execution_count": 211,
   "metadata": {
    "collapsed": true
   },
   "outputs": [],
   "source": [
    "pred_gb_t=[]\n",
    "pred_gb_t= modelfitfin(gbm_tuned_3, X_train,Y_train, performCV=False)"
   ]
  },
  {
   "cell_type": "code",
   "execution_count": 130,
   "metadata": {},
   "outputs": [
    {
     "name": "stdout",
     "output_type": "stream",
     "text": [
      "\n",
      "Model Report\n",
      "Accuracy : 0.9403\n",
      "AUC Score (Train): 0.846468\n"
     ]
    }
   ],
   "source": [
    "\n",
    "gbm_tuned_4 = GradientBoostingClassifier(learning_rate=0.005, n_estimators=1500,max_depth=9, min_samples_split=1200, min_samples_leaf=60, subsample=0.85, random_state=10, max_features=7,\n",
    "warm_start=True)\n",
    "modelfit(gbm_tuned_4, X_train,Y_train, performCV=False)"
   ]
  },
  {
   "cell_type": "code",
   "execution_count": 110,
   "metadata": {
    "collapsed": true
   },
   "outputs": [],
   "source": [
    "#Tuning KNN"
   ]
  },
  {
   "cell_type": "code",
   "execution_count": 267,
   "metadata": {
    "collapsed": true
   },
   "outputs": [],
   "source": [
    "# creating odd list of K for KNN\n",
    "myList = list(range(1,50))\n",
    "\n",
    "# subsetting just the odd ones\n",
    "neighbors = filter(lambda x: x % 2 != 0, myList)\n",
    "\n",
    "# empty list that will hold cv scores\n",
    "cv_scores = []\n",
    "\n",
    "# perform 10-fold cross validation\n",
    "for k in neighbors:\n",
    "    knn = KNeighborsClassifier(n_neighbors=k)\n",
    "    scores = cross_val_score(knn, stacked_validation_train, Y_test, cv=10, scoring='accuracy')\n",
    "    cv_scores.append(scores.mean())"
   ]
  },
  {
   "cell_type": "code",
   "execution_count": 268,
   "metadata": {},
   "outputs": [
    {
     "name": "stdout",
     "output_type": "stream",
     "text": [
      "The optimal number of neighbors is 31\n"
     ]
    },
    {
     "data": {
      "image/png": "[encoded data removed]",
      "text/plain": [
       "<Figure size 432x288 with 1 Axes>"
      ]
     },
     "metadata": {},
     "output_type": "display_data"
    }
   ],
   "source": [
    "# changing to misclassification error\n",
    "MSE = [1 - x for x in cv_scores]\n",
    "\n",
    "# determining best k\n",
    "optimal_k = neighbors[MSE.index(min(MSE))]\n",
    "print \"The optimal number of neighbors is %d\" % optimal_k\n",
    "\n",
    "# plot misclassification error vs k\n",
    "plt.plot(neighbors, MSE)\n",
    "plt.xlabel('Number of Neighbors K')\n",
    "plt.ylabel('Misclassification Error')\n",
    "plt.show()"
   ]
  },
  {
   "cell_type": "code",
   "execution_count": 104,
   "metadata": {},
   "outputs": [
    {
     "name": "stdout",
     "output_type": "stream",
     "text": [
      "0.937408660069314\n",
      "AUC Score (Train): 0.517846\n"
     ]
    }
   ],
   "source": [
    "from sklearn.neighbors import KNeighborsClassifier\n",
    "\n",
    "# instantiate learning model (k = 3)\n",
    "knn = KNeighborsClassifier(n_neighbors=9)\n",
    "\n",
    "# fitting the model\n",
    "knn.fit(X_train, Y_train)\n",
    "\n",
    "# predict the response\n",
    "pred = knn.predict(X_test)\n",
    "\n",
    "# evaluate accuracy\n",
    "print accuracy_score(Y_test, pred)\n",
    "predictions = knn.predict_proba(X_test)[:,1]\n",
    "print(\"AUC Score (Train): %f\" % roc_auc_score(Y_test, predictions))\n",
    "pred_knn=[]\n",
    "pred_knn= predictions"
   ]
  },
  {
   "cell_type": "code",
   "execution_count": 208,
   "metadata": {
    "collapsed": true
   },
   "outputs": [],
   "source": [
    "predictions = knn.predict_proba(xgb_test)[:,1]\n",
    "#print(\"AUC Score (Train): %f\" % roc_auc_score(Y_test, predictions))\n",
    "pred_knn_t=[]\n",
    "pred_knn_t= predictions"
   ]
  },
  {
   "cell_type": "code",
   "execution_count": 270,
   "metadata": {
    "collapsed": true
   },
   "outputs": [],
   "source": [
    "from sklearn.neighbors import KNeighborsClassifier\n",
    "\n",
    "# instantiate learning model (k = 3)\n",
    "knn = KNeighborsClassifier(n_neighbors=31)\n",
    "\n",
    "# fitting the model\n",
    "knn.fit(stacked_validation_train, Y_test)\n",
    "\n",
    "# predict the response\n",
    "#pred = knn.predict(X_test)\n",
    "\n",
    "# evaluate accuracy\n",
    "#print accuracy_score(stacked_validation_train, Y_test)\n",
    "predictions = knn.predict_proba(stacked_test_train)[:,1]\n",
    "#print(\"AUC Score (Train): %f\" % roc_auc_score(Y_test, predictions))\n",
    "final_knn_=[]\n",
    "final_knn= predictions"
   ]
  },
  {
   "cell_type": "code",
   "execution_count": null,
   "metadata": {
    "collapsed": true
   },
   "outputs": [],
   "source": []
  },
  {
   "cell_type": "code",
   "execution_count": null,
   "metadata": {
    "collapsed": true
   },
   "outputs": [],
   "source": []
  },
  {
   "cell_type": "code",
   "execution_count": 198,
   "metadata": {
    "collapsed": true
   },
   "outputs": [],
   "source": [
    "opt = pd.DataFrame()\n",
    "opt['XGBoost'] = pd.Series(pred_xg)\n",
    "opt['ExtraTreesClassifier'] = pd.Series(pred_et)\n",
    "opt['KNN'] = pd.Series(pred_knn)"
   ]
  },
  {
   "cell_type": "code",
   "execution_count": 199,
   "metadata": {
    "collapsed": true
   },
   "outputs": [],
   "source": [
    "opt['GradientBoosting']= pd.Series(pred_gb)"
   ]
  },
  {
   "cell_type": "code",
   "execution_count": 200,
   "metadata": {
    "collapsed": true
   },
   "outputs": [],
   "source": [
    "opt['AdaBoost']=pd.Series(pred_ad)"
   ]
  },
  {
   "cell_type": "code",
   "execution_count": 201,
   "metadata": {
    "collapsed": true
   },
   "outputs": [],
   "source": [
    "opt['RandomForest']=pd.Series(pred_rf)"
   ]
  },
  {
   "cell_type": "code",
   "execution_count": 202,
   "metadata": {
    "collapsed": true
   },
   "outputs": [],
   "source": [
    "opt.to_csv('optimize.csv',index=False)"
   ]
  },
  {
   "cell_type": "code",
   "execution_count": 203,
   "metadata": {
    "collapsed": true
   },
   "outputs": [],
   "source": [
    "stacked_validation_train= opt.copy()"
   ]
  },
  {
   "cell_type": "code",
   "execution_count": 248,
   "metadata": {
    "collapsed": true
   },
   "outputs": [],
   "source": [
    "opt_fin= pd.DataFrame()\n",
    "opt_fin['XGBoost']= pd.Series(pred_xg_t)\n",
    "opt_fin['ExtraTreesClassifier']=pd.Series(pred_et_t)\n",
    "opt_fin['KNN'] = pd.Series(pred_knn_t)\n",
    "opt_fin['GradientBoosting']= pd.Series(pred_gb_t)"
   ]
  },
  {
   "cell_type": "code",
   "execution_count": 249,
   "metadata": {
    "collapsed": true
   },
   "outputs": [],
   "source": [
    "opt_fin['AdaBoost']=pd.Series(pred_ad_t)"
   ]
  },
  {
   "cell_type": "code",
   "execution_count": null,
   "metadata": {
    "collapsed": true
   },
   "outputs": [],
   "source": []
  },
  {
   "cell_type": "code",
   "execution_count": null,
   "metadata": {
    "collapsed": true
   },
   "outputs": [],
   "source": []
  },
  {
   "cell_type": "code",
   "execution_count": 253,
   "metadata": {
    "collapsed": true
   },
   "outputs": [],
   "source": [
    "stacked_test_train.drop(drop, axis=1, inplace=True)"
   ]
  },
  {
   "cell_type": "code",
   "execution_count": 250,
   "metadata": {
    "collapsed": true
   },
   "outputs": [],
   "source": [
    "opt_fin['RandomForest']=pd.Series(pred_rf_t)"
   ]
  },
  {
   "cell_type": "code",
   "execution_count": 251,
   "metadata": {
    "collapsed": true
   },
   "outputs": [],
   "source": [
    "opt_fin.to_csv('optimizefin.csv',index=False)"
   ]
  },
  {
   "cell_type": "code",
   "execution_count": 252,
   "metadata": {
    "collapsed": true
   },
   "outputs": [],
   "source": [
    "stacked_test_train=opt_fin.copy()"
   ]
  },
  {
   "cell_type": "code",
   "execution_count": 221,
   "metadata": {},
   "outputs": [
    {
     "data": {
      "text/plain": [
       "(23949, 5)"
      ]
     },
     "execution_count": 221,
     "metadata": {},
     "output_type": "execute_result"
    }
   ],
   "source": [
    "stacked_validation_train.shape"
   ]
  },
  {
   "cell_type": "code",
   "execution_count": 222,
   "metadata": {},
   "outputs": [
    {
     "data": {
      "text/plain": [
       "(23949L,)"
      ]
     },
     "execution_count": 222,
     "metadata": {},
     "output_type": "execute_result"
    }
   ],
   "source": [
    "Y_test.shape"
   ]
  },
  {
   "cell_type": "code",
   "execution_count": 217,
   "metadata": {
    "collapsed": true
   },
   "outputs": [],
   "source": [
    "drop = ['GradientBoosting']\n",
    "stacked_validation_train.drop(drop, axis=1, inplace=True)\n",
    "stacked_test_train.drop(drop, axis=1, inplace=True)"
   ]
  },
  {
   "cell_type": "code",
   "execution_count": 223,
   "metadata": {
    "collapsed": true
   },
   "outputs": [],
   "source": [
    "\n",
    "meta_model = make_pipeline(RobustScaler(),GradientBoostingClassifier(learning_rate=0.005, n_estimators=1200,max_depth=9, min_samples_split=1200, min_samples_leaf=60, subsample=0.85, random_state=10,\n",
    "warm_start=True))"
   ]
  },
  {
   "cell_type": "code",
   "execution_count": 224,
   "metadata": {},
   "outputs": [
    {
     "data": {
      "text/plain": [
       "Pipeline(memory=None,\n",
       "     steps=[('robustscaler', RobustScaler(copy=True, quantile_range=(25.0, 75.0), with_centering=True,\n",
       "       with_scaling=True)), ('gradientboostingclassifier', GradientBoostingClassifier(criterion='friedman_mse', init=None,\n",
       "              learning_rate=0.005, loss='deviance', max_depth=9,\n",
       "              ...        presort='auto', random_state=10, subsample=0.85, verbose=0,\n",
       "              warm_start=True))])"
      ]
     },
     "execution_count": 224,
     "metadata": {},
     "output_type": "execute_result"
    }
   ],
   "source": [
    "meta_model.fit(stacked_validation_train, Y_test)\n"
   ]
  },
  {
   "cell_type": "code",
   "execution_count": 291,
   "metadata": {
    "collapsed": true
   },
   "outputs": [],
   "source": [
    "meta_model_pred = meta_model.predict_proba(stacked_test_train)[:,1]"
   ]
  },
  {
   "cell_type": "code",
   "execution_count": 292,
   "metadata": {},
   "outputs": [
    {
     "name": "stdout",
     "output_type": "stream",
     "text": [
      "[0.98909618 0.98486418 0.6183292  ... 0.97534059 0.78968885 0.97247876]\n"
     ]
    }
   ],
   "source": [
    "print(meta_model_pred)"
   ]
  },
  {
   "cell_type": "code",
   "execution_count": null,
   "metadata": {
    "collapsed": true
   },
   "outputs": [],
   "source": []
  },
  {
   "cell_type": "code",
   "execution_count": 258,
   "metadata": {
    "collapsed": true
   },
   "outputs": [],
   "source": [
    "opt_final= pd.DataFrame()"
   ]
  },
  {
   "cell_type": "code",
   "execution_count": 259,
   "metadata": {
    "collapsed": true
   },
   "outputs": [],
   "source": [
    "opt_final['XGBoost']= pd.Series(xgb_final)"
   ]
  },
  {
   "cell_type": "code",
   "execution_count": 266,
   "metadata": {
    "collapsed": true
   },
   "outputs": [],
   "source": [
    "opt_final['ExtraTreesClassifier']=pd.Series(et_final)"
   ]
  },
  {
   "cell_type": "code",
   "execution_count": 271,
   "metadata": {
    "collapsed": true
   },
   "outputs": [],
   "source": [
    "opt_final['KNN'] = pd.Series(final_knn)"
   ]
  },
  {
   "cell_type": "code",
   "execution_count": 286,
   "metadata": {
    "collapsed": true
   },
   "outputs": [],
   "source": [
    "opt_final['GradientBoosting']= pd.Series(final_gbm)"
   ]
  },
  {
   "cell_type": "code",
   "execution_count": 287,
   "metadata": {
    "collapsed": true
   },
   "outputs": [],
   "source": [
    "opt_final['AdaBoost']=pd.Series(ada_final)"
   ]
  },
  {
   "cell_type": "code",
   "execution_count": 288,
   "metadata": {
    "collapsed": true
   },
   "outputs": [],
   "source": [
    "opt_final['RandomForest']=pd.Series(rf_final)"
   ]
  },
  {
   "cell_type": "code",
   "execution_count": 315,
   "metadata": {
    "collapsed": true
   },
   "outputs": [],
   "source": [
    "opt_final[\"ensemble2\"]=pd.Series(ensemble2)"
   ]
  },
  {
   "cell_type": "code",
   "execution_count": 316,
   "metadata": {
    "collapsed": true
   },
   "outputs": [],
   "source": [
    "opt_final[\"ensemble3\"]=pd.Series(ensemble3)"
   ]
  },
  {
   "cell_type": "code",
   "execution_count": 317,
   "metadata": {
    "collapsed": true
   },
   "outputs": [],
   "source": [
    "final_predictions= opt_final.copy()"
   ]
  },
  {
   "cell_type": "code",
   "execution_count": 318,
   "metadata": {
    "collapsed": true
   },
   "outputs": [],
   "source": [
    "opt_final.to_csv('opt_final.csv',index=False)"
   ]
  },
  {
   "cell_type": "code",
   "execution_count": 310,
   "metadata": {
    "collapsed": true
   },
   "outputs": [],
   "source": [
    "ensemble = meta_model_pred*(1/10) + final_predictions['XGBoost']*(1.5/10) + final_predictions['ExtraTreesClassifier']*(1.5/10) + final_predictions['KNN']*(1.5/10) + final_predictions['GradientBoosting']*(1.5/10) + final_predictions['AdaBoost']*(1.5/10) + final_predictions['RandomForest']*(1.5/10)"
   ]
  },
  {
   "cell_type": "code",
   "execution_count": 299,
   "metadata": {
    "collapsed": true
   },
   "outputs": [],
   "source": [
    "submission = pd.DataFrame()\n",
    "submission['Id'] = test_id\n",
    "submission['renewal'] = ensemble\n",
    "submission['Premium']= df_test['premium']\n",
    "submission.to_csv('final_submission.csv',index=False)"
   ]
  },
  {
   "cell_type": "code",
   "execution_count": 313,
   "metadata": {
    "collapsed": true
   },
   "outputs": [],
   "source": [
    "ensemble2= final_predictions['XGBoost']"
   ]
  },
  {
   "cell_type": "code",
   "execution_count": 302,
   "metadata": {
    "collapsed": true
   },
   "outputs": [],
   "source": [
    "ensemble3= meta_model_pred"
   ]
  },
  {
   "cell_type": "code",
   "execution_count": 314,
   "metadata": {},
   "outputs": [
    {
     "name": "stdout",
     "output_type": "stream",
     "text": [
      "0        0.979491\n",
      "1        0.979491\n",
      "2        0.698436\n",
      "3        0.979491\n",
      "4        0.962934\n",
      "5        0.979491\n",
      "6        0.828497\n",
      "7        0.786381\n",
      "8        0.979491\n",
      "9        0.979491\n",
      "10       0.979491\n",
      "11       0.977512\n",
      "12       0.579724\n",
      "13       0.948176\n",
      "14       0.950330\n",
      "15       0.971424\n",
      "16       0.979491\n",
      "17       0.567821\n",
      "18       0.979257\n",
      "19       0.979454\n",
      "20       0.909102\n",
      "21       0.925260\n",
      "22       0.885072\n",
      "23       0.594253\n",
      "24       0.979491\n",
      "25       0.969172\n",
      "26       0.962764\n",
      "27       0.979491\n",
      "28       0.632611\n",
      "29       0.979491\n",
      "           ...   \n",
      "34194    0.979491\n",
      "34195    0.979491\n",
      "34196    0.979491\n",
      "34197    0.979491\n",
      "34198    0.977960\n",
      "34199    0.963489\n",
      "34200    0.979491\n",
      "34201    0.979491\n",
      "34202    0.975195\n",
      "34203    0.979454\n",
      "34204    0.979491\n",
      "34205    0.979491\n",
      "34206    0.979400\n",
      "34207    0.979491\n",
      "34208    0.979491\n",
      "34209    0.979400\n",
      "34210    0.979491\n",
      "34211    0.979491\n",
      "34212    0.979400\n",
      "34213    0.977512\n",
      "34214    0.950542\n",
      "34215    0.971546\n",
      "34216    0.979332\n",
      "34217    0.733020\n",
      "34218    0.969956\n",
      "34219    0.971546\n",
      "34220    0.979491\n",
      "34221    0.969440\n",
      "34222    0.760678\n",
      "34223    0.968810\n",
      "Name: XGBoost, Length: 34224, dtype: float32\n"
     ]
    }
   ],
   "source": [
    "print(ensemble2)"
   ]
  },
  {
   "cell_type": "code",
   "execution_count": 319,
   "metadata": {},
   "outputs": [
    {
     "ename": "NameError",
     "evalue": "name 'df' is not defined",
     "output_type": "error",
     "traceback": [
      "\u001b[1;31m---------------------------------------------------------------------------\u001b[0m",
      "\u001b[1;31mNameError\u001b[0m                                 Traceback (most recent call last)",
      "\u001b[1;32m<ipython-input-319-7fd95c55c761>\u001b[0m in \u001b[0;36m<module>\u001b[1;34m()\u001b[0m\n\u001b[1;32m----> 1\u001b[1;33m \u001b[0mdf\u001b[0m\u001b[1;33m.\u001b[0m\u001b[0msort_values\u001b[0m\u001b[1;33m(\u001b[0m\u001b[0mby\u001b[0m\u001b[1;33m=\u001b[0m\u001b[1;33m[\u001b[0m\u001b[1;34m'pr'\u001b[0m\u001b[1;33m]\u001b[0m\u001b[1;33m)\u001b[0m\u001b[1;33m\u001b[0m\u001b[0m\n\u001b[0m",
      "\u001b[1;31mNameError\u001b[0m: name 'df' is not defined"
     ]
    }
   ],
   "source": []
  },
  {
   "cell_type": "code",
   "execution_count": null,
   "metadata": {
    "collapsed": true
   },
   "outputs": [],
   "source": []
  }
 ],
 "metadata": {
  "kernelspec": {
   "display_name": "Python 3",
   "language": "python",
   "name": "python3"
  },
  "language_info": {
   "codemirror_mode": {
    "name": "ipython",
    "version": 3
   },
   "file_extension": ".py",
   "mimetype": "text/x-python",
   "name": "python",
   "nbconvert_exporter": "python",
   "pygments_lexer": "ipython3",
   "version": "3.6.1"
  }
 },
 "nbformat": 4,
 "nbformat_minor": 2
}
